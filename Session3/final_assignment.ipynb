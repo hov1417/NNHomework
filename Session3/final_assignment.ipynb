{
 "cells": [
  {
   "cell_type": "markdown",
   "metadata": {},
   "source": [
    "This requires you to write a 2D GAN game. I let you to get into the topic yourself, whitout any explonations from my side. You can watch internet, read papers and tutorials (fun, fun, fun)."
   ]
  },
  {
   "cell_type": "markdown",
   "metadata": {},
   "source": [
    "### Homework"
   ]
  },
  {
   "cell_type": "markdown",
   "metadata": {
    "collapsed": true
   },
   "source": [
    "I want you to implement a simple 2D GAN game. The kind of animation, I want to see is like in [this video](https://www.youtube.com/watch?v=KeJINHjyzOU&feature=youtu.be&t=15m38s) at 15:36 or in [here](https://habrahabr.ru/post/275429/) **but in 2D**. You can google, search code at github, whatever, but the network should be based on TensoFlow.\n",
    "\n",
    "Basically you will need to come up with true distribution $P$, say mixture of gaussians (surprise me), sample some data from it. Visualize it as a heatmap. To visualize $G$ density you can fix $N$ noise vectors $\\{z_i\\} \\quad i=1,\\dots, N$ and draw a circle for each $G(z_i)$. It is also funny to visualize discriminator as a vector field (can be done with `plt.arrow`, `plt.quiver` plot). Look how it should be in the middle of [this page](http://www.inference.vc/an-alternative-update-rule-for-generative-adversarial-networks/).\n",
    "\n",
    "Please, make sure your code works if 'Run All' is pressed and it draws some animation.\n",
    "\n",
    "Good luck!"
   ]
  },
  {
   "cell_type": "code",
   "execution_count": 1,
   "metadata": {},
   "outputs": [
    {
     "name": "stderr",
     "output_type": "stream",
     "text": [
      "/home/hov/anaconda3/lib/python3.6/site-packages/h5py/__init__.py:36: FutureWarning: Conversion of the second argument of issubdtype from `float` to `np.floating` is deprecated. In future, it will be treated as `np.float64 == np.dtype(float).type`.\n",
      "  from ._conv import register_converters as _register_converters\n"
     ]
    }
   ],
   "source": [
    "import numpy as np\n",
    "import tensorflow as tf\n",
    "import matplotlib.pyplot as plt"
   ]
  },
  {
   "cell_type": "code",
   "execution_count": 2,
   "metadata": {},
   "outputs": [],
   "source": [
    "init = tf.initializers.random_uniform(-1,1)"
   ]
  },
  {
   "cell_type": "code",
   "execution_count": 3,
   "metadata": {},
   "outputs": [],
   "source": [
    "z  = tf.placeholder(tf.float32, shape=[None, 1], name=\"z\")\n",
    "\n",
    "gl1 = tf.layers.dense(z,  20, activation=tf.nn.sigmoid, name=\"gl1\", kernel_initializer=init)\n",
    "gl2 = tf.layers.dense( gl1, 100, activation=tf.nn.sigmoid, name=\"gl2\", kernel_initializer=init)\n",
    "gl3 = tf.layers.dense( gl1,  20, activation=tf.nn.sigmoid, name=\"gl3\", kernel_initializer=init)\n",
    "gen = tf.layers.dense( gl2,   1, name=\"gen\")"
   ]
  },
  {
   "cell_type": "code",
   "execution_count": 4,
   "metadata": {},
   "outputs": [],
   "source": [
    "in_X  = tf.placeholder(tf.float32, shape=[None, 1], name=\"X\")\n",
    "\n",
    "dl1 = tf.layers.dense(in_X,  20, activation=tf.nn.relu, name=\"dl1\", kernel_initializer=init)\n",
    "dl2 = tf.layers.dense( dl1, 100, activation=tf.nn.relu, name=\"dl2\", kernel_initializer=init)\n",
    "dl3 = tf.layers.dense( dl2,  20, activation=tf.nn.relu, name=\"dl3\", kernel_initializer=init)\n",
    "dis = tf.layers.dense( dl3,   1, activation=tf.nn.sigmoid, name=\"dis\")"
   ]
  },
  {
   "cell_type": "code",
   "execution_count": 5,
   "metadata": {},
   "outputs": [],
   "source": [
    "data = np.random.uniform(-5, 5, size=(10000,1))"
   ]
  },
  {
   "cell_type": "code",
   "execution_count": 12,
   "metadata": {},
   "outputs": [],
   "source": [
    "def getBatches(inputs, targets, batchsize):\n",
    "    assert len(inputs) == len(targets)\n",
    "    \n",
    "    for start_idx in range(0, len(inputs) - batchsize + 1, batchsize):\n",
    "        yield inputs[start_idx:start_idx + batchsize], targets[start_idx:start_idx + batchsize]"
   ]
  },
  {
   "cell_type": "code",
   "execution_count": 13,
   "metadata": {},
   "outputs": [],
   "source": [
    "model_path = \"./checkpoints/model.ckpt\"\n",
    "saver = tf.train.Saver(max_to_keep=3)"
   ]
  },
  {
   "cell_type": "code",
   "execution_count": 19,
   "metadata": {},
   "outputs": [],
   "source": [
    "optimzer = tf.train.AdamOptimizer()\n",
    "train_step = optimzer.minimize(loss)"
   ]
  },
  {
   "cell_type": "code",
   "execution_count": 20,
   "metadata": {
    "scrolled": true
   },
   "outputs": [
    {
     "name": "stdout",
     "output_type": "stream",
     "text": [
      "141944.150390625\n",
      "86225.20359375\n",
      "42450.02033203125\n",
      "19312.6226953125\n",
      "9593.543647460938\n",
      "6417.550439453125\n",
      "5593.926552734375\n",
      "5344.968110351562\n",
      "5145.201818847656\n",
      "4885.152761230469\n",
      "4570.961589355469\n",
      "4193.399809570313\n",
      "3778.378547363281\n",
      "3356.397180175781\n",
      "2922.0599462890623\n",
      "2479.7139392089844\n",
      "2093.3672998046877\n",
      "1786.1041259765625\n",
      "1544.1354028320313\n",
      "1343.3807196044922\n",
      "1165.4964080810546\n",
      "1000.486967163086\n",
      "867.3972717285156\n",
      "755.350576171875\n",
      "655.816764831543\n",
      "566.4680084228515\n",
      "485.26685943603513\n",
      "422.08973693847656\n",
      "372.4834729003906\n",
      "330.8180535888672\n",
      "295.6216909790039\n",
      "266.2950134277344\n",
      "241.22238861083986\n",
      "219.22816871643067\n",
      "199.65152137756348\n",
      "181.93775039672852\n",
      "165.77752143859863\n",
      "151.29915115356445\n",
      "138.34148063659669\n",
      "126.70069622039794\n",
      "116.32667293548585\n",
      "107.15544136047363\n",
      "99.07173233032226\n",
      "91.93454570770264\n",
      "85.59979560852051\n",
      "79.93249267578125\n",
      "74.81234893798828\n",
      "70.13589462280274\n",
      "65.81738513946533\n",
      "61.78960758209229\n",
      "58.00380260467529\n",
      "54.426187133789064\n",
      "51.032684841156005\n",
      "47.80517509460449\n",
      "44.73024765014648\n",
      "41.79848712921142\n",
      "39.00354196548462\n",
      "36.341077098846434\n",
      "33.80788862228393\n",
      "31.40134627342224\n",
      "29.11935618400574\n",
      "26.960244951248168\n",
      "24.922624139785768\n",
      "23.005204410552977\n",
      "21.206664400100706\n",
      "19.525339908599854\n",
      "17.95906153678894\n",
      "16.505022706985475\n",
      "15.159690766334533\n",
      "13.918758478164673\n",
      "12.777321214675903\n",
      "11.729874897003175\n",
      "10.770592756271363\n",
      "9.893442084789276\n",
      "9.092347609996796\n",
      "8.361318814754487\n",
      "7.6945679569244385\n",
      "7.086568586826324\n",
      "6.532128357887268\n",
      "6.0263611805438995\n",
      "5.564696556329727\n",
      "5.142872850894928\n",
      "4.756928427219391\n",
      "4.403260841369629\n",
      "4.07864489197731\n",
      "3.780322836637497\n",
      "3.5059913420677185\n",
      "3.2537342578172685\n",
      "3.0218401384353637\n",
      "2.808652127981186\n",
      "2.612496593594551\n",
      "2.4317353159189223\n",
      "2.2648499572277068\n",
      "2.110579336285591\n",
      "1.9678917980194093\n",
      "1.8359421336650847\n",
      "1.713926060795784\n",
      "1.6010570859909057\n",
      "1.496611678302288\n",
      "1.399956184029579\n"
     ]
    }
   ],
   "source": [
    "num_epochs = 100\n",
    "batch_size = 100\n",
    "\n",
    "with tf.Session() as sess:\n",
    "    \n",
    "    sess.run(tf.global_variables_initializer())\n",
    "#     saver.restore(sess, saver.last_checkpoints[-1])\n",
    "    \n",
    "    for epoch in range(num_epochs):\n",
    "        \n",
    "        train_err = 0\n",
    "        train_batches = 0\n",
    "\n",
    "        sess.run(tf.local_variables_initializer())\n",
    "        \n",
    "        for inputs, targets in getBatches(data, Y, batch_size):\n",
    "\n",
    "            _, train_err_batch = sess.run(\n",
    "                [train_step, loss], \n",
    "                feed_dict={in_X: inputs, out_y:targets}\n",
    "            )\n",
    "            train_err += train_err_batch\n",
    "            train_batches += 1\n",
    "#         if epoch==0:\n",
    "        print(train_err/train_batches)\n",
    "        saver.save(sess, model_path, global_step=epoch)\n"
   ]
  },
  {
   "cell_type": "code",
   "execution_count": 21,
   "metadata": {},
   "outputs": [],
   "source": [
    "l = np.linspace(-10,10,1000)[None].T"
   ]
  },
  {
   "cell_type": "code",
   "execution_count": 22,
   "metadata": {},
   "outputs": [
    {
     "data": {
      "text/plain": [
       "(1000, 1)"
      ]
     },
     "execution_count": 22,
     "metadata": {},
     "output_type": "execute_result"
    }
   ],
   "source": [
    "l.shape"
   ]
  },
  {
   "cell_type": "code",
   "execution_count": 24,
   "metadata": {},
   "outputs": [
    {
     "name": "stdout",
     "output_type": "stream",
     "text": [
      "INFO:tensorflow:Restoring parameters from ./checkpoints/model.ckpt-99\n"
     ]
    },
    {
     "name": "stderr",
     "output_type": "stream",
     "text": [
      "INFO:tensorflow:Restoring parameters from ./checkpoints/model.ckpt-99\n"
     ]
    },
    {
     "data": {
      "image/png": "[encoded data removed]",
      "text/plain": [
       "<matplotlib.figure.Figure at 0x7fc27472dcf8>"
      ]
     },
     "metadata": {},
     "output_type": "display_data"
    }
   ],
   "source": [
    "with tf.Session() as sess:\n",
    "    \n",
    "    sess.run(tf.global_variables_initializer())\n",
    "    saver.restore(sess, saver.last_checkpoints[-1])\n",
    "    sess.run(tf.local_variables_initializer())\n",
    "    \n",
    "    results = sess.run(out, feed_dict={in_X:l})\n",
    "    \n",
    "    plt.plot(l,results)\n",
    "#     plt.plot(data, Y)"
   ]
  },
  {
   "cell_type": "code",
   "execution_count": null,
   "metadata": {},
   "outputs": [],
   "source": []
  }
 ],
 "metadata": {
  "kernelspec": {
   "display_name": "Python 3",
   "language": "python",
   "name": "python3"
  },
  "language_info": {
   "codemirror_mode": {
    "name": "ipython",
    "version": 3
   },
   "file_extension": ".py",
   "mimetype": "text/x-python",
   "name": "python",
   "nbconvert_exporter": "python",
   "pygments_lexer": "ipython3",
   "version": "3.6.4"
  }
 },
 "nbformat": 4,
 "nbformat_minor": 1
}
