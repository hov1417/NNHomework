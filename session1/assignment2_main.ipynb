{
 "cells": [
  {
   "cell_type": "markdown",
   "metadata": {},
   "source": [
    "# Basic Artificial Neural Networks"
   ]
  },
  {
   "cell_type": "markdown",
   "metadata": {},
   "source": [
    "The goal of this homework is simple, yet an actual implementation may take some time :). We are going to write an Artificial Neural Network (almost) from scratch. The software design of was heavily inspired by [Torch](http://torch.ch) which is the most convenient neural network environment when the work involves defining new layers. "
   ]
  },
  {
   "cell_type": "markdown",
   "metadata": {},
   "source": [
    "This homework requires sending **\"multiple** files, please do not forget to include all the files when submit. The list of files:\n",
    "- This notebook\n",
    "- assignment1_modules.ipynb\n",
    "- assignment0_differentiation.ipynb"
   ]
  },
  {
   "cell_type": "code",
   "execution_count": 3,
   "metadata": {},
   "outputs": [],
   "source": [
    "from time import time, sleep\n",
    "import numpy as np\n",
    "import matplotlib.pyplot as plt\n",
    "from IPython import display\n",
    "import matplotlib\n",
    "import gc\n",
    "from collections import defaultdict\n",
    "from sklearn.preprocessing import OneHotEncoder\n",
    "from sklearn.metrics import accuracy_score\n",
    "\n",
    "%matplotlib inline\n",
    "\n",
    "matplotlib.style.use('ggplot')"
   ]
  },
  {
   "cell_type": "markdown",
   "metadata": {},
   "source": [
    "# Framework"
   ]
  },
  {
   "cell_type": "markdown",
   "metadata": {},
   "source": [
    "Implement everything in `Modules.ipynb`. Read all the comments thoughtfully to ease the pain. Please try not to change the prototypes.\n",
    "\n",
    "Do not forget, that each module should return AND store `output` and `gradInput`.\n",
    "\n",
    "The typical assumption is that `module.backward` is always executed after `module.forward`,\n",
    "so `output` is stored, this would be useful for `SoftMax`. "
   ]
  },
  {
   "cell_type": "markdown",
   "metadata": {},
   "source": [
    "Tech note\n",
    "--------------------------------------    \n",
    "np.multiply, np.add, np.divide, np.subtract instead of *,+,/,-\n",
    "for better memory handling\n",
    "\n",
    "Suppose you allocated a variable    \n",
    "\n",
    "    a = np.zeros(...)\n",
    "\n",
    "So, instead of\n",
    "\n",
    "    a = b + c  # will be reallocated, GC needed to free\n",
    "\n",
    "I would go for: \n",
    "\n",
    "    np.add(b,c,out = a) # puts result in `a`\n",
    "\n",
    "But it is completely up to you."
   ]
  },
  {
   "cell_type": "code",
   "execution_count": 4,
   "metadata": {},
   "outputs": [],
   "source": [
    "# Note that every time you change assignment1_modules.ipynb, \n",
    "# you should run this cell to apply your changes\n",
    "%run assignment1_modules.ipynb\n",
    "%run Utilities.ipynb"
   ]
  },
  {
   "cell_type": "markdown",
   "metadata": {},
   "source": [
    "Optimizer is implemented for you. "
   ]
  },
  {
   "cell_type": "code",
   "execution_count": 5,
   "metadata": {},
   "outputs": [],
   "source": [
    "def sgd_momentum(x, dx, config, state):\n",
    "    \"\"\"\n",
    "        This is a very ugly implementation of sgd with momentum \n",
    "        just to show an example how to store old grad in state.\n",
    "        Make this function faster if you can!\n",
    "        \n",
    "        config:\n",
    "            - momentum\n",
    "            - learning_rate\n",
    "        state:\n",
    "            - old_grad\n",
    "    \"\"\"\n",
    "    \n",
    "    # x and dx have complex structure, old dx will be stored in a simpler one\n",
    "    state.setdefault('old_grad', defaultdict(lambda: 0))\n",
    "    \n",
    "    alpha = config['learning_rate']\n",
    "    m = config['momentum']\n",
    "    \n",
    "    i = 0 \n",
    "    for cur_layer_x, cur_layer_dx in zip(x,dx):\n",
    "        for cur_x, cur_dx in zip(cur_layer_x,cur_layer_dx):\n",
    "            \n",
    "            cur_old_grad = state['old_grad'][i]\n",
    "            \n",
    "            cur_old_grad = m * cur_old_grad + alpha * cur_dx\n",
    "            \n",
    "            state['old_grad'][i] = cur_dx\n",
    "            \n",
    "            if cur_old_grad.shape[0] == 1:\n",
    "                print(1)\n",
    "                cur_x = cur_x.reshape(cur_old_grad.shape)\n",
    "            \n",
    "            np.add(cur_x, -cur_old_grad, out=cur_x)\n",
    "            i += 1"
   ]
  },
  {
   "cell_type": "markdown",
   "metadata": {},
   "source": [
    "Implement [**Adam optimizer**](https://arxiv.org/abs/1412.6980). Test and experiment it. Write your opinion.\n"
   ]
  },
  {
   "cell_type": "code",
   "execution_count": 6,
   "metadata": {},
   "outputs": [],
   "source": [
    "def adam_optimizer(x, dx, config, state):\n",
    "    \"\"\"\n",
    "        config\n",
    "            - alpha,\n",
    "            - b1,\n",
    "            - b2,\n",
    "            - eps\n",
    "    \"\"\"\n",
    "\n",
    "    alpha = config[\"alpha\"]\n",
    "    b1 = config[\"b1\"]\n",
    "    b2 = config[\"b2\"]\n",
    "    eps = config[\"eps\"]\n",
    "    \n",
    "    if not 't' in state:\n",
    "        state['t'] = 0\n",
    "    if not 'b1t' in state:\n",
    "        state['b1t'] = 1\n",
    "    if not 'b2t' in state:\n",
    "        state['b2t'] = 1\n",
    "    if not 'm' in state:\n",
    "        state['m'] = defaultdict(lambda: 0)\n",
    "    if not 'v' in state:\n",
    "        state['v'] = defaultdict(lambda: 0)\n",
    "\n",
    "    state['t'] = state['t'] + 1\n",
    "    state['b1t'] = state['b1t'] * b1\n",
    "    state['b2t'] = state['b2t'] * b2\n",
    "\n",
    "    i = 0 \n",
    "    for cur_layer_x, cur_layer_dx in zip(x,dx): \n",
    "        for cur_x, cur_dx in zip(cur_layer_x, cur_layer_dx):\n",
    "\n",
    "            state['m'][i] = b1 * state['m'][i] + (1 - b1) * cur_dx\n",
    "            state['v'][i] = b2 * state['v'][i] + (1 - b2) * np.square(cur_dx)\n",
    "\n",
    "            _m = state['m'][i] / (1 - state['b1t'])\n",
    "            _v = state['v'][i] / (1 - state['b2t'])\n",
    "\n",
    "            np.subtract(cur_x, alpha*_m/(np.sqrt(_v) + eps), out=cur_x)\n",
    "\n",
    "            i += 1"
   ]
  },
  {
   "cell_type": "markdown",
   "metadata": {},
   "source": [
    "# Toy example"
   ]
  },
  {
   "cell_type": "markdown",
   "metadata": {},
   "source": [
    "Use this example to debug your code, start with logistic regression and then test other layers. You do not need to change anything here. This code is provided for you to test the layers. Also it is easy to use this code in MNIST task."
   ]
  },
  {
   "cell_type": "code",
   "execution_count": 7,
   "metadata": {
    "scrolled": false
   },
   "outputs": [
    {
     "data": {
      "image/png": "[encoded data removed]",
      "text/plain": [
       "<matplotlib.figure.Figure at 0x2476ed4d7f0>"
      ]
     },
     "metadata": {},
     "output_type": "display_data"
    }
   ],
   "source": [
    "# Generate some data\n",
    "N = 500\n",
    "\n",
    "X1 = np.random.randn(N,2) + np.array([2,2])\n",
    "X2 = np.random.randn(N,2) + np.array([-2,-2])\n",
    "X3 = np.random.randn(N,2) + np.array([-4, 4])\n",
    "\n",
    "Y = np.concatenate([2*np.ones(N),np.ones(N),np.zeros(N)])[:,None]\n",
    "\n",
    "enc = OneHotEncoder()\n",
    "Y = np.array(enc.fit_transform(Y.reshape(-1, 1)).todense())\n",
    "\n",
    "X = np.vstack([X1,X2,X3])\n",
    "plt.scatter(X[:,0],X[:,1], c = Y, edgecolors= 'none');"
   ]
  },
  {
   "cell_type": "code",
   "execution_count": 8,
   "metadata": {},
   "outputs": [],
   "source": [
    "# batch generator\n",
    "def get_batches(X, Y, batch_size):\n",
    "    n_samples = X.shape[0]\n",
    "        \n",
    "    # Shuffle at the start of epoch\n",
    "    indices = np.arange(n_samples)\n",
    "    np.random.shuffle(indices)\n",
    "    \n",
    "    for start in range(0, n_samples, batch_size):\n",
    "        end = min(start + batch_size, n_samples)\n",
    "        \n",
    "        batch_idx = indices[start:end]\n",
    "    \n",
    "        yield X[batch_idx], Y[batch_idx]"
   ]
  },
  {
   "cell_type": "markdown",
   "metadata": {},
   "source": [
    "Define a **logistic regression** for debugging. "
   ]
  },
  {
   "cell_type": "code",
   "execution_count": 9,
   "metadata": {},
   "outputs": [],
   "source": [
    "%run assignment1_modules.ipynb"
   ]
  },
  {
   "cell_type": "code",
   "execution_count": 10,
   "metadata": {},
   "outputs": [
    {
     "name": "stdout",
     "output_type": "stream",
     "text": [
      "Linear 2 -> 4\n",
      "ReLU\n",
      "BatchMeanNormalization\n",
      "Linear 4 -> 100\n",
      "ReLU\n",
      "BatchMeanNormalization\n",
      "Dropout\n",
      "Linear 100 -> 4\n",
      "ReLU\n",
      "BatchMeanNormalization\n",
      "Linear 4 -> 3\n",
      "SoftMax\n",
      "\n"
     ]
    }
   ],
   "source": [
    "criterion = MSECriterion()\n",
    "\n",
    "net = Sequential()\n",
    "\n",
    "net.add(Linear(2, 4))\n",
    "net.add(ReLU())\n",
    "net.add(BatchMeanSubtraction())\n",
    "\n",
    "net.add(Linear(4, 100))\n",
    "net.add(ReLU())\n",
    "net.add(BatchMeanSubtraction())\n",
    "net.add(Dropout())\n",
    "\n",
    "\n",
    "net.add(Linear(100, 4))\n",
    "net.add(ReLU())\n",
    "net.add(BatchMeanSubtraction())\n",
    "net.add(Linear(4, 3))\n",
    "net.add(SoftMax())\n",
    "\n",
    "print(net)"
   ]
  },
  {
   "cell_type": "markdown",
   "metadata": {},
   "source": [
    "Start with batch_size = 1000 to make sure every step lowers the loss, then try stochastic version."
   ]
  },
  {
   "cell_type": "code",
   "execution_count": 11,
   "metadata": {},
   "outputs": [
    {
     "data": {
      "text/plain": [
       "3535"
      ]
     },
     "execution_count": 11,
     "metadata": {},
     "output_type": "execute_result"
    }
   ],
   "source": [
    "gc.collect()"
   ]
  },
  {
   "cell_type": "code",
   "execution_count": 12,
   "metadata": {},
   "outputs": [],
   "source": [
    "# Iptimizer params\n",
    "optimizer_config = {'learning_rate' : 1, 'momentum': 0.9}\n",
    "optimizer_state = {}\n",
    "adam_config = { 'alpha': 0.001, 'b1': 0.9, 'b2': 0.999, 'eps': 1e-8 }\n",
    "adam_state = {}\n",
    "\n",
    "n_epoch = 20\n",
    "batch_size = 500"
   ]
  },
  {
   "cell_type": "markdown",
   "metadata": {},
   "source": [
    "### Train"
   ]
  },
  {
   "cell_type": "markdown",
   "metadata": {},
   "source": [
    "Basic training loop. Examine it."
   ]
  },
  {
   "cell_type": "code",
   "execution_count": 13,
   "metadata": {
    "scrolled": false
   },
   "outputs": [
    {
     "data": {
      "image/png": "[encoded data removed]",
      "text/plain": [
       "<matplotlib.figure.Figure at 0x2477132ea58>"
      ]
     },
     "metadata": {},
     "output_type": "display_data"
    },
    {
     "name": "stdout",
     "output_type": "stream",
     "text": [
      "Current loss: 0.174931\n"
     ]
    }
   ],
   "source": [
    "loss_history = []\n",
    "\n",
    "for i in range(n_epoch):\n",
    "    for x_batch, y_batch in get_batches(X, Y, batch_size):\n",
    "        net.zeroGradParameters()\n",
    "        \n",
    "        # Forward\n",
    "        predictions = net.forward(x_batch)\n",
    "        loss = criterion.forward(predictions, y_batch)\n",
    "    \n",
    "        # Backward\n",
    "        dp = criterion.backward(predictions, y_batch)\n",
    "        net.backward(x_batch, dp)\n",
    "        \n",
    "        # Update weights\n",
    "        sgd_momentum(net.getParameters(), \n",
    "                     net.getGradParameters(), \n",
    "                     optimizer_config,\n",
    "                     optimizer_state)      \n",
    "        \n",
    "        loss_history.append(loss)\n",
    "\n",
    "    # Visualize\n",
    "    display.clear_output(wait=True)\n",
    "    plt.figure(figsize=(8, 6))\n",
    "        \n",
    "    plt.title(\"Training loss\")\n",
    "    plt.xlabel(\"#iteration\")\n",
    "    plt.ylabel(\"loss\")\n",
    "    plt.plot(loss_history, 'b')\n",
    "    plt.show()\n",
    "    print('Current loss: %f' % loss)    "
   ]
  },
  {
   "cell_type": "code",
   "execution_count": 14,
   "metadata": {},
   "outputs": [],
   "source": [
    "criterion = CrossEntropyCriterion()\n",
    "\n",
    "net = Sequential()\n",
    "\n",
    "net.add(Linear(2, 4))\n",
    "net.add(ReLU())\n",
    "net.add(BatchMeanSubtraction())\n",
    "\n",
    "net.add(Linear(4, 100))\n",
    "net.add(ReLU())\n",
    "net.add(BatchMeanSubtraction())\n",
    "\n",
    "net.add(Linear(100, 4))\n",
    "net.add(ReLU())\n",
    "net.add(BatchMeanSubtraction())\n",
    "\n",
    "net.add(Linear(4, 3))\n",
    "net.add(SoftMax())"
   ]
  },
  {
   "cell_type": "code",
   "execution_count": 15,
   "metadata": {},
   "outputs": [],
   "source": [
    "n_epoch = 40"
   ]
  },
  {
   "cell_type": "code",
   "execution_count": 16,
   "metadata": {},
   "outputs": [
    {
     "data": {
      "image/png": "[encoded data removed]",
      "text/plain": [
       "<matplotlib.figure.Figure at 0x24772556fd0>"
      ]
     },
     "metadata": {},
     "output_type": "display_data"
    },
    {
     "name": "stdout",
     "output_type": "stream",
     "text": [
      "Current loss: 0.765123\n"
     ]
    }
   ],
   "source": [
    "loss_history = []\n",
    "\n",
    "for i in range(n_epoch):\n",
    "    for x_batch, y_batch in get_batches(X, Y, batch_size):\n",
    "        net.zeroGradParameters()\n",
    "        \n",
    "        # Forward\n",
    "        predictions = net.forward(x_batch)\n",
    "        loss = criterion.forward(predictions, y_batch)\n",
    "    \n",
    "        # Backward\n",
    "        dp = criterion.backward(predictions, y_batch)\n",
    "        net.backward(x_batch, dp)\n",
    "        \n",
    "        # Update weights\n",
    "        adam_optimizer(net.getParameters(), \n",
    "                       net.getGradParameters(), \n",
    "                       adam_config,\n",
    "                       adam_state)      \n",
    "        \n",
    "        loss_history.append(loss)\n",
    "\n",
    "    # Visualize\n",
    "    display.clear_output(wait=True)\n",
    "    plt.figure(figsize=(8, 6))\n",
    "        \n",
    "    plt.title(\"Training loss\")\n",
    "    plt.xlabel(\"#iteration\")\n",
    "    plt.ylabel(\"loss\")\n",
    "    plt.plot(loss_history, 'b')\n",
    "    plt.show()\n",
    "    print('Current loss: %f' % loss)  "
   ]
  },
  {
   "cell_type": "code",
   "execution_count": 17,
   "metadata": {},
   "outputs": [],
   "source": [
    "net.evaluate()"
   ]
  },
  {
   "cell_type": "code",
   "execution_count": 18,
   "metadata": {},
   "outputs": [
    {
     "data": {
      "text/plain": [
       "array([[0.05384578, 0.10415598, 0.84199824]])"
      ]
     },
     "execution_count": 18,
     "metadata": {},
     "output_type": "execute_result"
    }
   ],
   "source": [
    "net.forward(np.array([[5,10]]))"
   ]
  },
  {
   "cell_type": "code",
   "execution_count": 19,
   "metadata": {},
   "outputs": [
    {
     "name": "stdout",
     "output_type": "stream",
     "text": [
      "(0.0021776978485422553, 0.0029028015019472164)\n",
      "(-1.0369659058531957, -1.037368559440588)\n",
      "(0.027854955527007855, 0.027745539162848942)\n"
     ]
    }
   ],
   "source": [
    "for i in range(3):\n",
    "    print(gradientChecking(net, 0, criterion, x_batch, y_batch, 0, (i,1)))"
   ]
  },
  {
   "cell_type": "markdown",
   "metadata": {},
   "source": [
    "# Digit classification "
   ]
  },
  {
   "cell_type": "markdown",
   "metadata": {},
   "source": [
    "We are using [MNIST](http://yann.lecun.com/exdb/mnist/) as our dataset. Lets start with [cool visualization](http://scs.ryerson.ca/~aharley/vis/). The most beautiful demo is the second one, if you are not familiar with convolutions you can return to it in several lectures. "
   ]
  },
  {
   "cell_type": "code",
   "execution_count": 20,
   "metadata": {},
   "outputs": [],
   "source": [
    "import os\n",
    "from sklearn.datasets import fetch_mldata\n",
    "\n",
    "# Fetch MNIST dataset and create a local copy.\n",
    "if os.path.exists('mnist.npz'):\n",
    "    with np.load('mnist.npz', 'r') as data:\n",
    "        X = data['X']\n",
    "        y = data['y']\n",
    "else:\n",
    "    mnist = fetch_mldata(\"mnist-original\")\n",
    "    X, y = mnist.data / 255.0, mnist.target\n",
    "    np.savez('mnist.npz', X=X, y=y)"
   ]
  },
  {
   "cell_type": "code",
   "execution_count": 21,
   "metadata": {},
   "outputs": [
    {
     "data": {
      "text/plain": [
       "6"
      ]
     },
     "execution_count": 21,
     "metadata": {},
     "output_type": "execute_result"
    }
   ],
   "source": [
    "gc.collect()"
   ]
  },
  {
   "cell_type": "markdown",
   "metadata": {},
   "source": [
    "One-hot encode the labels first."
   ]
  },
  {
   "cell_type": "code",
   "execution_count": 22,
   "metadata": {},
   "outputs": [],
   "source": [
    "# with np.load('mnist.npz', 'r') as data:\n",
    "#     print(data.items())"
   ]
  },
  {
   "cell_type": "code",
   "execution_count": 23,
   "metadata": {},
   "outputs": [],
   "source": [
    "one_hot_y = enc.fit_transform(y.reshape(-1, 1)).todense()"
   ]
  },
  {
   "cell_type": "markdown",
   "metadata": {},
   "source": [
    "- **Compare** `ReLU`, `ELU`, `LeakyReLU`, `SoftPlus` activation functions. \n",
    "You would better pick the best optimizer params for each of them, but it is overkill for now. Use an architecture of your choice for the comparison.\n",
    "- **Try** inserting `BatchMeanSubtraction` between `Linear` module and activation functions.\n",
    "- Plot the losses both from activation functions comparison and `BatchMeanSubtraction` comparison on one plot. Please find a scale (log?) when the lines are distinguishable, do not forget about naming the axes, the plot should be goodlooking.\n",
    "- Hint: logloss for MNIST should be around 0.5. "
   ]
  },
  {
   "cell_type": "code",
   "execution_count": 24,
   "metadata": {},
   "outputs": [],
   "source": [
    "one_hot_y = np.asarray(one_hot_y)"
   ]
  },
  {
   "cell_type": "code",
   "execution_count": 26,
   "metadata": {},
   "outputs": [],
   "source": [
    "ind = np.arange(one_hot_y.shape[0])\n",
    "np.random.shuffle(ind)\n",
    "X = X[ind]\n",
    "y = y[ind]\n",
    "one_hot_y = one_hot_y[ind]"
   ]
  },
  {
   "cell_type": "code",
   "execution_count": 27,
   "metadata": {},
   "outputs": [
    {
     "name": "stdout",
     "output_type": "stream",
     "text": [
      "Linear 784 -> 1000\n",
      "ReLU\n",
      "BatchMeanNormalization\n",
      "Linear 1000 -> 100\n",
      "ReLU\n",
      "BatchMeanNormalization\n",
      "Linear 100 -> 100\n",
      "ReLU\n",
      "BatchMeanNormalization\n",
      "Linear 100 -> 100\n",
      "ReLU\n",
      "BatchMeanNormalization\n",
      "Linear 100 -> 10\n",
      "SoftMax\n",
      "\n"
     ]
    }
   ],
   "source": [
    "criterion = CrossEntropyCriterion()\n",
    "\n",
    "net = Sequential()\n",
    "net.add(Linear(784, 1000))\n",
    "net.add(ReLU())\n",
    "net.add(BatchMeanSubtraction())\n",
    "net.add(Linear(1000, 100))\n",
    "net.add(ReLU())\n",
    "net.add(BatchMeanSubtraction())\n",
    "net.add(Linear(100, 100))\n",
    "net.add(ReLU())\n",
    "net.add(BatchMeanSubtraction())\n",
    "net.add(Linear(100, 100))\n",
    "net.add(ReLU())\n",
    "net.add(BatchMeanSubtraction())\n",
    "net.add(Linear(100, 10))\n",
    "net.add(SoftMax())\n",
    "\n",
    "print(net)"
   ]
  },
  {
   "cell_type": "markdown",
   "metadata": {},
   "source": [
    "### Train"
   ]
  },
  {
   "cell_type": "code",
   "execution_count": 28,
   "metadata": {},
   "outputs": [],
   "source": [
    "# Iptimizer params\n",
    "optimizer_config = { 'alpha': 0.001, 'b1': 0.9, 'b2': 0.999, 'eps': 1e-8 }\n",
    "optimizer_state = {}\n",
    "\n",
    "# Looping params\n",
    "n_epoch = 20\n",
    "batch_size = 1000"
   ]
  },
  {
   "cell_type": "code",
   "execution_count": 29,
   "metadata": {
    "scrolled": false
   },
   "outputs": [
    {
     "data": {
      "image/png": "[encoded data removed]",
      "text/plain": [
       "<matplotlib.figure.Figure at 0x24700be1978>"
      ]
     },
     "metadata": {},
     "output_type": "display_data"
    },
    {
     "name": "stdout",
     "output_type": "stream",
     "text": [
      "Current loss: 0.228379\n"
     ]
    }
   ],
   "source": [
    "loss_history = []\n",
    "\n",
    "for i in range(n_epoch):\n",
    "    for x_batch, y_batch in get_batches(X[:10000], one_hot_y[:10000], batch_size):\n",
    "        net.zeroGradParameters()\n",
    "        \n",
    "        # Forward\n",
    "        predictions = net.forward(x_batch)\n",
    "        loss = criterion.forward(predictions, y_batch)\n",
    "    \n",
    "        # Backward\n",
    "        dp = criterion.backward(predictions, y_batch)\n",
    "        net.backward(x_batch, dp)\n",
    "        \n",
    "        # Update weights\n",
    "        adam_optimizer(net.getParameters(), \n",
    "                     net.getGradParameters(), \n",
    "                     optimizer_config,\n",
    "                     optimizer_state)      \n",
    "        \n",
    "        loss_history.append(loss)\n",
    "\n",
    "    # Visualize\n",
    "    display.clear_output(wait=True)\n",
    "    plt.figure(figsize=(8, 6))\n",
    "        \n",
    "    plt.title(\"Training loss\")\n",
    "    plt.xlabel(\"#iteration\")\n",
    "    plt.ylabel(\"loss\")\n",
    "    plt.plot(loss_history, 'b')\n",
    "    plt.show()\n",
    "    \n",
    "    print('Current loss: %f' % loss)    "
   ]
  },
  {
   "cell_type": "code",
   "execution_count": 30,
   "metadata": {},
   "outputs": [],
   "source": [
    "pred = np.argmax(net.forward(X), axis=1)"
   ]
  },
  {
   "cell_type": "code",
   "execution_count": 34,
   "metadata": {},
   "outputs": [
    {
     "data": {
      "text/plain": [
       "19682"
      ]
     },
     "execution_count": 34,
     "metadata": {},
     "output_type": "execute_result"
    }
   ],
   "source": [
    "gc.collect()"
   ]
  },
  {
   "cell_type": "markdown",
   "metadata": {},
   "source": [
    "Write your personal opinion on the activation functions, think about computation times too. Does `BatchMeanSubtraction` help?"
   ]
  },
  {
   "cell_type": "markdown",
   "metadata": {
    "collapsed": true
   },
   "source": [
    "$\\eta$"
   ]
  },
  {
   "cell_type": "markdown",
   "metadata": {},
   "source": [
    "**Finally**, use all your knowledge to build a super cool model on this dataset, do not forget to split dataset into train and validation. Use **dropout** to prevent overfitting, play with **learning rate decay**. You can use **data augmentation** such as rotations, translations to boost your score. Use your knowledge and imagination to train a model. "
   ]
  },
  {
   "cell_type": "markdown",
   "metadata": {},
   "source": [
    "Print here your accuracy. It should be around 90%."
   ]
  },
  {
   "cell_type": "code",
   "execution_count": 32,
   "metadata": {},
   "outputs": [
    {
     "data": {
      "text/plain": [
       "0.9366571428571429"
      ]
     },
     "execution_count": 32,
     "metadata": {},
     "output_type": "execute_result"
    }
   ],
   "source": [
    "accuracy_score(y, pred)"
   ]
  },
  {
   "cell_type": "markdown",
   "metadata": {},
   "source": [
    "  "
   ]
  },
  {
   "cell_type": "code",
   "execution_count": 84,
   "metadata": {},
   "outputs": [
    {
     "name": "stdout",
     "output_type": "stream",
     "text": [
      "Linear 784 -> 1000\n",
      "ReLU\n",
      "BatchMeanNormalization\n",
      "Linear 1000 -> 100\n",
      "ReLU\n",
      "BatchMeanNormalization\n",
      "Linear 100 -> 100\n",
      "ReLU\n",
      "BatchMeanNormalization\n",
      "Linear 100 -> 100\n",
      "ReLU\n",
      "BatchMeanNormalization\n",
      "Linear 100 -> 10\n",
      "SoftMax\n",
      "\n"
     ]
    }
   ],
   "source": [
    "criterion = CrossEntropyCriterion()\n",
    "\n",
    "net = Sequential()\n",
    "net.add(Linear(784, 1000))\n",
    "net.add(ReLU())\n",
    "net.add(BatchMeanSubtraction())\n",
    "net.add(Linear(1000, 100))\n",
    "net.add(ReLU())\n",
    "net.add(BatchMeanSubtraction())\n",
    "net.add(Linear(100, 100))\n",
    "net.add(ReLU())\n",
    "net.add(BatchMeanSubtraction())\n",
    "net.add(Linear(100, 100))\n",
    "net.add(ReLU())\n",
    "net.add(BatchMeanSubtraction())\n",
    "net.add(Linear(100, 10))\n",
    "net.add(SoftMax())\n",
    "\n",
    "print(net)"
   ]
  },
  {
   "cell_type": "code",
   "execution_count": 86,
   "metadata": {},
   "outputs": [
    {
     "data": {
      "image/png": "[encoded data removed]",
      "text/plain": [
       "<matplotlib.figure.Figure at 0x24700b768d0>"
      ]
     },
     "metadata": {},
     "output_type": "display_data"
    },
    {
     "name": "stdout",
     "output_type": "stream",
     "text": [
      "Current loss: 0.020386\n"
     ]
    }
   ],
   "source": [
    "# Iptimizer params\n",
    "optimizer_config = { 'alpha': 0.001, 'b1': 0.9, 'b2': 0.999, 'eps': 1e-8 }\n",
    "optimizer_state = {}\n",
    "\n",
    "# Looping params\n",
    "n_epoch = 20\n",
    "batch_size = 1000\n",
    "\n",
    "loss_history = []\n",
    "\n",
    "for i in range(n_epoch):\n",
    "    for x_batch, y_batch in get_batches(X[:60000], one_hot_y[:60000], batch_size):\n",
    "        net.zeroGradParameters()\n",
    "        \n",
    "        # Forward\n",
    "        predictions = net.forward(x_batch)\n",
    "        loss = criterion.forward(predictions, y_batch)\n",
    "    \n",
    "        # Backward\n",
    "        dp = criterion.backward(predictions, y_batch)\n",
    "        net.backward(x_batch, dp)\n",
    "        \n",
    "        # Update weights\n",
    "        adam_optimizer(net.getParameters(), \n",
    "                     net.getGradParameters(), \n",
    "                     optimizer_config,\n",
    "                     optimizer_state)      \n",
    "        \n",
    "        loss_history.append(loss)\n",
    "\n",
    "    # Visualize\n",
    "    display.clear_output(wait=True)\n",
    "    plt.figure(figsize=(8, 6))\n",
    "        \n",
    "    plt.title(\"Training loss\")\n",
    "    plt.xlabel(\"#iteration\")\n",
    "    plt.ylabel(\"loss\")\n",
    "    plt.plot(loss_history, 'b')\n",
    "    plt.show()\n",
    "    \n",
    "    print('Current loss: %f' % loss)"
   ]
  },
  {
   "cell_type": "code",
   "execution_count": 87,
   "metadata": {},
   "outputs": [
    {
     "name": "stdout",
     "output_type": "stream",
     "text": [
      "0.9783\n"
     ]
    }
   ],
   "source": [
    "pred = np.argmax(net.forward(X[60000:]), axis=1)\n",
    "print(accuracy_score(y[60000:], pred))"
   ]
  },
  {
   "cell_type": "markdown",
   "metadata": {},
   "source": [
    "# Autoencoder (optional) "
   ]
  },
  {
   "cell_type": "markdown",
   "metadata": {},
   "source": [
    "This part is **OPTIONAL**, you may not do it. It will not be scored, but it is easy and interesting."
   ]
  },
  {
   "cell_type": "markdown",
   "metadata": {},
   "source": [
    "Now we are going to build a cool model, named autoencoder. The aim is simple: **encode** the data to a lower dimentional representation. Why? Well, if we can **decode** this representation back to original data with \"small\" reconstuction loss then we can store only compressed representation saving memory. But the most important thing is -- we can reuse trained autoencoder for classification. \n",
    "![](img/autoencoder.png)\n",
    "\n",
    "Picture from this [site](http://multithreaded.stitchfix.com/blog/2015/09/17/deep-style/)."
   ]
  },
  {
   "cell_type": "markdown",
   "metadata": {},
   "source": [
    "Now implement an autoencoder:\n",
    "\n",
    "Build it such that dimetionality inside autoencoder changes like that: \n",
    "\n",
    "$$784 \\text{ (data)} -> 512 -> 256 -> 128 -> 30 -> 128 -> 256 -> 512 -> 784$$\n",
    "\n",
    "Use **MSECriterion** to score the reconstruction. Use **BatchMeanNormalization** between **Linear** and **ReLU**. You may not use nonlinearity in bottleneck layer.\n",
    "\n",
    "You may train it for 9 epochs with batch size = 256, initial lr = 0.1 droping by a factor of 2 every 3 epochs. The reconstruction loss should be about 6.0 and visual quality decent already.\n",
    "Do not spend time on changing architecture, they are more or less the same. "
   ]
  },
  {
   "cell_type": "code",
   "execution_count": 193,
   "metadata": {},
   "outputs": [
    {
     "name": "stdout",
     "output_type": "stream",
     "text": [
      "Linear 784 -> 512\n",
      "Dropout\n",
      "ReLU\n",
      "BatchMeanNormalization\n",
      "Linear 512 -> 256\n",
      "Dropout\n",
      "ReLU\n",
      "BatchMeanNormalization\n",
      "Linear 256 -> 128\n",
      "Dropout\n",
      "ReLU\n",
      "BatchMeanNormalization\n",
      "Linear 128 -> 30\n",
      "Dropout\n",
      "ReLU\n",
      "BatchMeanNormalization\n",
      "Linear 30 -> 128\n",
      "Dropout\n",
      "ReLU\n",
      "BatchMeanNormalization\n",
      "Linear 128 -> 256\n",
      "Dropout\n",
      "ReLU\n",
      "BatchMeanNormalization\n",
      "Linear 256 -> 512\n",
      "Dropout\n",
      "ReLU\n",
      "BatchMeanNormalization\n",
      "Linear 512 -> 784\n",
      "SoftMax\n",
      "\n"
     ]
    }
   ],
   "source": [
    "criterion = MSECriterion()\n",
    "\n",
    "net = Sequential()\n",
    "net.add(Linear(784, 512))\n",
    "net.add(Dropout())\n",
    "net.add(ReLU())\n",
    "\n",
    "net.add(BatchMeanSubtraction())\n",
    "net.add(Linear(512, 256))\n",
    "net.add(Dropout())\n",
    "net.add(ReLU())\n",
    "\n",
    "net.add(BatchMeanSubtraction())\n",
    "net.add(Linear(256, 128))\n",
    "net.add(Dropout())\n",
    "net.add(ReLU())\n",
    "\n",
    "net.add(BatchMeanSubtraction())\n",
    "net.add(Linear(128, 30))\n",
    "net.add(Dropout())\n",
    "net.add(ReLU())\n",
    "\n",
    "net.add(BatchMeanSubtraction())\n",
    "net.add(Linear(30, 128))\n",
    "net.add(Dropout())\n",
    "net.add(ReLU())\n",
    "\n",
    "net.add(BatchMeanSubtraction())\n",
    "net.add(Linear(128, 256))\n",
    "net.add(Dropout())\n",
    "net.add(ReLU())\n",
    "\n",
    "net.add(BatchMeanSubtraction())\n",
    "net.add(Linear(256, 512))\n",
    "net.add(Dropout())\n",
    "net.add(ReLU())\n",
    "\n",
    "net.add(BatchMeanSubtraction())\n",
    "net.add(Linear(512, 784))\n",
    "\n",
    "net.add(SoftMax())\n",
    "\n",
    "print(net)"
   ]
  },
  {
   "cell_type": "code",
   "execution_count": 197,
   "metadata": {},
   "outputs": [],
   "source": [
    "optimizer_config = { 'alpha': 0.00001, 'b1': 0.9, 'b2': 0.999, 'eps': 1e-8 }\n",
    "optimizer_state = {}"
   ]
  },
  {
   "cell_type": "code",
   "execution_count": 198,
   "metadata": {},
   "outputs": [
    {
     "data": {
      "image/png": "[encoded data removed]",
      "text/plain": [
       "<matplotlib.figure.Figure at 0x2477130fe48>"
      ]
     },
     "metadata": {},
     "output_type": "display_data"
    },
    {
     "name": "stdout",
     "output_type": "stream",
     "text": [
      "Current loss: 45.188397\n"
     ]
    }
   ],
   "source": [
    "n_epoch = 9\n",
    "batch_size = 256\n",
    "\n",
    "loss_history = []\n",
    "\n",
    "for i in range(n_epoch):\n",
    "    for x_batch, y_batch in get_batches(X[:1000], X[:1000], batch_size):\n",
    "        net.zeroGradParameters()\n",
    "        \n",
    "        if len(loss_history)%2 == 0:\n",
    "            net.evaluate()\n",
    "        else:\n",
    "            net.training()\n",
    "        \n",
    "        # Forward\n",
    "        predictions = net.forward(x_batch)\n",
    "        loss = criterion.forward(predictions, y_batch)\n",
    "    \n",
    "        # Backward\n",
    "        dp = criterion.backward(predictions, y_batch)\n",
    "        net.backward(x_batch, dp)\n",
    "        \n",
    "        # Update weights\n",
    "        adam_optimizer(net.getParameters(), \n",
    "                     net.getGradParameters(), \n",
    "                     optimizer_config,\n",
    "                     optimizer_state)      \n",
    "        \n",
    "        loss_history.append(loss)\n",
    "\n",
    "    # Visualize\n",
    "    display.clear_output(wait=True)\n",
    "    plt.figure(figsize=(8, 6))\n",
    "        \n",
    "    plt.title(\"Training loss\")\n",
    "    plt.xlabel(\"#iteration\")\n",
    "    plt.ylabel(\"loss\")\n",
    "    plt.plot(loss_history, 'b')\n",
    "    plt.show()\n",
    "    \n",
    "    print('Current loss: %f' % loss)"
   ]
  },
  {
   "cell_type": "code",
   "execution_count": 142,
   "metadata": {},
   "outputs": [
    {
     "data": {
      "text/plain": [
       "223.011608923401"
      ]
     },
     "execution_count": 142,
     "metadata": {},
     "output_type": "execute_result"
    }
   ],
   "source": [
    "min(loss_history)"
   ]
  },
  {
   "cell_type": "markdown",
   "metadata": {},
   "source": [
    "Some time ago NNs were a lot poorer and people were struggling to learn deep models. To train a classification net people were training autoencoder first (to train autoencoder people were pretraining single layers with [RBM](https://en.wikipedia.org/wiki/Restricted_Boltzmann_machine)), then substituting the decoder part with classification layer (yeah, they were struggling with training autoencoders a lot, and complex techniques were used at that dark times). We are going to this now, fast and easy.  "
   ]
  },
  {
   "cell_type": "code",
   "execution_count": 172,
   "metadata": {},
   "outputs": [
    {
     "name": "stdout",
     "output_type": "stream",
     "text": [
      "Linear 784 -> 512\n",
      "ReLU\n",
      "BatchMeanNormalization\n",
      "Linear 512 -> 256\n",
      "ReLU\n",
      "BatchMeanNormalization\n",
      "Linear 256 -> 128\n",
      "ReLU\n",
      "BatchMeanNormalization\n",
      "Linear 128 -> 30\n",
      "ReLU\n",
      "BatchMeanNormalization\n",
      "\n"
     ]
    }
   ],
   "source": [
    "# Extract inner representation for train and validation, \n",
    "# you should get (n_samples, 30) matrices\n",
    "encoder = Sequential()\n",
    "for i in range(12):\n",
    "    encoder.add(net[i])\n",
    "print(encoder)"
   ]
  },
  {
   "cell_type": "code",
   "execution_count": 173,
   "metadata": {},
   "outputs": [],
   "source": [
    "encX = encoder.forward(X)"
   ]
  },
  {
   "cell_type": "code",
   "execution_count": 174,
   "metadata": {},
   "outputs": [
    {
     "data": {
      "text/plain": [
       "array([[  30.76428306,   10.71755246,  -62.94925724, ...,   22.79879986,\n",
       "          15.1019203 ,   53.04961455],\n",
       "       [  32.8301323 ,   10.33630195,  -62.94925724, ...,   22.23705818,\n",
       "          13.91022236,   57.86428246],\n",
       "       [  32.79812079,   10.67989925,  -62.94925724, ...,   22.54666593,\n",
       "          14.57520647,   56.31760224],\n",
       "       ...,\n",
       "       [ -60.04835379,  -23.13128865,   83.2249184 , ...,  -39.2798406 ,\n",
       "         -29.2777103 , -132.17034669],\n",
       "       [ -60.04835379,  -23.13128865,  189.96297639, ...,  -39.2798406 ,\n",
       "         -29.2777103 , -132.17034669],\n",
       "       [  34.1935991 ,    9.74140517,  -62.94925724, ...,   21.3746784 ,\n",
       "          12.65601914,   62.49872451]])"
      ]
     },
     "execution_count": 174,
     "metadata": {},
     "output_type": "execute_result"
    }
   ],
   "source": [
    "encX"
   ]
  },
  {
   "cell_type": "code",
   "execution_count": 175,
   "metadata": {},
   "outputs": [],
   "source": [
    "# Now build a logistic regression or small classification net\n",
    "classifier = Sequential()\n",
    "\n",
    "classifier.add(Linear(30, 20))\n",
    "classifier.add(ReLU())\n",
    "classifier.add(BatchMeanSubtraction())\n",
    "classifier.add(Linear(20,10))\n",
    "classifier.add(SoftMax())"
   ]
  },
  {
   "cell_type": "code",
   "execution_count": 176,
   "metadata": {},
   "outputs": [],
   "source": [
    "optimizer_config = {'learning_rate' : 1, 'momentum': 0.9}\n",
    "optimizer_state = {}"
   ]
  },
  {
   "cell_type": "code",
   "execution_count": 177,
   "metadata": {},
   "outputs": [],
   "source": [
    "n_epoch = 10\n",
    "batch_size = 1000"
   ]
  },
  {
   "cell_type": "code",
   "execution_count": 178,
   "metadata": {},
   "outputs": [
    {
     "data": {
      "image/png": "[encoded data removed]",
      "text/plain": [
       "<matplotlib.figure.Figure at 0x24704754748>"
      ]
     },
     "metadata": {},
     "output_type": "display_data"
    },
    {
     "name": "stdout",
     "output_type": "stream",
     "text": [
      "Current loss: nan\n"
     ]
    }
   ],
   "source": [
    "loss_history = []\n",
    "\n",
    "for i in range(n_epoch):\n",
    "    for x_batch, y_batch in get_batches(encX[:100], one_hot_y[:100], batch_size):\n",
    "        net.zeroGradParameters()\n",
    "        \n",
    "        # Forward\n",
    "        predictions = classifier.forward(x_batch)\n",
    "        loss = criterion.forward(predictions, y_batch)\n",
    "    \n",
    "        # Backward\n",
    "        dp = criterion.backward(predictions, y_batch)\n",
    "        classifier.backward(x_batch, dp)\n",
    "        \n",
    "        # Update weights\n",
    "        sgd_momentum(classifier.getParameters(), \n",
    "                     classifier.getGradParameters(), \n",
    "                     optimizer_config,\n",
    "                     optimizer_state)      \n",
    "        \n",
    "        loss_history.append(loss)\n",
    "\n",
    "    # Visualize\n",
    "    display.clear_output(wait=True)\n",
    "    plt.figure(figsize=(8, 6))\n",
    "        \n",
    "    plt.title(\"Training loss\")\n",
    "    plt.xlabel(\"#iteration\")\n",
    "    plt.ylabel(\"loss\")\n",
    "    plt.plot(loss_history, 'b')\n",
    "    plt.show()\n",
    "    \n",
    "    print('Current loss: %f' % loss)"
   ]
  },
  {
   "cell_type": "code",
   "execution_count": 103,
   "metadata": {},
   "outputs": [
    {
     "name": "stdout",
     "output_type": "stream",
     "text": [
      "Linear 784 -> 512\n",
      "ReLU\n",
      "BatchMeanNormalization\n",
      "Linear 512 -> 256\n",
      "ReLU\n",
      "BatchMeanNormalization\n",
      "Linear 256 -> 128\n",
      "ReLU\n",
      "BatchMeanNormalization\n",
      "Linear 128 -> 30\n",
      "ReLU\n",
      "\n"
     ]
    }
   ],
   "source": [
    "# Learn the weights\n",
    "classifier\n",
    "\n",
    "# Now chop off decoder part\n",
    "# (you may need to implement `remove` method for Sequential container) \n",
    "# Your code goes here. ################################################\n",
    "\n",
    "# And add learned layers ontop.\n",
    "\n",
    "# Now optimize whole model\n",
    "# Your code goes here. ################################################"
   ]
  },
  {
   "cell_type": "markdown",
   "metadata": {},
   "source": [
    "* What do you think, does it make sense to build real-world classifiers this way ? Did it work better for you than a straightforward one? Looks like it was not the same ~8 years ago, what has changed beside computational power? "
   ]
  },
  {
   "cell_type": "markdown",
   "metadata": {},
   "source": [
    "Run PCA with 30 components on the *train set*, plot original image, autoencoder and PCA reconstructions side by side for 10 samples from *validation set*.\n",
    "Probably you need to use the following snippet to make aoutpencoder examples look comparible."
   ]
  },
  {
   "cell_type": "code",
   "execution_count": 3,
   "metadata": {},
   "outputs": [],
   "source": [
    "# np.clip(prediction,0,1)\n",
    "#\n",
    "# Your code goes here. ################################################"
   ]
  },
  {
   "cell_type": "markdown",
   "metadata": {},
   "source": [
    "# Experiments (interesting) "
   ]
  },
  {
   "cell_type": "markdown",
   "metadata": {},
   "source": [
    "* Use ANN with one hidden layer for simple 1d regression problem (generate random points and fit your model on it).\n",
    "Compare **Tanh** and **ReLu** activations for hidden layer (note that you do not need any nonlinearity for output layer). Also tweak hidden layer size."
   ]
  },
  {
   "cell_type": "code",
   "execution_count": null,
   "metadata": {},
   "outputs": [],
   "source": []
  },
  {
   "cell_type": "markdown",
   "metadata": {},
   "source": [
    "* Train a multilayer model on MNIST and reach ~95% accuracy on test set. Now randomly remove neurons from your network (i.e. set neuron parameters zero). Plot test set accuracy versus number of neurons removed. Do the same expeiment with 1) Dropout layer added, 2) BatchMeanSubtraction layer added."
   ]
  },
  {
   "cell_type": "code",
   "execution_count": null,
   "metadata": {},
   "outputs": [],
   "source": []
  },
  {
   "cell_type": "markdown",
   "metadata": {},
   "source": [
    "* Train a model on MNIST with multiclass criterion. Now backpropagate label throw network, i.e. find the input that would produce given output. Your label was one-hot-encoded (only one digit was on the picture). This time backpropagate label, which has 2 or more ones and see the input picture of the network."
   ]
  },
  {
   "cell_type": "code",
   "execution_count": null,
   "metadata": {},
   "outputs": [],
   "source": []
  }
 ],
 "metadata": {
  "kernelspec": {
   "display_name": "Python 3",
   "language": "python",
   "name": "python3"
  },
  "language_info": {
   "codemirror_mode": {
    "name": "ipython",
    "version": 3
   },
   "file_extension": ".py",
   "mimetype": "text/x-python",
   "name": "python",
   "nbconvert_exporter": "python",
   "pygments_lexer": "ipython3",
   "version": "3.6.4"
  }
 },
 "nbformat": 4,
 "nbformat_minor": 1
}
