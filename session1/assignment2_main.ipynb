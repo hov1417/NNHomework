{
 "cells": [
  {
   "cell_type": "markdown",
   "metadata": {},
   "source": [
    "# Basic Artificial Neural Networks"
   ]
  },
  {
   "cell_type": "markdown",
   "metadata": {},
   "source": [
    "The goal of this homework is simple, yet an actual implementation may take some time :). We are going to write an Artificial Neural Network (almost) from scratch. The software design of was heavily inspired by [Torch](http://torch.ch) which is the most convenient neural network environment when the work involves defining new layers. "
   ]
  },
  {
   "cell_type": "markdown",
   "metadata": {},
   "source": [
    "This homework requires sending **\"multiple** files, please do not forget to include all the files when submit. The list of files:\n",
    "- This notebook\n",
    "- assignment1_modules.ipynb\n",
    "- assignment0_differentiation.ipynb"
   ]
  },
  {
   "cell_type": "code",
   "execution_count": 113,
   "metadata": {},
   "outputs": [],
   "source": [
    "from time import time, sleep\n",
    "import numpy as np\n",
    "import matplotlib.pyplot as plt\n",
    "from IPython import display\n",
    "import matplotlib\n",
    "import gc\n",
    "from collections import defaultdict\n",
    "\n",
    "%matplotlib inline\n",
    "\n",
    "matplotlib.style.use('ggplot')"
   ]
  },
  {
   "cell_type": "markdown",
   "metadata": {},
   "source": [
    "# Framework"
   ]
  },
  {
   "cell_type": "markdown",
   "metadata": {},
   "source": [
    "Implement everything in `Modules.ipynb`. Read all the comments thoughtfully to ease the pain. Please try not to change the prototypes.\n",
    "\n",
    "Do not forget, that each module should return AND store `output` and `gradInput`.\n",
    "\n",
    "The typical assumption is that `module.backward` is always executed after `module.forward`,\n",
    "so `output` is stored, this would be useful for `SoftMax`. "
   ]
  },
  {
   "cell_type": "code",
   "execution_count": 2,
   "metadata": {},
   "outputs": [
    {
     "data": {
      "text/plain": [
       "'\\n--------------------------------------\\n-- Tech note\\n--------------------------------------    \\nnp.multiply, np.add, np.divide, np.subtract instead of *,+,/,-\\nfor better memory handling\\n\\nSuppose you allocated a variable    \\n\\n    a = np.zeros(...)\\n\\nSo, instead of\\n\\n    a = b + c  # will be reallocated, GC needed to free\\n\\nI would go for: \\n\\n    np.add(b,c,out = a) # puts result in `a`\\n\\nBut it is completely up to you.\\n'"
      ]
     },
     "execution_count": 2,
     "metadata": {},
     "output_type": "execute_result"
    }
   ],
   "source": [
    "\"\"\"\n",
    "--------------------------------------\n",
    "-- Tech note\n",
    "--------------------------------------    \n",
    "np.multiply, np.add, np.divide, np.subtract instead of *,+,/,-\n",
    "for better memory handling\n",
    "\n",
    "Suppose you allocated a variable    \n",
    "\n",
    "    a = np.zeros(...)\n",
    "\n",
    "So, instead of\n",
    "\n",
    "    a = b + c  # will be reallocated, GC needed to free\n",
    "\n",
    "I would go for: \n",
    "\n",
    "    np.add(b,c,out = a) # puts result in `a`\n",
    "\n",
    "But it is completely up to you.\n",
    "\"\"\""
   ]
  },
  {
   "cell_type": "code",
   "execution_count": 3,
   "metadata": {},
   "outputs": [],
   "source": [
    "# Note that every time you change assignment1_modules.ipynb, \n",
    "# you should run this cell to apply your changes\n",
    "%run assignment1_modules.ipynb\n",
    "%run Utilities.ipynb"
   ]
  },
  {
   "cell_type": "markdown",
   "metadata": {},
   "source": [
    "Optimizer is implemented for you. "
   ]
  },
  {
   "cell_type": "code",
   "execution_count": 111,
   "metadata": {},
   "outputs": [],
   "source": [
    "x=dict()\n",
    "x.setdefault(0)"
   ]
  },
  {
   "cell_type": "code",
   "execution_count": 112,
   "metadata": {},
   "outputs": [
    {
     "data": {
      "text/plain": [
       "{0: None}"
      ]
     },
     "execution_count": 112,
     "metadata": {},
     "output_type": "execute_result"
    }
   ],
   "source": [
    "x"
   ]
  },
  {
   "cell_type": "code",
   "execution_count": 114,
   "metadata": {},
   "outputs": [],
   "source": [
    "def sgd_momentum(x, dx, config, state):\n",
    "    \"\"\"\n",
    "        This is a very ugly implementation of sgd with momentum \n",
    "        just to show an example how to store old grad in state.\n",
    "        Make this function faster if you can!\n",
    "        \n",
    "        config:\n",
    "            - momentum\n",
    "            - learning_rate\n",
    "        state:\n",
    "            - old_grad\n",
    "    \"\"\"\n",
    "    \n",
    "    # x and dx have complex structure, old dx will be stored in a simpler one\n",
    "    state.setdefault('old_grad', defaultdict(lambda: 0))\n",
    "    \n",
    "    alpha = config['learning_rate']\n",
    "    m = config['momentum']\n",
    "    \n",
    "    i = 0 \n",
    "    for cur_layer_x, cur_layer_dx in zip(x,dx): \n",
    "        for cur_x, cur_dx in zip(cur_layer_x,cur_layer_dx):\n",
    "            \n",
    "            cur_old_grad = state['old_grad'][i]\n",
    "            \n",
    "            cur_old_grad = m * cur_old_grad + alpha * cur_dx\n",
    "            \n",
    "            state['old_grad'][i] = cur_dx\n",
    "            \n",
    "            if cur_old_grad.shape[0] == 1:\n",
    "                print(1)\n",
    "                cur_x = cur_x.reshape(cur_old_grad.shape)\n",
    "            \n",
    "            np.add(cur_x, -cur_old_grad, out=cur_x)\n",
    "            i += 1     \n",
    "#     state['old_grad'] = 2"
   ]
  },
  {
   "cell_type": "markdown",
   "metadata": {},
   "source": [
    "Implement [**Adam optimizer**](https://arxiv.org/abs/1412.6980). Test and experiment it. Write your opinion.\n"
   ]
  },
  {
   "cell_type": "code",
   "execution_count": 115,
   "metadata": {},
   "outputs": [
    {
     "data": {
      "text/plain": [
       "{0: array([[-1.66840938e-05, -7.95499591e-05],\n",
       "        [-1.91261617e-04, -6.27666079e-06],\n",
       "        [-5.78304556e-04,  4.04944080e-05],\n",
       "        [ 3.88338702e-04,  1.28396869e-04]]),\n",
       " 1: array([-8.64422068e-05,  1.41153512e-05, -3.63028042e-05, -1.28921617e-04]),\n",
       " 2: array([[ 6.00587997e-06,  2.03365700e-05,  3.30655949e-05,\n",
       "         -3.40910732e-05],\n",
       "        [ 5.80761391e-06,  1.50139036e-05,  2.28211250e-05,\n",
       "         -4.96243521e-05],\n",
       "        [-4.19190094e-06, -1.27941941e-05, -1.81110849e-05,\n",
       "          3.15360689e-05],\n",
       "        [ 1.81041506e-06,  3.00767213e-06,  7.84145403e-06,\n",
       "         -3.69413348e-06],\n",
       "        [-3.79796766e-07, -7.49830703e-07, -1.58847860e-06,\n",
       "          8.15603673e-07],\n",
       "        [-2.09179770e-07, -3.91913178e-07, -5.45910731e-07,\n",
       "          1.24148284e-06],\n",
       "        [ 5.71775880e-06,  1.34364619e-05,  2.49955032e-05,\n",
       "         -2.58152118e-05],\n",
       "        [ 1.06225895e-05,  3.18104289e-05,  5.40221420e-05,\n",
       "         -4.82070174e-05],\n",
       "        [-8.72764098e-07, -1.53679009e-06, -3.87141091e-06,\n",
       "          1.11771145e-06],\n",
       "        [ 2.79417301e-06,  6.37639102e-06,  1.27993882e-05,\n",
       "         -8.04634542e-06],\n",
       "        [ 7.08110554e-06,  1.48865784e-05,  2.90604209e-05,\n",
       "         -3.85971960e-05],\n",
       "        [ 7.84132527e-06,  2.13254190e-05,  3.79380723e-05,\n",
       "         -4.44367965e-05],\n",
       "        [-2.89553209e-06, -7.94452972e-06, -1.42288416e-05,\n",
       "          1.23459825e-05],\n",
       "        [ 1.14904996e-05,  2.58487708e-05,  5.32181119e-05,\n",
       "         -3.45391468e-05],\n",
       "        [-2.87041158e-06, -8.34491207e-06, -1.29035544e-05,\n",
       "          2.24392228e-05],\n",
       "        [ 1.32858226e-06,  4.10786043e-06,  6.40010370e-06,\n",
       "         -6.57190321e-06],\n",
       "        [-4.16654577e-06, -1.17321018e-05, -1.96537619e-05,\n",
       "          2.95906458e-05],\n",
       "        [ 4.85970208e-06,  1.38479545e-05,  2.24006877e-05,\n",
       "         -3.11212164e-05],\n",
       "        [ 7.34869226e-06,  2.05738825e-05,  3.56598817e-05,\n",
       "         -3.29595771e-05],\n",
       "        [-6.18918195e-06, -2.05611962e-05, -3.18126410e-05,\n",
       "          4.67555044e-05],\n",
       "        [-7.43694168e-06, -1.90778895e-05, -3.09545073e-05,\n",
       "          4.69968900e-05],\n",
       "        [-5.18588431e-06, -1.69191737e-05, -2.64233182e-05,\n",
       "          3.64043374e-05],\n",
       "        [-6.03275372e-06, -1.69148952e-05, -3.02460555e-05,\n",
       "          2.77735701e-05],\n",
       "        [ 6.92491516e-06,  1.78361939e-05,  2.43780739e-05,\n",
       "         -4.65599635e-05],\n",
       "        [-5.29100888e-06, -1.46520334e-05, -2.49909962e-05,\n",
       "          2.87518832e-05],\n",
       "        [ 1.03912920e-05,  2.22823788e-05,  4.68898664e-05,\n",
       "         -2.26046962e-05],\n",
       "        [-6.01759558e-06, -2.02922855e-05, -3.04921166e-05,\n",
       "          3.29943247e-05],\n",
       "        [ 6.34528214e-06,  1.35202410e-05,  2.82781009e-05,\n",
       "         -1.82228831e-05],\n",
       "        [ 4.26440735e-06,  1.04979530e-05,  2.12593118e-05,\n",
       "         -1.11961607e-05],\n",
       "        [ 4.68632002e-06,  1.11638188e-05,  1.63663910e-05,\n",
       "         -4.68839961e-05],\n",
       "        [ 9.80551668e-06,  2.81791538e-05,  4.77090022e-05,\n",
       "         -4.19561710e-05],\n",
       "        [-5.04538258e-06, -1.41127460e-05, -2.38656720e-05,\n",
       "          3.25618375e-05],\n",
       "        [-7.14409505e-06, -1.98446242e-05, -3.39992068e-05,\n",
       "          2.97140543e-05],\n",
       "        [-7.93337435e-06, -2.05403630e-05, -3.32623910e-05,\n",
       "          4.74534888e-05],\n",
       "        [-6.59162005e-06, -1.86592881e-05, -3.32440070e-05,\n",
       "          2.35988457e-05],\n",
       "        [ 7.74562214e-06,  2.17965644e-05,  3.16140215e-05,\n",
       "         -6.02477864e-05],\n",
       "        [ 3.22805496e-06,  1.02206683e-05,  1.68118451e-05,\n",
       "         -1.75696945e-05],\n",
       "        [ 8.40873806e-06,  2.39138904e-05,  4.22300374e-05,\n",
       "         -4.05611034e-05],\n",
       "        [ 2.33948475e-06,  3.86653080e-06,  1.04571377e-05,\n",
       "         -4.43957824e-06],\n",
       "        [-5.46670688e-06, -1.33845115e-05, -2.41319202e-05,\n",
       "          3.04964825e-05],\n",
       "        [ 6.96092384e-06,  2.55058759e-05,  3.55781340e-05,\n",
       "         -5.07414377e-05],\n",
       "        [-3.97023879e-06, -7.80469075e-06, -1.37132310e-05,\n",
       "          3.72060427e-05],\n",
       "        [-6.39902648e-06, -1.41271823e-05, -2.88111715e-05,\n",
       "          1.76873470e-05],\n",
       "        [-7.20968215e-06, -2.24830461e-05, -3.69026220e-05,\n",
       "          3.25534276e-05],\n",
       "        [-4.33983725e-06, -1.44364703e-05, -2.35568416e-05,\n",
       "          2.93327945e-05],\n",
       "        [-6.00130415e-06, -1.47218448e-05, -2.15143282e-05,\n",
       "          5.05526353e-05],\n",
       "        [ 5.43335537e-06,  1.78202419e-05,  2.84144093e-05,\n",
       "         -3.11853358e-05],\n",
       "        [ 7.62553432e-06,  2.04178305e-05,  3.01903674e-05,\n",
       "         -6.31573660e-05],\n",
       "        [-2.44413659e-06, -6.38903789e-06, -1.06463118e-05,\n",
       "          1.72314007e-05],\n",
       "        [ 8.14955279e-06,  2.39362450e-05,  3.93082663e-05,\n",
       "         -5.97139479e-05],\n",
       "        [ 3.90868633e-06,  7.99129422e-06,  1.73887757e-05,\n",
       "         -9.75348429e-06],\n",
       "        [ 6.69952668e-06,  1.81933498e-05,  3.29399188e-05,\n",
       "         -2.98830729e-05],\n",
       "        [ 7.55441602e-06,  2.29405354e-05,  3.56076615e-05,\n",
       "         -5.26442178e-05],\n",
       "        [ 4.34477331e-06,  1.39600694e-05,  2.14051467e-05,\n",
       "         -3.17714985e-05],\n",
       "        [ 6.68319400e-06,  1.67011296e-05,  2.98785171e-05,\n",
       "         -3.46438360e-05],\n",
       "        [ 7.21877090e-06,  1.45833829e-05,  3.18730626e-05,\n",
       "         -1.97459993e-05],\n",
       "        [ 8.54513536e-06,  2.15665734e-05,  4.09982483e-05,\n",
       "         -3.96161276e-05],\n",
       "        [-4.85819822e-06, -1.65392377e-05, -2.56104233e-05,\n",
       "          3.65091606e-05],\n",
       "        [ 8.63220472e-06,  2.66140897e-05,  3.86234815e-05,\n",
       "         -6.04552836e-05],\n",
       "        [ 9.07922874e-06,  1.90862672e-05,  4.02506785e-05,\n",
       "         -2.85005282e-05],\n",
       "        [-5.00722681e-06, -1.24822284e-05, -1.69173021e-05,\n",
       "          5.20698613e-05],\n",
       "        [ 5.09199714e-06,  1.26604655e-05,  2.38814739e-05,\n",
       "         -1.94652866e-05],\n",
       "        [ 4.14059613e-06,  1.14803391e-05,  2.03546090e-05,\n",
       "         -1.86960116e-05],\n",
       "        [ 8.84529168e-06,  1.88395196e-05,  3.89644427e-05,\n",
       "         -2.99474651e-05],\n",
       "        [-1.69570784e-06, -4.64418650e-06, -8.30524905e-06,\n",
       "          6.67534465e-06],\n",
       "        [ 7.81658393e-06,  1.78553748e-05,  3.50193915e-05,\n",
       "         -3.59456812e-05],\n",
       "        [-3.22064750e-06, -8.34207386e-06, -1.50189457e-05,\n",
       "          1.58807022e-05],\n",
       "        [-7.52338444e-06, -2.19962902e-05, -3.95028586e-05,\n",
       "          3.28316454e-05],\n",
       "        [-1.41219077e-07,  8.35037665e-07, -9.38339543e-08,\n",
       "         -1.75215672e-06],\n",
       "        [-5.31327639e-06, -1.75425351e-05, -2.72085025e-05,\n",
       "          2.33091723e-05],\n",
       "        [ 6.77207386e-06,  1.71622745e-05,  3.21076639e-05,\n",
       "         -3.08290225e-05],\n",
       "        [-4.15976996e-06, -1.35319886e-05, -1.97531126e-05,\n",
       "          3.07341837e-05],\n",
       "        [ 9.89609111e-06,  2.78996804e-05,  4.83110479e-05,\n",
       "         -5.01593846e-05],\n",
       "        [ 8.14811918e-06,  2.05066394e-05,  3.96565514e-05,\n",
       "         -3.32878931e-05],\n",
       "        [ 2.81042694e-06,  5.91547828e-06,  1.30896879e-05,\n",
       "         -6.81118107e-06],\n",
       "        [-5.34833450e-06, -1.29229557e-05, -2.50379759e-05,\n",
       "          1.85740486e-05],\n",
       "        [ 5.60545465e-06,  1.41324872e-05,  1.92739429e-05,\n",
       "         -6.32843219e-05],\n",
       "        [ 1.44251819e-05,  3.53210504e-05,  7.05218366e-05,\n",
       "         -3.50778786e-05],\n",
       "        [-9.66984450e-07, -2.90824271e-06, -3.98583184e-06,\n",
       "          6.01787491e-06],\n",
       "        [ 2.49003363e-06,  5.54834553e-06,  1.06854181e-05,\n",
       "         -7.52223847e-06],\n",
       "        [ 5.97727937e-06,  1.77943283e-05,  2.88254477e-05,\n",
       "         -3.86630481e-05],\n",
       "        [-5.69830850e-06, -1.66675537e-05, -2.69460456e-05,\n",
       "          3.15164486e-05],\n",
       "        [ 3.30866972e-06,  8.11998226e-06,  1.57503455e-05,\n",
       "         -9.83235476e-06],\n",
       "        [ 6.00005575e-06,  1.54902274e-05,  1.68027347e-05,\n",
       "         -5.90040457e-05],\n",
       "        [-6.01817344e-06, -1.58213195e-05, -2.85724841e-05,\n",
       "          3.66123975e-05],\n",
       "        [-1.03717461e-06, -3.33395345e-06, -4.72633493e-06,\n",
       "          5.35906343e-06],\n",
       "        [ 5.57477198e-06,  1.22767252e-05,  2.31349011e-05,\n",
       "         -3.20067482e-05],\n",
       "        [ 5.21694133e-06,  1.08954570e-05,  1.87571221e-05,\n",
       "         -3.68673190e-05],\n",
       "        [-1.59686280e-06, -4.60761848e-06, -7.32505247e-06,\n",
       "          9.12302560e-06],\n",
       "        [ 6.03613736e-06,  1.30417805e-05,  2.64778262e-05,\n",
       "         -1.82513906e-05],\n",
       "        [-3.83925677e-06, -1.04815157e-05, -1.92324173e-05,\n",
       "          1.80021036e-05],\n",
       "        [-4.52569237e-06, -1.61784759e-05, -2.20041544e-05,\n",
       "          4.18159031e-05],\n",
       "        [-8.30661006e-06, -2.67797829e-05, -4.55541418e-05,\n",
       "          2.86359035e-05],\n",
       "        [-1.18916836e-06, -3.37114742e-06, -5.73469209e-06,\n",
       "          6.32663644e-06],\n",
       "        [-4.21136878e-06, -1.11742773e-05, -1.82563342e-05,\n",
       "          3.31940096e-05],\n",
       "        [ 9.87598361e-07,  1.52245606e-06,  4.06515597e-06,\n",
       "         -1.51888224e-06],\n",
       "        [-2.74626784e-06, -6.78618988e-06, -1.33795929e-05,\n",
       "          1.03017309e-05],\n",
       "        [ 2.90004909e-06,  6.43208737e-06,  1.31598708e-05,\n",
       "         -8.49475044e-06],\n",
       "        [-2.29068452e-06, -5.32596518e-06, -9.94057507e-06,\n",
       "          1.06226837e-05],\n",
       "        [-5.46289974e-07, -7.03423930e-07, -2.46665558e-06,\n",
       "          4.65495921e-07]]),\n",
       " 3: array([-5.80932031e-06, -1.57829517e-05,  9.87571171e-06,  2.98721290e-07,\n",
       "         5.98337556e-08,  5.43845206e-07, -5.09403646e-06, -6.99770335e-06,\n",
       "        -3.97228486e-07, -4.40792089e-07, -8.74791562e-06, -8.23061509e-06,\n",
       "         1.54577361e-06, -1.74207736e-06,  6.31675544e-06, -1.23056107e-06,\n",
       "         7.14967356e-06, -7.67012315e-06, -5.35294954e-06,  1.07223835e-05,\n",
       "         1.32437261e-05,  8.11736798e-06,  3.99345663e-06, -1.75777019e-05,\n",
       "         5.75283501e-06,  6.26320608e-07,  7.36706876e-06, -1.18625177e-06,\n",
       "         5.44253314e-07, -1.62788183e-05, -6.82560042e-06,  7.21549348e-06,\n",
       "         4.90078220e-06,  1.26611742e-05,  2.25963084e-06, -1.90402423e-05,\n",
       "        -3.28824435e-06, -5.75989786e-06,  9.06934664e-07,  6.58288545e-06,\n",
       "        -1.40281166e-05,  1.21071628e-05,  1.03775714e-06,  4.82386651e-06,\n",
       "         5.77564269e-06,  1.70282386e-05, -6.04884102e-06, -2.09518312e-05,\n",
       "         4.63721991e-06, -1.38921100e-05, -1.96070910e-07, -4.30866895e-06,\n",
       "        -1.34904449e-05, -8.01383070e-06, -7.33641876e-06, -8.58171091e-07,\n",
       "        -5.40453587e-06,  8.18212985e-06, -1.73664514e-05, -2.39881054e-06,\n",
       "         1.87008386e-05, -2.39879976e-06, -2.78225253e-06, -3.40350160e-06,\n",
       "         6.67108889e-07, -6.00548257e-06,  2.84727614e-06,  3.23725295e-06,\n",
       "        -6.52900210e-07,  3.97671286e-06, -4.45718484e-06,  8.87017213e-06,\n",
       "        -8.95048197e-06, -3.79286389e-06,  2.58153314e-07,  2.14137810e-06,\n",
       "        -2.31390330e-05,  2.52213988e-06,  1.96832257e-06, -1.07614709e-06,\n",
       "        -8.93423747e-06,  7.26480902e-06, -4.81673527e-07, -2.62015228e-05,\n",
       "         7.43586199e-06,  1.33725722e-06, -7.70888310e-06, -1.15854184e-05,\n",
       "         2.14217534e-06, -1.84444952e-06,  2.59875468e-06,  1.26143137e-05,\n",
       "         6.53613965e-07,  1.24825398e-06,  9.03297227e-06,  1.90197764e-07,\n",
       "         8.28420866e-07, -5.68875198e-07,  2.28676114e-06, -4.98537546e-07]),\n",
       " 4: array([[-8.23143303e-06, -3.57655149e-05,  5.37034355e-05,\n",
       "          3.98170675e-07,  1.70482107e-05,  1.85914672e-05,\n",
       "         -1.40962754e-05, -4.66771558e-05,  2.13137154e-05,\n",
       "          2.60024638e-06, -3.67435884e-05, -3.86438054e-05,\n",
       "          6.68492211e-06, -4.20272678e-05,  3.08255327e-05,\n",
       "         -3.75055231e-06,  4.10579970e-05, -2.35362575e-05,\n",
       "         -4.67612537e-05,  4.43984680e-05,  6.15921565e-05,\n",
       "          3.30671525e-05,  3.55565544e-05, -7.27532804e-05,\n",
       "          4.96183302e-05, -4.00732674e-05,  6.41184243e-05,\n",
       "         -3.22619884e-05,  9.17315885e-06, -5.00750615e-05,\n",
       "         -6.66448348e-05,  2.85978018e-05,  5.87990040e-05,\n",
       "          6.49065449e-05,  4.39647067e-05, -6.83015921e-05,\n",
       "         -8.79033674e-06, -4.05191338e-05,  4.26848054e-06,\n",
       "          3.93063161e-05, -6.04293681e-05,  4.87079856e-05,\n",
       "          5.22830952e-05,  6.04002649e-05,  2.83412591e-05,\n",
       "          5.60205146e-05, -1.20294212e-05, -6.23314872e-05,\n",
       "          2.59004696e-05, -4.08408542e-05, -1.90559698e-05,\n",
       "         -9.72732857e-06, -5.27485031e-05, -2.63207469e-05,\n",
       "         -4.47751525e-05, -7.88698196e-06, -2.24588793e-05,\n",
       "          4.03420308e-05, -6.93268153e-05, -3.46927376e-05,\n",
       "          5.69172760e-05, -7.61879989e-06, -8.07226972e-06,\n",
       "         -2.62895600e-05,  1.45685773e-05, -2.14087295e-05,\n",
       "          1.36431009e-05,  3.52460534e-05,  1.20360944e-05,\n",
       "          6.47519870e-05, -1.76822959e-05,  5.69042786e-05,\n",
       "         -5.48730266e-05, -1.04367630e-05, -4.21793747e-06,\n",
       "          4.65561164e-05, -5.88611702e-05, -5.47574802e-05,\n",
       "          1.05378391e-05,  1.17806708e-05, -1.92557810e-05,\n",
       "          5.46638811e-05, -1.47492233e-05, -7.49984188e-05,\n",
       "          3.73959495e-05,  2.90199478e-05, -3.50285520e-05,\n",
       "         -2.58111689e-05,  1.55863306e-05, -3.49575932e-05,\n",
       "          2.42148459e-05,  4.88967300e-05,  5.69410789e-05,\n",
       "          9.73923621e-06,  3.56111799e-05, -1.13598933e-05,\n",
       "          4.62323732e-06, -2.17251182e-07,  9.14583536e-06,\n",
       "         -1.09782645e-05],\n",
       "        [-1.17292907e-05, -3.93735059e-05,  7.66791535e-05,\n",
       "          9.10586606e-06,  2.99511667e-05,  2.89679311e-05,\n",
       "         -1.52505576e-05, -5.97768607e-05,  3.23672415e-05,\n",
       "          6.20319940e-06, -4.31759105e-05, -4.61265905e-05,\n",
       "          2.17106720e-05, -5.03525433e-05,  4.94558996e-05,\n",
       "         -3.79830261e-07,  6.14758534e-05, -2.61336130e-05,\n",
       "         -5.78904882e-05,  6.57703621e-05,  8.51712210e-05,\n",
       "          5.19879277e-05,  5.82986508e-05, -8.66320515e-05,\n",
       "          7.19054247e-05, -4.60095859e-05,  8.98349290e-05,\n",
       "         -3.72276489e-05,  1.13128295e-05, -5.90288450e-05,\n",
       "         -7.98642353e-05,  4.55441008e-05,  8.30260533e-05,\n",
       "          8.84094444e-05,  6.83872402e-05, -7.92779023e-05,\n",
       "         -1.03189300e-05, -4.99678769e-05,  1.27150906e-05,\n",
       "          5.91103281e-05, -7.39577146e-05,  7.00337454e-05,\n",
       "          7.46644545e-05,  8.55103598e-05,  4.88623052e-05,\n",
       "          7.65163643e-05, -1.47947393e-05, -7.43286460e-05,\n",
       "          4.27449010e-05, -4.79044874e-05, -1.34513967e-05,\n",
       "         -1.13429754e-05, -6.34885940e-05, -3.25381714e-05,\n",
       "         -5.32352963e-05, -3.50618067e-06, -2.58287871e-05,\n",
       "          6.13874649e-05, -8.13708726e-05, -3.97405156e-05,\n",
       "          7.67479336e-05, -8.71281452e-06, -9.61465935e-06,\n",
       "         -2.98313309e-05,  2.62363817e-05, -2.29471010e-05,\n",
       "          2.83065824e-05,  5.82009686e-05,  2.09893666e-05,\n",
       "          9.03665937e-05, -2.11967857e-05,  8.09315613e-05,\n",
       "         -6.67216632e-05, -1.35235616e-05,  5.48815041e-06,\n",
       "          6.88106148e-05, -6.96960804e-05, -6.59214251e-05,\n",
       "          2.39763409e-05,  1.99396274e-05, -2.30664023e-05,\n",
       "          7.94650925e-05, -7.23866309e-06, -8.86352663e-05,\n",
       "          5.79904524e-05,  4.48586700e-05, -4.12391497e-05,\n",
       "         -2.89151866e-05,  3.07747906e-05, -4.06198918e-05,\n",
       "          4.38302311e-05,  7.17414474e-05,  8.31676428e-05,\n",
       "          2.31393436e-05,  5.19463933e-05, -6.93486897e-06,\n",
       "          1.75440619e-05,  2.79043821e-06,  2.05510948e-05,\n",
       "         -4.78582074e-06],\n",
       "        [ 8.92350378e-06,  3.39454823e-05, -6.28845054e-05,\n",
       "         -7.50105259e-06, -2.33072998e-05, -2.38429102e-05,\n",
       "          1.31065926e-05,  4.74527299e-05, -2.62557112e-05,\n",
       "         -5.15430635e-06,  3.55612694e-05,  3.76916456e-05,\n",
       "         -1.64620634e-05,  4.04708447e-05, -4.03245375e-05,\n",
       "          4.74684299e-07, -5.03239229e-05,  2.23679867e-05,\n",
       "          4.64555118e-05, -5.39639600e-05, -7.02895255e-05,\n",
       "         -4.26855236e-05, -4.60747941e-05,  7.15183463e-05,\n",
       "         -5.88333449e-05,  3.71163189e-05, -7.35381939e-05,\n",
       "          2.97726103e-05, -1.02170567e-05,  4.89380550e-05,\n",
       "          6.55367186e-05, -3.76924060e-05, -6.78500378e-05,\n",
       "         -7.33323944e-05, -5.43339016e-05,  6.62724313e-05,\n",
       "          8.43305304e-06,  4.01741005e-05, -1.11966869e-05,\n",
       "         -4.84392200e-05,  6.01827817e-05, -5.77208338e-05,\n",
       "         -6.07759996e-05, -6.98686703e-05, -3.88384469e-05,\n",
       "         -6.41271538e-05,  1.19422776e-05,  6.12153304e-05,\n",
       "         -3.50734026e-05,  3.98543030e-05,  1.18897029e-05,\n",
       "          9.23686278e-06,  5.20312122e-05,  2.61650352e-05,\n",
       "          4.35236559e-05,  3.29160460e-06,  2.13706591e-05,\n",
       "         -5.00754589e-05,  6.76753286e-05,  3.22052181e-05,\n",
       "         -6.46535856e-05,  6.70124142e-06,  7.29755684e-06,\n",
       "          2.40227998e-05, -2.12212530e-05,  1.96834973e-05,\n",
       "         -2.29952082e-05, -4.59860562e-05, -1.63713182e-05,\n",
       "         -7.40007612e-05,  1.71687181e-05, -6.61916732e-05,\n",
       "          5.42954503e-05,  1.00834497e-05, -4.46760162e-06,\n",
       "         -5.55553152e-05,  5.76179636e-05,  5.34641121e-05,\n",
       "         -2.00190469e-05, -1.60289633e-05,  1.89506031e-05,\n",
       "         -6.44934236e-05,  6.77293331e-06,  7.34317117e-05,\n",
       "         -4.70498118e-05, -3.63610373e-05,  3.38021840e-05,\n",
       "          2.46400645e-05, -2.50294116e-05,  3.25672264e-05,\n",
       "         -3.44036764e-05, -5.85501804e-05, -6.71962135e-05,\n",
       "         -1.89576387e-05, -4.39448366e-05,  5.10834404e-06,\n",
       "         -1.37449171e-05, -2.78451643e-06, -1.78083424e-05,\n",
       "          4.41350688e-06],\n",
       "        [ 2.20471907e-05,  4.17841679e-05, -8.02332287e-06,\n",
       "          2.82823231e-05,  1.02862161e-05,  1.11575674e-05,\n",
       "          2.64394951e-05,  5.11000333e-05,  6.17955277e-06,\n",
       "          1.36585944e-05,  4.25198490e-05,  4.63163624e-05,\n",
       "          2.06836202e-05,  4.93162941e-05,  1.12266434e-05,\n",
       "          2.21220023e-05,  7.03623681e-07,  3.29035358e-05,\n",
       "          5.13866898e-05, -3.41232158e-06, -1.54780868e-05,\n",
       "          4.13357018e-06,  6.54644291e-06,  6.83307371e-05,\n",
       "         -7.83650683e-06,  5.17028983e-05, -1.75276203e-05,\n",
       "          4.06951309e-05,  8.20738329e-06,  4.93414220e-05,\n",
       "          6.76291984e-05,  8.19964883e-06, -1.50552330e-05,\n",
       "         -1.95972898e-05, -2.22298566e-06,  6.80275913e-05,\n",
       "          1.82392357e-05,  4.87641478e-05,  2.52568123e-05,\n",
       "          5.23341323e-07,  5.91361698e-05, -1.29249525e-06,\n",
       "         -1.09204267e-05, -1.69007651e-05,  1.12173135e-05,\n",
       "         -1.16132603e-05,  2.29793352e-05,  5.98672553e-05,\n",
       "          1.45412733e-05,  4.80257342e-05,  3.81976106e-05,\n",
       "          2.35187500e-05,  5.51420482e-05,  3.24336980e-05,\n",
       "          5.09806866e-05,  2.97100785e-05,  3.58837594e-05,\n",
       "          1.00089859e-06,  6.92128768e-05,  4.44190749e-05,\n",
       "         -1.21051856e-05,  2.28697853e-05,  2.03872808e-05,\n",
       "          3.78028908e-05,  1.32114080e-05,  3.50153384e-05,\n",
       "          2.08690033e-05,  5.97623599e-07,  1.05447103e-05,\n",
       "         -1.98913651e-05,  3.02583228e-05, -1.02374147e-05,\n",
       "          5.79879718e-05,  2.62704781e-05,  3.25771673e-05,\n",
       "         -4.67908085e-06,  5.56388922e-05,  6.29111610e-05,\n",
       "          2.81704020e-05,  1.43713732e-05,  2.71477236e-05,\n",
       "         -8.54286674e-06,  3.86692802e-05,  6.84759763e-05,\n",
       "          4.16105775e-06, -3.76998508e-07,  4.00991582e-05,\n",
       "          3.12402118e-05,  2.17022784e-05,  4.26611306e-05,\n",
       "          1.17374956e-05, -2.71901697e-06, -1.53817233e-05,\n",
       "          2.63125382e-05,  3.03897892e-06,  3.25503181e-05,\n",
       "          2.28311310e-05,  1.99578833e-05,  2.66974604e-05,\n",
       "          3.01477150e-05]]),\n",
       " 5: array([-2.49457527e-06,  8.87082084e-06, -7.37854232e-06,  4.79826958e-05]),\n",
       " 6: array([[ 0.00061323,  0.00051611, -0.00065878, -0.00074611],\n",
       "        [-0.00067641, -0.00057418,  0.00071371,  0.00080352]]),\n",
       " 7: array([-9.31489063e-05,  8.69092580e-05])}"
      ]
     },
     "execution_count": 115,
     "metadata": {},
     "output_type": "execute_result"
    }
   ],
   "source": [
    "optimizer_state['old_grad']"
   ]
  },
  {
   "cell_type": "code",
   "execution_count": 116,
   "metadata": {},
   "outputs": [
    {
     "ename": "SyntaxError",
     "evalue": "invalid syntax (<ipython-input-116-f5720b391d8b>, line 2)",
     "output_type": "error",
     "traceback": [
      "\u001b[1;36m  File \u001b[1;32m\"<ipython-input-116-f5720b391d8b>\"\u001b[1;36m, line \u001b[1;32m2\u001b[0m\n\u001b[1;33m    <student.implement_adam>\u001b[0m\n\u001b[1;37m    ^\u001b[0m\n\u001b[1;31mSyntaxError\u001b[0m\u001b[1;31m:\u001b[0m invalid syntax\n"
     ]
    }
   ],
   "source": [
    "def adam_optimizer(x, dx, config, state):\n",
    "    <student.implement_adam>"
   ]
  },
  {
   "cell_type": "markdown",
   "metadata": {},
   "source": [
    "# Toy example"
   ]
  },
  {
   "cell_type": "markdown",
   "metadata": {},
   "source": [
    "Use this example to debug your code, start with logistic regression and then test other layers. You do not need to change anything here. This code is provided for you to test the layers. Also it is easy to use this code in MNIST task."
   ]
  },
  {
   "cell_type": "code",
   "execution_count": 117,
   "metadata": {
    "scrolled": false
   },
   "outputs": [
    {
     "data": {
      "text/plain": [
       "<matplotlib.collections.PathCollection at 0x22f1ac2e5c0>"
      ]
     },
     "execution_count": 117,
     "metadata": {},
     "output_type": "execute_result"
    },
    {
     "data": {
      "image/png": "[encoded data removed]",
      "text/plain": [
       "<matplotlib.figure.Figure at 0x22f1ac49dd8>"
      ]
     },
     "metadata": {},
     "output_type": "display_data"
    }
   ],
   "source": [
    "# Generate some data\n",
    "N = 500\n",
    "\n",
    "X1 = np.random.randn(N,2) + np.array([2,2])\n",
    "X2 = np.random.randn(N,2) + np.array([-2,-2])\n",
    "\n",
    "Y = np.concatenate([np.ones(N),np.zeros(N)])[:,None]\n",
    "Y = np.hstack([Y, 1-Y])\n",
    "\n",
    "X = np.vstack([X1,X2])\n",
    "plt.scatter(X[:,0],X[:,1], c = Y[:,0], edgecolors= 'none')"
   ]
  },
  {
   "cell_type": "markdown",
   "metadata": {},
   "source": [
    "Define a **logistic regression** for debugging. "
   ]
  },
  {
   "cell_type": "code",
   "execution_count": 133,
   "metadata": {},
   "outputs": [
    {
     "name": "stdout",
     "output_type": "stream",
     "text": [
      "Linear 2 -> 4\n",
      "ReLU\n",
      "Linear 4 -> 100\n",
      "Sigmoid\n",
      "Linear 100 -> 4\n",
      "Sigmoid\n",
      "Linear 4 -> 2\n",
      "Sigmoid\n",
      "\n"
     ]
    }
   ],
   "source": [
    "criterion = MSECriterion()\n",
    "\n",
    "# Test something like that then \n",
    "\n",
    "net = Sequential()\n",
    "net.add(Linear(2, 4))\n",
    "net.add(ReLU())\n",
    "net.add(Linear(4, 100))\n",
    "net.add(Sigmoid())\n",
    "net.add(Linear(100, 4))\n",
    "net.add(Sigmoid())\n",
    "net.add(Linear(4, 2))\n",
    "net.add(Sigmoid())\n",
    "\n",
    "print(net)"
   ]
  },
  {
   "cell_type": "markdown",
   "metadata": {},
   "source": [
    "Start with batch_size = 1000 to make sure every step lowers the loss, then try stochastic version."
   ]
  },
  {
   "cell_type": "code",
   "execution_count": 119,
   "metadata": {},
   "outputs": [
    {
     "data": {
      "text/plain": [
       "2273"
      ]
     },
     "execution_count": 119,
     "metadata": {},
     "output_type": "execute_result"
    }
   ],
   "source": [
    "gc.collect()"
   ]
  },
  {
   "cell_type": "code",
   "execution_count": 131,
   "metadata": {},
   "outputs": [],
   "source": [
    "# Iptimizer params\n",
    "optimizer_config = {'learning_rate' : 3, 'momentum': 0.9}\n",
    "optimizer_state = {}\n",
    "\n",
    "# Looping params\n",
    "n_epoch = 20\n",
    "batch_size = 128"
   ]
  },
  {
   "cell_type": "code",
   "execution_count": 132,
   "metadata": {},
   "outputs": [],
   "source": [
    "# batch generator\n",
    "def get_batches(X, Y, batch_size):\n",
    "    n_samples = X.shape[0]\n",
    "        \n",
    "    # Shuffle at the start of epoch\n",
    "    indices = np.arange(n_samples)\n",
    "    np.random.shuffle(indices)\n",
    "    \n",
    "    for start in range(0, n_samples, batch_size):\n",
    "        end = min(start + batch_size, n_samples)\n",
    "        \n",
    "        batch_idx = indices[start:end]\n",
    "    \n",
    "        yield X[batch_idx], Y[batch_idx]"
   ]
  },
  {
   "cell_type": "markdown",
   "metadata": {},
   "source": [
    "### Train"
   ]
  },
  {
   "cell_type": "markdown",
   "metadata": {},
   "source": [
    "Basic training loop. Examine it."
   ]
  },
  {
   "cell_type": "code",
   "execution_count": 134,
   "metadata": {
    "scrolled": false
   },
   "outputs": [
    {
     "data": {
      "image/png": "[encoded data removed]",
      "text/plain": [
       "<matplotlib.figure.Figure at 0x22f00391b00>"
      ]
     },
     "metadata": {},
     "output_type": "display_data"
    },
    {
     "name": "stdout",
     "output_type": "stream",
     "text": [
      "Current loss: 0.006542\n"
     ]
    }
   ],
   "source": [
    "loss_history = []\n",
    "\n",
    "for i in range(n_epoch):\n",
    "    for x_batch, y_batch in get_batches(X, Y, batch_size):\n",
    "        net.zeroGradParameters()\n",
    "        \n",
    "        # Forward\n",
    "        predictions = net.forward(x_batch)\n",
    "        loss = criterion.forward(predictions, y_batch)\n",
    "    \n",
    "        # Backward\n",
    "        dp = criterion.backward(predictions, y_batch)\n",
    "        net.backward(x_batch, dp)\n",
    "        \n",
    "        # Update weights\n",
    "        sgd_momentum(net.getParameters(), \n",
    "                     net.getGradParameters(), \n",
    "                     optimizer_config,\n",
    "                     optimizer_state)      \n",
    "        \n",
    "        loss_history.append(loss)\n",
    "\n",
    "    # Visualize\n",
    "    display.clear_output(wait=True)\n",
    "    plt.figure(figsize=(8, 6))\n",
    "        \n",
    "    plt.title(\"Training loss\")\n",
    "    plt.xlabel(\"#iteration\")\n",
    "    plt.ylabel(\"loss\")\n",
    "    plt.plot(loss_history, 'b')\n",
    "    plt.show()\n",
    "    \n",
    "    print('Current loss: %f' % loss)    "
   ]
  },
  {
   "cell_type": "code",
   "execution_count": 135,
   "metadata": {},
   "outputs": [
    {
     "data": {
      "text/plain": [
       "array([[0.92974096, 0.06721362]])"
      ]
     },
     "execution_count": 135,
     "metadata": {},
     "output_type": "execute_result"
    }
   ],
   "source": [
    "net.forward(np.array([[5,10]]))"
   ]
  },
  {
   "cell_type": "code",
   "execution_count": 136,
   "metadata": {},
   "outputs": [
    {
     "data": {
      "text/plain": [
       "(-1.0874903071393854e-05, -1.0874903078744724e-05)"
      ]
     },
     "execution_count": 136,
     "metadata": {},
     "output_type": "execute_result"
    }
   ],
   "source": [
    "gradientChecking(net,2,criterion,x_batch,y_batch,0,(0,1))"
   ]
  },
  {
   "cell_type": "markdown",
   "metadata": {},
   "source": [
    "# Digit classification "
   ]
  },
  {
   "cell_type": "markdown",
   "metadata": {},
   "source": [
    "We are using [MNIST](http://yann.lecun.com/exdb/mnist/) as our dataset. Lets start with [cool visualization](http://scs.ryerson.ca/~aharley/vis/). The most beautiful demo is the second one, if you are not familiar with convolutions you can return to it in several lectures. "
   ]
  },
  {
   "cell_type": "code",
   "execution_count": 14,
   "metadata": {},
   "outputs": [],
   "source": [
    "import os\n",
    "from sklearn.datasets import fetch_mldata\n",
    "\n",
    "# Fetch MNIST dataset and create a local copy.\n",
    "if os.path.exists('mnist.npz'):\n",
    "    with np.load('mnist.npz', 'r') as data:\n",
    "        X = data['X']\n",
    "        y = data['y']\n",
    "else:\n",
    "    mnist = fetch_mldata(\"mnist-original\")\n",
    "    X, y = mnist.data / 255.0, mnist.target\n",
    "    np.savez('mnist.npz', X=X, y=y)"
   ]
  },
  {
   "cell_type": "markdown",
   "metadata": {},
   "source": [
    "One-hot encode the labels first."
   ]
  },
  {
   "cell_type": "code",
   "execution_count": 15,
   "metadata": {},
   "outputs": [
    {
     "name": "stdout",
     "output_type": "stream",
     "text": [
      "[('X', array([[0., 0., 0., ..., 0., 0., 0.],\n",
      "       [0., 0., 0., ..., 0., 0., 0.],\n",
      "       [0., 0., 0., ..., 0., 0., 0.],\n",
      "       ...,\n",
      "       [0., 0., 0., ..., 0., 0., 0.],\n",
      "       [0., 0., 0., ..., 0., 0., 0.],\n",
      "       [0., 0., 0., ..., 0., 0., 0.]])), ('y', array([0., 0., 0., ..., 9., 9., 9.]))]\n"
     ]
    }
   ],
   "source": [
    "with np.load('mnist.npz', 'r') as data:\n",
    "    print(data.items())"
   ]
  },
  {
   "cell_type": "code",
   "execution_count": 16,
   "metadata": {},
   "outputs": [],
   "source": [
    "from sklearn.preprocessing import OneHotEncoder\n",
    "\n",
    "enc = OneHotEncoder()\n",
    "one_hot_y = enc.fit_transform(y.reshape(-1, 1)).todense()"
   ]
  },
  {
   "cell_type": "markdown",
   "metadata": {},
   "source": [
    "- **Compare** `ReLU`, `ELU`, `LeakyReLU`, `SoftPlus` activation functions. \n",
    "You would better pick the best optimizer params for each of them, but it is overkill for now. Use an architecture of your choice for the comparison.\n",
    "- **Try** inserting `BatchMeanSubtraction` between `Linear` module and activation functions.\n",
    "- Plot the losses both from activation functions comparison and `BatchMeanSubtraction` comparison on one plot. Please find a scale (log?) when the lines are distinguishable, do not forget about naming the axes, the plot should be goodlooking.\n",
    "- Hint: logloss for MNIST should be around 0.5. "
   ]
  },
  {
   "cell_type": "code",
   "execution_count": 17,
   "metadata": {},
   "outputs": [],
   "source": [
    "one_hot_y = np.asarray(one_hot_y)"
   ]
  },
  {
   "cell_type": "code",
   "execution_count": 39,
   "metadata": {},
   "outputs": [],
   "source": [
    "np.random.shuffle(one_hot_y)"
   ]
  },
  {
   "cell_type": "code",
   "execution_count": 35,
   "metadata": {},
   "outputs": [
    {
     "name": "stdout",
     "output_type": "stream",
     "text": [
      "Linear 784 -> 1000\n",
      "ReLU\n",
      "Linear 1000 -> 100\n",
      "ReLU\n",
      "Linear 100 -> 100\n",
      "ReLU\n",
      "Linear 100 -> 10\n",
      "ReLU\n",
      "\n"
     ]
    }
   ],
   "source": [
    "criterion = MSECriterion()\n",
    "\n",
    "# Test something like that then \n",
    "\n",
    "net = Sequential()\n",
    "net.add(Linear(784, 1000))\n",
    "net.add(ReLU())\n",
    "net.add(Linear(1000, 100))\n",
    "net.add(ReLU())\n",
    "net.add(Linear(100, 100))\n",
    "net.add(ReLU())\n",
    "net.add(Linear(100, 10))\n",
    "net.add(ReLU())\n",
    "\n",
    "print(net)"
   ]
  },
  {
   "cell_type": "markdown",
   "metadata": {},
   "source": [
    "### Train"
   ]
  },
  {
   "cell_type": "markdown",
   "metadata": {},
   "source": [
    "Basic training loop. Examine it."
   ]
  },
  {
   "cell_type": "code",
   "execution_count": 56,
   "metadata": {},
   "outputs": [],
   "source": [
    "# Iptimizer params\n",
    "optimizer_config = {'learning_rate' : 1e-1, 'momentum': 0.9}\n",
    "optimizer_state = {}\n",
    "\n",
    "# Looping params\n",
    "n_epoch = 20\n",
    "batch_size = 50"
   ]
  },
  {
   "cell_type": "code",
   "execution_count": 60,
   "metadata": {
    "scrolled": false
   },
   "outputs": [
    {
     "data": {
      "image/png": "[encoded data removed]",
      "text/plain": [
       "<matplotlib.figure.Figure at 0x22f1add01d0>"
      ]
     },
     "metadata": {},
     "output_type": "display_data"
    },
    {
     "name": "stdout",
     "output_type": "stream",
     "text": [
      "Current loss: 0.305321\n"
     ]
    }
   ],
   "source": [
    "loss_history = []\n",
    "\n",
    "for i in range(n_epoch):\n",
    "    for x_batch, y_batch in get_batches(X[:200], one_hot_y[:200], batch_size):\n",
    "        net.zeroGradParameters()\n",
    "        \n",
    "        # Forward\n",
    "        predictions = net.forward(x_batch)\n",
    "        loss = criterion.forward(predictions, y_batch)\n",
    "    \n",
    "        # Backward\n",
    "        dp = criterion.backward(predictions, y_batch)\n",
    "        net.backward(x_batch, dp)\n",
    "        \n",
    "        # Update weights\n",
    "        sgd_momentum(net.getParameters(), \n",
    "                     net.getGradParameters(), \n",
    "                     optimizer_config,\n",
    "                     optimizer_state)      \n",
    "        \n",
    "        loss_history.append(loss)\n",
    "\n",
    "    # Visualize\n",
    "    display.clear_output(wait=True)\n",
    "    plt.figure(figsize=(8, 6))\n",
    "        \n",
    "    plt.title(\"Training loss\")\n",
    "    plt.xlabel(\"#iteration\")\n",
    "    plt.ylabel(\"loss\")\n",
    "    plt.plot(loss_history, 'b')\n",
    "    plt.show()\n",
    "    \n",
    "    print('Current loss: %f' % loss)    "
   ]
  },
  {
   "cell_type": "code",
   "execution_count": 55,
   "metadata": {},
   "outputs": [
    {
     "data": {
      "text/plain": [
       "0"
      ]
     },
     "execution_count": 55,
     "metadata": {},
     "output_type": "execute_result"
    }
   ],
   "source": [
    "gc.collect()"
   ]
  },
  {
   "cell_type": "code",
   "execution_count": null,
   "metadata": {},
   "outputs": [],
   "source": []
  },
  {
   "cell_type": "code",
   "execution_count": null,
   "metadata": {},
   "outputs": [],
   "source": []
  },
  {
   "cell_type": "code",
   "execution_count": null,
   "metadata": {},
   "outputs": [],
   "source": []
  },
  {
   "cell_type": "markdown",
   "metadata": {},
   "source": [
    "Write your personal opinion on the activation functions, think about computation times too. Does `BatchMeanSubtraction` help?"
   ]
  },
  {
   "cell_type": "markdown",
   "metadata": {
    "collapsed": true
   },
   "source": []
  },
  {
   "cell_type": "markdown",
   "metadata": {},
   "source": [
    "**Finally**, use all your knowledge to build a super cool model on this dataset, do not forget to split dataset into train and validation. Use **dropout** to prevent overfitting, play with **learning rate decay**. You can use **data augmentation** such as rotations, translations to boost your score. Use your knowledge and imagination to train a model. "
   ]
  },
  {
   "cell_type": "code",
   "execution_count": 55,
   "metadata": {
    "collapsed": true
   },
   "outputs": [],
   "source": []
  },
  {
   "cell_type": "markdown",
   "metadata": {},
   "source": [
    "Print here your accuracy. It should be around 90%."
   ]
  },
  {
   "cell_type": "code",
   "execution_count": null,
   "metadata": {
    "collapsed": true
   },
   "outputs": [],
   "source": []
  },
  {
   "cell_type": "markdown",
   "metadata": {},
   "source": [
    "# Autoencoder (optional) "
   ]
  },
  {
   "cell_type": "markdown",
   "metadata": {},
   "source": [
    "This part is **OPTIONAL**, you may not do it. It will not be scored, but it is easy and interesting."
   ]
  },
  {
   "cell_type": "markdown",
   "metadata": {},
   "source": [
    "Now we are going to build a cool model, named autoencoder. The aim is simple: **encode** the data to a lower dimentional representation. Why? Well, if we can **decode** this representation back to original data with \"small\" reconstuction loss then we can store only compressed representation saving memory. But the most important thing is -- we can reuse trained autoencoder for classification. \n",
    "![](img/autoencoder.png)\n",
    "\n",
    "Picture from this [site](http://multithreaded.stitchfix.com/blog/2015/09/17/deep-style/)."
   ]
  },
  {
   "cell_type": "markdown",
   "metadata": {},
   "source": [
    "Now implement an autoencoder:\n",
    "\n",
    "Build it such that dimetionality inside autoencoder changes like that: \n",
    "\n",
    "$$784 \\text{ (data)} -> 512 -> 256 -> 128 -> 30 -> 128 -> 256 -> 512 -> 784$$\n",
    "\n",
    "Use **MSECriterion** to score the reconstruction. Use **BatchMeanNormalization** between **Linear** and **ReLU**. You may not use nonlinearity in bottleneck layer.\n",
    "\n",
    "You may train it for 9 epochs with batch size = 256, initial lr = 0.1 droping by a factor of 2 every 3 epochs. The reconstruction loss should be about 6.0 and visual quality decent already.\n",
    "Do not spend time on changing architecture, they are more or less the same. "
   ]
  },
  {
   "cell_type": "code",
   "execution_count": 1,
   "metadata": {},
   "outputs": [],
   "source": [
    "# Your code goes here. ################################################"
   ]
  },
  {
   "cell_type": "markdown",
   "metadata": {},
   "source": [
    "Some time ago NNs were a lot poorer and people were struggling to learn deep models. To train a classification net people were training autoencoder first (to train autoencoder people were pretraining single layers with [RBM](https://en.wikipedia.org/wiki/Restricted_Boltzmann_machine)), then substituting the decoder part with classification layer (yeah, they were struggling with training autoencoders a lot, and complex techniques were used at that dark times). We are going to this now, fast and easy.  "
   ]
  },
  {
   "cell_type": "code",
   "execution_count": 2,
   "metadata": {},
   "outputs": [],
   "source": [
    "# Extract inner representation for train and validation, \n",
    "# you should get (n_samples, 30) matrices\n",
    "# Your code goes here. ################################################\n",
    "\n",
    "# Now build a logistic regression or small classification net\n",
    "\n",
    "# Learn the weights\n",
    "# Your code goes here. ################################################\n",
    "\n",
    "# Now chop off decoder part\n",
    "# (you may need to implement `remove` method for Sequential container) \n",
    "# Your code goes here. ################################################\n",
    "\n",
    "# And add learned layers ontop.\n",
    "\n",
    "# Now optimize whole model\n",
    "# Your code goes here. ################################################"
   ]
  },
  {
   "cell_type": "markdown",
   "metadata": {},
   "source": [
    "* What do you think, does it make sense to build real-world classifiers this way ? Did it work better for you than a straightforward one? Looks like it was not the same ~8 years ago, what has changed beside computational power? "
   ]
  },
  {
   "cell_type": "markdown",
   "metadata": {},
   "source": [
    "Run PCA with 30 components on the *train set*, plot original image, autoencoder and PCA reconstructions side by side for 10 samples from *validation set*.\n",
    "Probably you need to use the following snippet to make aoutpencoder examples look comparible."
   ]
  },
  {
   "cell_type": "code",
   "execution_count": 3,
   "metadata": {},
   "outputs": [],
   "source": [
    "# np.clip(prediction,0,1)\n",
    "#\n",
    "# Your code goes here. ################################################"
   ]
  },
  {
   "cell_type": "markdown",
   "metadata": {},
   "source": [
    "# Experiments (interesting) "
   ]
  },
  {
   "cell_type": "markdown",
   "metadata": {},
   "source": [
    "* Use ANN with one hidden layer for simple 1d regression problem (generate random points and fit your model on it).\n",
    "Compare **Tanh** and **ReLu** activations for hidden layer (note that you do not need any nonlinearity for output layer). Also tweak hidden layer size."
   ]
  },
  {
   "cell_type": "code",
   "execution_count": null,
   "metadata": {},
   "outputs": [],
   "source": []
  },
  {
   "cell_type": "markdown",
   "metadata": {},
   "source": [
    "* Train a multilayer model on MNIST and reach ~95% accuracy on test set. Now randomly remove neurons from your network (i.e. set neuron parameters zero). Plot test set accuracy versus number of neurons removed. Do the same expeiment with 1) Dropout layer added, 2) BatchMeanSubtraction layer added."
   ]
  },
  {
   "cell_type": "code",
   "execution_count": null,
   "metadata": {},
   "outputs": [],
   "source": []
  },
  {
   "cell_type": "markdown",
   "metadata": {},
   "source": [
    "* Train a model on MNIST with multiclass criterion. Now backpropagate label throw network, i.e. find the input that would produce given output. Your label was one-hot-encoded (only one digit was on the picture). This time backpropagate label, which has 2 or more ones and see the input picture of the network."
   ]
  },
  {
   "cell_type": "code",
   "execution_count": null,
   "metadata": {},
   "outputs": [],
   "source": []
  }
 ],
 "metadata": {
  "kernelspec": {
   "display_name": "Python 3",
   "language": "python",
   "name": "python3"
  },
  "language_info": {
   "codemirror_mode": {
    "name": "ipython",
    "version": 3
   },
   "file_extension": ".py",
   "mimetype": "text/x-python",
   "name": "python",
   "nbconvert_exporter": "python",
   "pygments_lexer": "ipython3",
   "version": "3.6.4"
  }
 },
 "nbformat": 4,
 "nbformat_minor": 1
}
