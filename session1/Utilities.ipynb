{
 "cells": [
  {
   "cell_type": "code",
   "execution_count": 6,
   "metadata": {},
   "outputs": [],
   "source": [
    "import numpy as np\n",
    "from copy import deepcopy "
   ]
  },
  {
   "cell_type": "code",
   "execution_count": 8,
   "metadata": {},
   "outputs": [],
   "source": [
    "def gradientChecking(net, moduleInd, criterion, X, Y, WB, indexes=(0,0), eps=1e-4):\n",
    "    net  = deepcopy(net)\n",
    "    # Forward\n",
    "    predictions = net.forward(X)\n",
    "    loss = criterion.forward(predictions, Y)\n",
    "\n",
    "    # Backward\n",
    "    dp = criterion.backward(predictions, Y)\n",
    "    net.backward(x_batch, dp)\n",
    "    \n",
    "    x = net.getGradParameters()[moduleInd][WB][indexes]\n",
    "    \n",
    "    net.getParameters()[moduleInd][WB][indexes]+=eps\n",
    "    \n",
    "    loss1 = criterion.forward(net.forward(X), Y)\n",
    "\n",
    "    net.getParameters()[moduleInd][WB][indexes]-=2*eps\n",
    "\n",
    "    loss2 = criterion.forward(net.forward(X), Y)\n",
    "\n",
    "    return (x, (loss1-loss2)/(2*eps))"
   ]
  },
  {
   "cell_type": "code",
   "execution_count": null,
   "metadata": {},
   "outputs": [],
   "source": []
  },
  {
   "cell_type": "code",
   "execution_count": null,
   "metadata": {},
   "outputs": [],
   "source": []
  }
 ],
 "metadata": {
  "kernelspec": {
   "display_name": "Python 3",
   "language": "python",
   "name": "python3"
  },
  "language_info": {
   "codemirror_mode": {
    "name": "ipython",
    "version": 3
   },
   "file_extension": ".py",
   "mimetype": "text/x-python",
   "name": "python",
   "nbconvert_exporter": "python",
   "pygments_lexer": "ipython3",
   "version": "3.6.4"
  }
 },
 "nbformat": 4,
 "nbformat_minor": 2
}
