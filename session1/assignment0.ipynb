{
 "cells": [
  {
   "cell_type": "markdown",
   "metadata": {},
   "source": [
    "## ex. 1"
   ]
  },
  {
   "cell_type": "markdown",
   "metadata": {},
   "source": [
    "$$  \n",
    "y = x^Tx,  \\quad x \\in \\mathbb{R}^N \n",
    "$$"
   ]
  },
  {
   "cell_type": "markdown",
   "metadata": {},
   "source": [
    "$$\n",
    "y = x^{T}x = x^{T}Ix\n",
    "$$\n",
    "\n",
    "$$\n",
    "\\frac{\\partial{y}}{\\partial{x}} = \\frac{\\partial{(x^{T}Ix)}}{\\partial{x}} = (I^T+I)x\n",
    "$$"
   ]
  },
  {
   "cell_type": "markdown",
   "metadata": {},
   "source": [
    "## ex. 2"
   ]
  },
  {
   "cell_type": "markdown",
   "metadata": {},
   "source": [
    "$$ y = tr(AB) \\quad A,B \\in \\mathbb{R}^{N \\times N} $$ "
   ]
  },
  {
   "cell_type": "markdown",
   "metadata": {},
   "source": [
    "$$\n",
    "\\frac{\\partial}{\\partial a_{ij}} y = b_{ji}\n",
    "$$\n",
    "\n",
    "$$\n",
    "\\frac{dy}{dA} = B^T\n",
    "$$"
   ]
  },
  {
   "cell_type": "markdown",
   "metadata": {},
   "source": [
    "## ex. 3"
   ]
  },
  {
   "cell_type": "markdown",
   "metadata": {},
   "source": [
    "$$  \n",
    "y = x^TAc , \\quad A\\in \\mathbb{R}^{N \\times N}, x\\in \\mathbb{R}^{N}, c\\in \\mathbb{R}^{N} \n",
    "$$"
   ]
  },
  {
   "cell_type": "markdown",
   "metadata": {},
   "source": [
    "$$\n",
    "y=x^{T}Ac=\\sum_{i}{c_{i}\\sum_{j}{x_{j}A_{ji}}}\n",
    "$$\n",
    "\n",
    "$$\n",
    "\\frac{dy}{dA_{ij}}=c_{j}x_{i}\n",
    "$$\n",
    "\n",
    "$$\n",
    "\\frac{dy}{dA}=xc^{T}\n",
    "$$"
   ]
  },
  {
   "cell_type": "markdown",
   "metadata": {},
   "source": [
    "## ex. 4"
   ]
  },
  {
   "cell_type": "markdown",
   "metadata": {},
   "source": [
    "$$\n",
    "J = || X - AS ||_2^2  , \\quad A\\in \\mathbb{R}^{N \\times R} , \\quad S\\in \\mathbb{R}^{R \\times M}\n",
    "$$"
   ]
  },
  {
   "cell_type": "markdown",
   "metadata": {},
   "source": [
    "$$\n",
    "\\frac{dJ}{dS} = ?\n",
    "$$"
   ]
  },
  {
   "cell_type": "markdown",
   "metadata": {},
   "source": [
    "$$\n",
    "J = || X - AS ||_2^2  = tr(( X - AS )( X - AS )^T) \n",
    "$$\n",
    "\n",
    "$$\n",
    "\\frac{dJ}{d(X - AS)} =2( X - AS)\n",
    "$$\n",
    "\n",
    "$$\n",
    "\\frac{dJ}{dS_{ij}} \n",
    "= SUM(\\frac{dJ}{d(X - AS)} \\circ  \\frac{d(X - AS)}{dS_{ij}}) \n",
    "= SUM(-2(X - AS) \\circ \\frac{d(AS)}{dS_{ij}} ) =\n",
    "$$\n",
    "\n",
    "$$\n",
    "\\qquad \\quad \\quad \\quad \\quad \\quad \\quad 1  \\quad\\; 2 \\quad\\; \\dots \\quad\\; j\\quad\\; \\dots \\quad\\;  M\n",
    "$$\n",
    "\n",
    "$$\n",
    "= -2 SUM((X - AS)\n",
    "\\begin{bmatrix}\n",
    "    0    & 0   & \\dots & A_{1i} & \\dots & 0\\\\\n",
    "    0    & 0   & \\dots & A_{2i} & \\dots & 0\\\\\n",
    "    \\dots&\\dots& \\dots & \\dots  & \\dots & \\dots \\\\\n",
    "    0    & 0   & \\dots & A_{Ni} & \\dots & 0\n",
    "\\end{bmatrix}\n",
    "$$\n",
    "\n",
    "$$\n",
    "= 2 ( AS - X )[: j] \\cdot A[:  i]\n",
    "$$\n",
    "**\n",
    "where <br/>\n",
    "    $ \\circ $ is Hadamard product<br/>\n",
    "    $ \\cdot $ is dot product<br/>\n",
    "    SUM is sum of matrice elements<br/>\n",
    "**\n",
    "$$\n",
    "\\frac{dJ}{dS} = 2A^{T}(AS - X)\n",
    "$$"
   ]
  }
 ],
 "metadata": {
  "kernelspec": {
   "display_name": "Python 3",
   "language": "python",
   "name": "python3"
  },
  "language_info": {
   "codemirror_mode": {
    "name": "ipython",
    "version": 3
   },
   "file_extension": ".py",
   "mimetype": "text/x-python",
   "name": "python",
   "nbconvert_exporter": "python",
   "pygments_lexer": "ipython3",
   "version": "3.5.5"
  }
 },
 "nbformat": 4,
 "nbformat_minor": 2
}
