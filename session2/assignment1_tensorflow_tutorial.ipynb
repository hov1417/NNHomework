{
 "cells": [
  {
   "cell_type": "markdown",
   "metadata": {},
   "source": [
    "# MNIST master\n",
    "\n",
    "For a demo we shall solve the same digit recognition problem, but at a different scale\n",
    "* images are now 28x28\n",
    "* 10 different digits\n",
    "* 50k samples"
   ]
  },
  {
   "cell_type": "markdown",
   "metadata": {},
   "source": [
    "Before doing this homework, read some code examples written in tensorflow. There is a good repository with code examples: https://github.com/aymericdamien/TensorFlow-Examples. As we already know, we need many samples to learn :)"
   ]
  },
  {
   "cell_type": "code",
   "execution_count": 1,
   "metadata": {},
   "outputs": [],
   "source": [
    "import numpy as np\n",
    "import matplotlib.pyplot as plt\n",
    "%matplotlib inline"
   ]
  },
  {
   "cell_type": "code",
   "execution_count": 2,
   "metadata": {},
   "outputs": [
    {
     "name": "stderr",
     "output_type": "stream",
     "text": [
      "/home/hov/anaconda3/lib/python3.6/site-packages/h5py/__init__.py:36: FutureWarning: Conversion of the second argument of issubdtype from `float` to `np.floating` is deprecated. In future, it will be treated as `np.float64 == np.dtype(float).type`.\n",
      "  from ._conv import register_converters as _register_converters\n"
     ]
    }
   ],
   "source": [
    "import tensorflow as tf"
   ]
  },
  {
   "cell_type": "code",
   "execution_count": 3,
   "metadata": {},
   "outputs": [
    {
     "name": "stdout",
     "output_type": "stream",
     "text": [
      "(50000, 1, 28, 28) (50000,)\n"
     ]
    }
   ],
   "source": [
    "from mnist import load_dataset\n",
    "X_train,y_train,X_val,y_val,X_test,y_test = load_dataset()\n",
    "\n",
    "print(X_train.shape,y_train.shape)"
   ]
  },
  {
   "cell_type": "code",
   "execution_count": 4,
   "metadata": {},
   "outputs": [],
   "source": [
    "#reshaping for convolution\n",
    "X_train=X_train.reshape(-1,28,28,1)\n",
    "X_val=X_val.reshape(-1,28,28,1)\n",
    "X_test=X_test.reshape(-1,28,28,1)"
   ]
  },
  {
   "cell_type": "code",
   "execution_count": 5,
   "metadata": {},
   "outputs": [],
   "source": [
    "tf.reset_default_graph()"
   ]
  },
  {
   "cell_type": "code",
   "execution_count": 6,
   "metadata": {},
   "outputs": [],
   "source": [
    "#defining placeholders for input and target\n",
    "input_X = tf.placeholder(tf.float32, shape=[None, 28, 28, 1], \n",
    "                         name=\"X\")\n",
    "target_y = tf.placeholder(tf.int32, shape=[None], \n",
    "                          name=\"target_Y_integer\")"
   ]
  },
  {
   "cell_type": "markdown",
   "metadata": {},
   "source": [
    "Defining network architecture"
   ]
  },
  {
   "cell_type": "code",
   "execution_count": 7,
   "metadata": {},
   "outputs": [
    {
     "data": {
      "text/plain": [
       "TensorShape([Dimension(None), Dimension(28), Dimension(28), Dimension(1)])"
      ]
     },
     "execution_count": 7,
     "metadata": {},
     "output_type": "execute_result"
    }
   ],
   "source": [
    "input_X.shape"
   ]
  },
  {
   "cell_type": "code",
   "execution_count": 8,
   "metadata": {},
   "outputs": [],
   "source": [
    "l1 = tf.layers.max_pooling2d(tf.layers.conv2d(input_X, 45, 5, activation=tf.nn.relu), 2, 2)\n",
    "\n",
    "l2 = tf.layers.max_pooling2d(tf.layers.conv2d(l1, 30, 4, activation=tf.nn.relu), 2, 2)\n",
    "\n",
    "l2_1 = tf.layers.conv2d(l2, 25, 3, activation=tf.nn.relu)\n",
    "\n",
    "l2_2 = tf.layers.batch_normalization(tf.contrib.layers.flatten(l2_1))\n",
    "\n",
    "# l3 = tf.layers.dense(l2_2, units=100, \n",
    "#                      activation=tf.nn.relu6)\n",
    "\n",
    "# l4 = tf.layers.dense(l2_2, units=1000, \n",
    "#                      activation=tf.nn.relu6)\n",
    "\n",
    "l4_2 = tf.layers.batch_normalization(tf.layers.dense(l2_2, units=100, \n",
    "                     activation=tf.nn.relu6))\n",
    "\n",
    "l4_3 = tf.layers.batch_normalization(tf.layers.dense(l4_2, units=50, \n",
    "                     activation=tf.nn.relu6))\n",
    "\n",
    "l5 = tf.layers.dense(l4_3, units=10, activation=None)\n",
    "\n",
    "l_out = tf.nn.softmax(l5)\n",
    "\n",
    "y_predicted = tf.argmax(l_out, axis=-1)"
   ]
  },
  {
   "cell_type": "code",
   "execution_count": 9,
   "metadata": {},
   "outputs": [
    {
     "data": {
      "text/plain": [
       "[<tf.Variable 'conv2d/kernel:0' shape=(5, 5, 1, 45) dtype=float32_ref>,\n",
       " <tf.Variable 'conv2d/bias:0' shape=(45,) dtype=float32_ref>,\n",
       " <tf.Variable 'conv2d_1/kernel:0' shape=(4, 4, 45, 30) dtype=float32_ref>,\n",
       " <tf.Variable 'conv2d_1/bias:0' shape=(30,) dtype=float32_ref>,\n",
       " <tf.Variable 'conv2d_2/kernel:0' shape=(3, 3, 30, 25) dtype=float32_ref>,\n",
       " <tf.Variable 'conv2d_2/bias:0' shape=(25,) dtype=float32_ref>,\n",
       " <tf.Variable 'batch_normalization/gamma:0' shape=(100,) dtype=float32_ref>,\n",
       " <tf.Variable 'batch_normalization/beta:0' shape=(100,) dtype=float32_ref>,\n",
       " <tf.Variable 'dense/kernel:0' shape=(100, 100) dtype=float32_ref>,\n",
       " <tf.Variable 'dense/bias:0' shape=(100,) dtype=float32_ref>,\n",
       " <tf.Variable 'batch_normalization_1/gamma:0' shape=(100,) dtype=float32_ref>,\n",
       " <tf.Variable 'batch_normalization_1/beta:0' shape=(100,) dtype=float32_ref>,\n",
       " <tf.Variable 'dense_1/kernel:0' shape=(100, 50) dtype=float32_ref>,\n",
       " <tf.Variable 'dense_1/bias:0' shape=(50,) dtype=float32_ref>,\n",
       " <tf.Variable 'batch_normalization_2/gamma:0' shape=(50,) dtype=float32_ref>,\n",
       " <tf.Variable 'batch_normalization_2/beta:0' shape=(50,) dtype=float32_ref>,\n",
       " <tf.Variable 'dense_2/kernel:0' shape=(50, 10) dtype=float32_ref>,\n",
       " <tf.Variable 'dense_2/bias:0' shape=(10,) dtype=float32_ref>]"
      ]
     },
     "execution_count": 9,
     "metadata": {},
     "output_type": "execute_result"
    }
   ],
   "source": [
    "weights = tf.trainable_variables()\n",
    "weights"
   ]
  },
  {
   "cell_type": "markdown",
   "metadata": {},
   "source": [
    "### Than you could simply\n",
    "* define loss function manually\n",
    "* compute error gradient over all weights\n",
    "* define updates\n",
    "* But that's a whole lot of work and life's short\n",
    "  * not to mention life's too short to wait for SGD to converge\n",
    "\n",
    "Instead, we shall use Tensorflow builtins"
   ]
  },
  {
   "cell_type": "code",
   "execution_count": 10,
   "metadata": {},
   "outputs": [],
   "source": [
    "# Mean categorical crossentropy as a loss function\n",
    "# - similar to logistic loss but for multiclass targets\n",
    "loss = tf.reduce_mean(tf.nn.sparse_softmax_cross_entropy_with_logits(\n",
    "    labels=target_y, logits=l_out, name=\"softmax_loss\"))"
   ]
  },
  {
   "cell_type": "code",
   "execution_count": 11,
   "metadata": {},
   "outputs": [
    {
     "data": {
      "text/plain": [
       "[<tf.Variable 'accuracy/total:0' shape=() dtype=float32_ref>,\n",
       " <tf.Variable 'accuracy/count:0' shape=() dtype=float32_ref>]"
      ]
     },
     "execution_count": 11,
     "metadata": {},
     "output_type": "execute_result"
    }
   ],
   "source": [
    "accuracy, update_accuracy = tf.metrics.accuracy(target_y, y_predicted)\n",
    "tf.local_variables()"
   ]
  },
  {
   "cell_type": "code",
   "execution_count": 19,
   "metadata": {},
   "outputs": [],
   "source": [
    "optimzer = tf.train.AdamOptimizer()\n",
    "train_step = optimzer.minimize(loss)"
   ]
  },
  {
   "cell_type": "markdown",
   "metadata": {},
   "source": [
    "### That's all, now let's train it!\n",
    "* We got a lot of data, so it's recommended that you use SGD\n",
    "* So let's implement a function that splits the training sample into minibatches"
   ]
  },
  {
   "cell_type": "code",
   "execution_count": 13,
   "metadata": {},
   "outputs": [],
   "source": [
    "# An auxilary function that returns mini-batches for neural network training\n",
    "\n",
    "#Parameters\n",
    "# inputs - a tensor of images with shape (many, 1, 28, 28), e.g. X_train\n",
    "# outputs - a vector of answers for corresponding images e.g. Y_train\n",
    "#batch_size - a single number - the intended size of each batches\n",
    "\n",
    "def iterate_minibatches(inputs, targets, batchsize):\n",
    "    assert len(inputs) == len(targets)\n",
    "    indices = np.arange(len(inputs))\n",
    "    np.random.shuffle(indices)\n",
    "    for start_idx in range(0, len(inputs) - batchsize + 1, batchsize):\n",
    "        excerpt = indices[start_idx:start_idx + batchsize]\n",
    "        yield inputs[excerpt], targets[excerpt]"
   ]
  },
  {
   "cell_type": "markdown",
   "metadata": {},
   "source": [
    "# Training loop"
   ]
  },
  {
   "cell_type": "markdown",
   "metadata": {},
   "source": [
    "Model saver.\n",
    "<br>\n",
    "See more:\n",
    "http://cv-tricks.com/tensorflow-tutorial/save-restore-tensorflow-models-quick-complete-tutorial/"
   ]
  },
  {
   "cell_type": "code",
   "execution_count": 14,
   "metadata": {},
   "outputs": [],
   "source": [
    "model_path = \"./checkpoints/model.ckpt\"\n",
    "saver = tf.train.Saver()#max_to_keep=3)"
   ]
  },
  {
   "cell_type": "code",
   "execution_count": 15,
   "metadata": {},
   "outputs": [
    {
     "data": {
      "text/plain": [
       "array([5, 0, 4, ..., 8, 4, 8], dtype=uint8)"
      ]
     },
     "execution_count": 15,
     "metadata": {},
     "output_type": "execute_result"
    }
   ],
   "source": [
    "y_train"
   ]
  },
  {
   "cell_type": "code",
   "execution_count": 23,
   "metadata": {
    "scrolled": true
   },
   "outputs": [
    {
     "name": "stdout",
     "output_type": "stream",
     "text": [
      "INFO:tensorflow:Restoring parameters from ./checkpoints/model.ckpt-18\n",
      "Epoch 1 of 100 took 82.144s\n",
      "  training loss (in-iteration):\t\t1.510738\n",
      "  train accuracy:\t\t95.26 %\n",
      "  validation accuracy:\t\t97.10 %\n",
      "  Model saved in file: ./checkpoints/model.ckpt-0\n",
      "Epoch 2 of 100 took 80.590s\n",
      "  training loss (in-iteration):\t\t1.489445\n",
      "  train accuracy:\t\t97.27 %\n",
      "  validation accuracy:\t\t98.05 %\n",
      "  Model saved in file: ./checkpoints/model.ckpt-1\n",
      "Epoch 3 of 100 took 80.741s\n",
      "  training loss (in-iteration):\t\t1.483179\n",
      "  train accuracy:\t\t97.86 %\n",
      "  validation accuracy:\t\t98.08 %\n",
      "  Model saved in file: ./checkpoints/model.ckpt-2\n",
      "Epoch 4 of 100 took 81.390s\n",
      "  training loss (in-iteration):\t\t1.479763\n",
      "  train accuracy:\t\t98.19 %\n",
      "  validation accuracy:\t\t98.44 %\n",
      "  Model saved in file: ./checkpoints/model.ckpt-3\n",
      "Epoch 5 of 100 took 81.079s\n",
      "  training loss (in-iteration):\t\t1.477740\n",
      "  train accuracy:\t\t98.39 %\n",
      "  validation accuracy:\t\t98.31 %\n",
      "  Model saved in file: ./checkpoints/model.ckpt-4\n",
      "Epoch 6 of 100 took 82.351s\n",
      "  training loss (in-iteration):\t\t1.475993\n",
      "  train accuracy:\t\t98.56 %\n",
      "  validation accuracy:\t\t98.35 %\n",
      "  Model saved in file: ./checkpoints/model.ckpt-5\n",
      "Epoch 7 of 100 took 81.894s\n",
      "  training loss (in-iteration):\t\t1.474665\n",
      "  train accuracy:\t\t98.67 %\n",
      "  validation accuracy:\t\t98.57 %\n",
      "  Model saved in file: ./checkpoints/model.ckpt-6\n",
      "Epoch 8 of 100 took 81.802s\n",
      "  training loss (in-iteration):\t\t1.474703\n",
      "  train accuracy:\t\t98.67 %\n",
      "  validation accuracy:\t\t98.31 %\n",
      "  Model saved in file: ./checkpoints/model.ckpt-7\n",
      "Epoch 9 of 100 took 81.766s\n",
      "  training loss (in-iteration):\t\t1.473085\n",
      "  train accuracy:\t\t98.81 %\n",
      "  validation accuracy:\t\t98.55 %\n",
      "  Model saved in file: ./checkpoints/model.ckpt-8\n",
      "Epoch 10 of 100 took 82.039s\n",
      "  training loss (in-iteration):\t\t1.472987\n",
      "  train accuracy:\t\t98.85 %\n",
      "  validation accuracy:\t\t98.61 %\n",
      "  Model saved in file: ./checkpoints/model.ckpt-9\n",
      "Epoch 11 of 100 took 82.087s\n",
      "  training loss (in-iteration):\t\t1.471917\n",
      "  train accuracy:\t\t98.94 %\n",
      "  validation accuracy:\t\t98.64 %\n",
      "  Model saved in file: ./checkpoints/model.ckpt-10\n",
      "Epoch 12 of 100 took 82.219s\n",
      "  training loss (in-iteration):\t\t1.472287\n",
      "  train accuracy:\t\t98.89 %\n",
      "  validation accuracy:\t\t98.37 %\n",
      "  Model saved in file: ./checkpoints/model.ckpt-11\n",
      "Epoch 13 of 100 took 82.571s\n",
      "  training loss (in-iteration):\t\t1.470668\n",
      "  train accuracy:\t\t99.06 %\n",
      "  validation accuracy:\t\t98.59 %\n",
      "  Model saved in file: ./checkpoints/model.ckpt-12\n",
      "Epoch 14 of 100 took 81.133s\n",
      "  training loss (in-iteration):\t\t1.469778\n",
      "  train accuracy:\t\t99.16 %\n",
      "  validation accuracy:\t\t98.92 %\n",
      "  Model saved in file: ./checkpoints/model.ckpt-13\n",
      "Epoch 15 of 100 took 81.233s\n",
      "  training loss (in-iteration):\t\t1.471144\n",
      "  train accuracy:\t\t99.02 %\n",
      "  validation accuracy:\t\t98.64 %\n",
      "  Model saved in file: ./checkpoints/model.ckpt-14\n",
      "Epoch 16 of 100 took 81.856s\n",
      "  training loss (in-iteration):\t\t1.469569\n",
      "  train accuracy:\t\t99.16 %\n",
      "  validation accuracy:\t\t98.85 %\n",
      "  Model saved in file: ./checkpoints/model.ckpt-15\n",
      "Epoch 17 of 100 took 81.273s\n",
      "  training loss (in-iteration):\t\t1.469828\n",
      "  train accuracy:\t\t99.13 %\n",
      "  validation accuracy:\t\t98.59 %\n",
      "  Model saved in file: ./checkpoints/model.ckpt-16\n",
      "Epoch 18 of 100 took 81.492s\n",
      "  training loss (in-iteration):\t\t1.469270\n",
      "  train accuracy:\t\t99.19 %\n",
      "  validation accuracy:\t\t98.88 %\n",
      "  Model saved in file: ./checkpoints/model.ckpt-17\n",
      "Epoch 19 of 100 took 82.953s\n",
      "  training loss (in-iteration):\t\t1.469599\n",
      "  train accuracy:\t\t99.16 %\n",
      "  validation accuracy:\t\t98.95 %\n",
      "  Model saved in file: ./checkpoints/model.ckpt-18\n",
      "Epoch 20 of 100 took 82.564s\n",
      "  training loss (in-iteration):\t\t1.468862\n",
      "  train accuracy:\t\t99.23 %\n",
      "  validation accuracy:\t\t98.77 %\n",
      "  Model saved in file: ./checkpoints/model.ckpt-19\n",
      "Epoch 21 of 100 took 82.460s\n",
      "  training loss (in-iteration):\t\t1.468861\n",
      "  train accuracy:\t\t99.23 %\n",
      "  validation accuracy:\t\t98.82 %\n",
      "  Model saved in file: ./checkpoints/model.ckpt-20\n",
      "Epoch 22 of 100 took 90.156s\n",
      "  training loss (in-iteration):\t\t1.468084\n",
      "  train accuracy:\t\t99.31 %\n",
      "  validation accuracy:\t\t98.87 %\n",
      "  Model saved in file: ./checkpoints/model.ckpt-21\n",
      "Epoch 23 of 100 took 88.515s\n",
      "  training loss (in-iteration):\t\t1.468037\n",
      "  train accuracy:\t\t99.32 %\n",
      "  validation accuracy:\t\t98.74 %\n",
      "  Model saved in file: ./checkpoints/model.ckpt-22\n",
      "Epoch 24 of 100 took 89.757s\n",
      "  training loss (in-iteration):\t\t1.468111\n",
      "  train accuracy:\t\t99.31 %\n",
      "  validation accuracy:\t\t98.87 %\n",
      "  Model saved in file: ./checkpoints/model.ckpt-23\n",
      "Epoch 25 of 100 took 82.608s\n",
      "  training loss (in-iteration):\t\t1.468728\n",
      "  train accuracy:\t\t99.27 %\n",
      "  validation accuracy:\t\t98.78 %\n",
      "  Model saved in file: ./checkpoints/model.ckpt-24\n",
      "Epoch 26 of 100 took 83.251s\n",
      "  training loss (in-iteration):\t\t1.468629\n",
      "  train accuracy:\t\t99.25 %\n",
      "  validation accuracy:\t\t98.72 %\n",
      "  Model saved in file: ./checkpoints/model.ckpt-25\n",
      "Epoch 27 of 100 took 92.607s\n",
      "  training loss (in-iteration):\t\t1.467535\n",
      "  train accuracy:\t\t99.36 %\n",
      "  validation accuracy:\t\t98.94 %\n",
      "  Model saved in file: ./checkpoints/model.ckpt-26\n",
      "Epoch 28 of 100 took 82.687s\n",
      "  training loss (in-iteration):\t\t1.468036\n",
      "  train accuracy:\t\t99.32 %\n",
      "  validation accuracy:\t\t98.79 %\n",
      "  Model saved in file: ./checkpoints/model.ckpt-27\n",
      "Epoch 29 of 100 took 82.620s\n",
      "  training loss (in-iteration):\t\t1.467805\n",
      "  train accuracy:\t\t99.34 %\n",
      "  validation accuracy:\t\t98.80 %\n",
      "  Model saved in file: ./checkpoints/model.ckpt-28\n",
      "Epoch 30 of 100 took 82.936s\n",
      "  training loss (in-iteration):\t\t1.468021\n",
      "  train accuracy:\t\t99.32 %\n",
      "  validation accuracy:\t\t98.78 %\n",
      "  Model saved in file: ./checkpoints/model.ckpt-29\n",
      "Epoch 31 of 100 took 83.031s\n",
      "  training loss (in-iteration):\t\t1.468591\n",
      "  train accuracy:\t\t99.26 %\n",
      "  validation accuracy:\t\t98.94 %\n",
      "  Model saved in file: ./checkpoints/model.ckpt-30\n",
      "Epoch 32 of 100 took 84.673s\n",
      "  training loss (in-iteration):\t\t1.467332\n",
      "  train accuracy:\t\t99.37 %\n",
      "  validation accuracy:\t\t98.78 %\n",
      "  Model saved in file: ./checkpoints/model.ckpt-31\n",
      "Epoch 33 of 100 took 82.796s\n",
      "  training loss (in-iteration):\t\t1.468019\n",
      "  train accuracy:\t\t99.32 %\n",
      "  validation accuracy:\t\t98.74 %\n",
      "  Model saved in file: ./checkpoints/model.ckpt-32\n",
      "Epoch 34 of 100 took 83.664s\n",
      "  training loss (in-iteration):\t\t1.467469\n",
      "  train accuracy:\t\t99.38 %\n",
      "  validation accuracy:\t\t98.70 %\n",
      "  Model saved in file: ./checkpoints/model.ckpt-33\n",
      "Epoch 35 of 100 took 82.124s\n",
      "  training loss (in-iteration):\t\t1.466862\n",
      "  train accuracy:\t\t99.44 %\n",
      "  validation accuracy:\t\t98.97 %\n",
      "  Model saved in file: ./checkpoints/model.ckpt-34\n",
      "Epoch 36 of 100 took 81.982s\n",
      "  training loss (in-iteration):\t\t1.466182\n",
      "  train accuracy:\t\t99.51 %\n",
      "  validation accuracy:\t\t98.85 %\n",
      "  Model saved in file: ./checkpoints/model.ckpt-35\n",
      "Epoch 37 of 100 took 82.928s\n",
      "  training loss (in-iteration):\t\t1.467379\n",
      "  train accuracy:\t\t99.39 %\n",
      "  validation accuracy:\t\t98.75 %\n",
      "  Model saved in file: ./checkpoints/model.ckpt-36\n"
     ]
    },
    {
     "ename": "KeyboardInterrupt",
     "evalue": "",
     "output_type": "error",
     "traceback": [
      "\u001b[0;31m---------------------------------------------------------------------------\u001b[0m",
      "\u001b[0;31mKeyboardInterrupt\u001b[0m                         Traceback (most recent call last)",
      "\u001b[0;32m<ipython-input-23-cd250ff37e95>\u001b[0m in \u001b[0;36m<module>\u001b[0;34m()\u001b[0m\n\u001b[1;32m     23\u001b[0m             _, train_err_batch, _ = sess.run(\n\u001b[1;32m     24\u001b[0m                 \u001b[0;34m[\u001b[0m\u001b[0mtrain_step\u001b[0m\u001b[0;34m,\u001b[0m \u001b[0mloss\u001b[0m\u001b[0;34m,\u001b[0m \u001b[0mupdate_accuracy\u001b[0m\u001b[0;34m]\u001b[0m\u001b[0;34m,\u001b[0m\u001b[0;34m\u001b[0m\u001b[0m\n\u001b[0;32m---> 25\u001b[0;31m                 \u001b[0mfeed_dict\u001b[0m\u001b[0;34m=\u001b[0m\u001b[0;34m{\u001b[0m\u001b[0minput_X\u001b[0m\u001b[0;34m:\u001b[0m \u001b[0minputs\u001b[0m\u001b[0;34m,\u001b[0m \u001b[0mtarget_y\u001b[0m\u001b[0;34m:\u001b[0m\u001b[0mtargets\u001b[0m\u001b[0;34m}\u001b[0m\u001b[0;34m\u001b[0m\u001b[0m\n\u001b[0m\u001b[1;32m     26\u001b[0m             )\n\u001b[1;32m     27\u001b[0m             \u001b[0mtrain_err\u001b[0m \u001b[0;34m+=\u001b[0m \u001b[0mtrain_err_batch\u001b[0m\u001b[0;34m\u001b[0m\u001b[0m\n",
      "\u001b[0;32m~/anaconda3/lib/python3.6/site-packages/tensorflow/python/client/session.py\u001b[0m in \u001b[0;36mrun\u001b[0;34m(self, fetches, feed_dict, options, run_metadata)\u001b[0m\n\u001b[1;32m    898\u001b[0m     \u001b[0;32mtry\u001b[0m\u001b[0;34m:\u001b[0m\u001b[0;34m\u001b[0m\u001b[0m\n\u001b[1;32m    899\u001b[0m       result = self._run(None, fetches, feed_dict, options_ptr,\n\u001b[0;32m--> 900\u001b[0;31m                          run_metadata_ptr)\n\u001b[0m\u001b[1;32m    901\u001b[0m       \u001b[0;32mif\u001b[0m \u001b[0mrun_metadata\u001b[0m\u001b[0;34m:\u001b[0m\u001b[0;34m\u001b[0m\u001b[0m\n\u001b[1;32m    902\u001b[0m         \u001b[0mproto_data\u001b[0m \u001b[0;34m=\u001b[0m \u001b[0mtf_session\u001b[0m\u001b[0;34m.\u001b[0m\u001b[0mTF_GetBuffer\u001b[0m\u001b[0;34m(\u001b[0m\u001b[0mrun_metadata_ptr\u001b[0m\u001b[0;34m)\u001b[0m\u001b[0;34m\u001b[0m\u001b[0m\n",
      "\u001b[0;32m~/anaconda3/lib/python3.6/site-packages/tensorflow/python/client/session.py\u001b[0m in \u001b[0;36m_run\u001b[0;34m(self, handle, fetches, feed_dict, options, run_metadata)\u001b[0m\n\u001b[1;32m   1133\u001b[0m     \u001b[0;32mif\u001b[0m \u001b[0mfinal_fetches\u001b[0m \u001b[0;32mor\u001b[0m \u001b[0mfinal_targets\u001b[0m \u001b[0;32mor\u001b[0m \u001b[0;34m(\u001b[0m\u001b[0mhandle\u001b[0m \u001b[0;32mand\u001b[0m \u001b[0mfeed_dict_tensor\u001b[0m\u001b[0;34m)\u001b[0m\u001b[0;34m:\u001b[0m\u001b[0;34m\u001b[0m\u001b[0m\n\u001b[1;32m   1134\u001b[0m       results = self._do_run(handle, final_targets, final_fetches,\n\u001b[0;32m-> 1135\u001b[0;31m                              feed_dict_tensor, options, run_metadata)\n\u001b[0m\u001b[1;32m   1136\u001b[0m     \u001b[0;32melse\u001b[0m\u001b[0;34m:\u001b[0m\u001b[0;34m\u001b[0m\u001b[0m\n\u001b[1;32m   1137\u001b[0m       \u001b[0mresults\u001b[0m \u001b[0;34m=\u001b[0m \u001b[0;34m[\u001b[0m\u001b[0;34m]\u001b[0m\u001b[0;34m\u001b[0m\u001b[0m\n",
      "\u001b[0;32m~/anaconda3/lib/python3.6/site-packages/tensorflow/python/client/session.py\u001b[0m in \u001b[0;36m_do_run\u001b[0;34m(self, handle, target_list, fetch_list, feed_dict, options, run_metadata)\u001b[0m\n\u001b[1;32m   1314\u001b[0m     \u001b[0;32mif\u001b[0m \u001b[0mhandle\u001b[0m \u001b[0;32mis\u001b[0m \u001b[0;32mNone\u001b[0m\u001b[0;34m:\u001b[0m\u001b[0;34m\u001b[0m\u001b[0m\n\u001b[1;32m   1315\u001b[0m       return self._do_call(_run_fn, feeds, fetches, targets, options,\n\u001b[0;32m-> 1316\u001b[0;31m                            run_metadata)\n\u001b[0m\u001b[1;32m   1317\u001b[0m     \u001b[0;32melse\u001b[0m\u001b[0;34m:\u001b[0m\u001b[0;34m\u001b[0m\u001b[0m\n\u001b[1;32m   1318\u001b[0m       \u001b[0;32mreturn\u001b[0m \u001b[0mself\u001b[0m\u001b[0;34m.\u001b[0m\u001b[0m_do_call\u001b[0m\u001b[0;34m(\u001b[0m\u001b[0m_prun_fn\u001b[0m\u001b[0;34m,\u001b[0m \u001b[0mhandle\u001b[0m\u001b[0;34m,\u001b[0m \u001b[0mfeeds\u001b[0m\u001b[0;34m,\u001b[0m \u001b[0mfetches\u001b[0m\u001b[0;34m)\u001b[0m\u001b[0;34m\u001b[0m\u001b[0m\n",
      "\u001b[0;32m~/anaconda3/lib/python3.6/site-packages/tensorflow/python/client/session.py\u001b[0m in \u001b[0;36m_do_call\u001b[0;34m(self, fn, *args)\u001b[0m\n\u001b[1;32m   1320\u001b[0m   \u001b[0;32mdef\u001b[0m \u001b[0m_do_call\u001b[0m\u001b[0;34m(\u001b[0m\u001b[0mself\u001b[0m\u001b[0;34m,\u001b[0m \u001b[0mfn\u001b[0m\u001b[0;34m,\u001b[0m \u001b[0;34m*\u001b[0m\u001b[0margs\u001b[0m\u001b[0;34m)\u001b[0m\u001b[0;34m:\u001b[0m\u001b[0;34m\u001b[0m\u001b[0m\n\u001b[1;32m   1321\u001b[0m     \u001b[0;32mtry\u001b[0m\u001b[0;34m:\u001b[0m\u001b[0;34m\u001b[0m\u001b[0m\n\u001b[0;32m-> 1322\u001b[0;31m       \u001b[0;32mreturn\u001b[0m \u001b[0mfn\u001b[0m\u001b[0;34m(\u001b[0m\u001b[0;34m*\u001b[0m\u001b[0margs\u001b[0m\u001b[0;34m)\u001b[0m\u001b[0;34m\u001b[0m\u001b[0m\n\u001b[0m\u001b[1;32m   1323\u001b[0m     \u001b[0;32mexcept\u001b[0m \u001b[0merrors\u001b[0m\u001b[0;34m.\u001b[0m\u001b[0mOpError\u001b[0m \u001b[0;32mas\u001b[0m \u001b[0me\u001b[0m\u001b[0;34m:\u001b[0m\u001b[0;34m\u001b[0m\u001b[0m\n\u001b[1;32m   1324\u001b[0m       \u001b[0mmessage\u001b[0m \u001b[0;34m=\u001b[0m \u001b[0mcompat\u001b[0m\u001b[0;34m.\u001b[0m\u001b[0mas_text\u001b[0m\u001b[0;34m(\u001b[0m\u001b[0me\u001b[0m\u001b[0;34m.\u001b[0m\u001b[0mmessage\u001b[0m\u001b[0;34m)\u001b[0m\u001b[0;34m\u001b[0m\u001b[0m\n",
      "\u001b[0;32m~/anaconda3/lib/python3.6/site-packages/tensorflow/python/client/session.py\u001b[0m in \u001b[0;36m_run_fn\u001b[0;34m(feed_dict, fetch_list, target_list, options, run_metadata)\u001b[0m\n\u001b[1;32m   1305\u001b[0m       \u001b[0mself\u001b[0m\u001b[0;34m.\u001b[0m\u001b[0m_extend_graph\u001b[0m\u001b[0;34m(\u001b[0m\u001b[0;34m)\u001b[0m\u001b[0;34m\u001b[0m\u001b[0m\n\u001b[1;32m   1306\u001b[0m       return self._call_tf_sessionrun(\n\u001b[0;32m-> 1307\u001b[0;31m           options, feed_dict, fetch_list, target_list, run_metadata)\n\u001b[0m\u001b[1;32m   1308\u001b[0m \u001b[0;34m\u001b[0m\u001b[0m\n\u001b[1;32m   1309\u001b[0m     \u001b[0;32mdef\u001b[0m \u001b[0m_prun_fn\u001b[0m\u001b[0;34m(\u001b[0m\u001b[0mhandle\u001b[0m\u001b[0;34m,\u001b[0m \u001b[0mfeed_dict\u001b[0m\u001b[0;34m,\u001b[0m \u001b[0mfetch_list\u001b[0m\u001b[0;34m)\u001b[0m\u001b[0;34m:\u001b[0m\u001b[0;34m\u001b[0m\u001b[0m\n",
      "\u001b[0;32m~/anaconda3/lib/python3.6/site-packages/tensorflow/python/client/session.py\u001b[0m in \u001b[0;36m_call_tf_sessionrun\u001b[0;34m(self, options, feed_dict, fetch_list, target_list, run_metadata)\u001b[0m\n\u001b[1;32m   1407\u001b[0m       return tf_session.TF_SessionRun_wrapper(\n\u001b[1;32m   1408\u001b[0m           \u001b[0mself\u001b[0m\u001b[0;34m.\u001b[0m\u001b[0m_session\u001b[0m\u001b[0;34m,\u001b[0m \u001b[0moptions\u001b[0m\u001b[0;34m,\u001b[0m \u001b[0mfeed_dict\u001b[0m\u001b[0;34m,\u001b[0m \u001b[0mfetch_list\u001b[0m\u001b[0;34m,\u001b[0m \u001b[0mtarget_list\u001b[0m\u001b[0;34m,\u001b[0m\u001b[0;34m\u001b[0m\u001b[0m\n\u001b[0;32m-> 1409\u001b[0;31m           run_metadata)\n\u001b[0m\u001b[1;32m   1410\u001b[0m     \u001b[0;32melse\u001b[0m\u001b[0;34m:\u001b[0m\u001b[0;34m\u001b[0m\u001b[0m\n\u001b[1;32m   1411\u001b[0m       \u001b[0;32mwith\u001b[0m \u001b[0merrors\u001b[0m\u001b[0;34m.\u001b[0m\u001b[0mraise_exception_on_not_ok_status\u001b[0m\u001b[0;34m(\u001b[0m\u001b[0;34m)\u001b[0m \u001b[0;32mas\u001b[0m \u001b[0mstatus\u001b[0m\u001b[0;34m:\u001b[0m\u001b[0;34m\u001b[0m\u001b[0m\n",
      "\u001b[0;31mKeyboardInterrupt\u001b[0m: "
     ]
    }
   ],
   "source": [
    "import time\n",
    "\n",
    "num_epochs = 100 # amount of passes through the data\n",
    "\n",
    "batch_size = 100 # number of samples processed at each function call\n",
    "\n",
    "with tf.Session() as sess:\n",
    "    # initialize global wariables\n",
    "    sess.run(tf.global_variables_initializer())\n",
    "    \n",
    "    saver.restore(sess, saver.last_checkpoints[-1])\n",
    "    for epoch in range(num_epochs):\n",
    "        # In each epoch, we do a full pass over the training data:\n",
    "        train_err = 0\n",
    "        train_batches = 0\n",
    "        start_time = time.time()\n",
    "\n",
    "        sess.run(tf.local_variables_initializer())\n",
    "        \n",
    "        \n",
    "        for inputs, targets in iterate_minibatches(X_train[:], y_train[:],batch_size):\n",
    "\n",
    "            _, train_err_batch, _ = sess.run(\n",
    "                [train_step, loss, update_accuracy], \n",
    "                feed_dict={input_X: inputs, target_y:targets}\n",
    "            )\n",
    "            train_err += train_err_batch\n",
    "            train_batches += 1\n",
    "        train_acc = sess.run(accuracy)\n",
    "\n",
    "        # And a full pass over the validation data:\n",
    "        sess.run(tf.local_variables_initializer())\n",
    "        for inputs, targets in iterate_minibatches(X_val, y_val, batch_size):\n",
    "            sess.run(update_accuracy, feed_dict={input_X: inputs, \n",
    "                                                 target_y:targets})\n",
    "        val_acc = sess.run(accuracy)\n",
    "\n",
    "\n",
    "        # Then we print the results for this epoch:\n",
    "        print(\"Epoch {} of {} took {:.3f}s\".format(\n",
    "            epoch + 1, num_epochs, time.time() - start_time))\n",
    "\n",
    "        print(\"  training loss (in-iteration):\\t\\t{:.6f}\".format(train_err / train_batches))\n",
    "        print(\"  train accuracy:\\t\\t{:.2f} %\".format(\n",
    "            train_acc * 100))\n",
    "        print(\"  validation accuracy:\\t\\t{:.2f} %\".format(\n",
    "            val_acc * 100))\n",
    "        \n",
    "        # save model\n",
    "        save_path = saver.save(sess, model_path, global_step=epoch)\n",
    "        print(\"  Model saved in file: %s\" % save_path)"
   ]
  },
  {
   "cell_type": "markdown",
   "metadata": {},
   "source": [
    "Now we can restore saved parameters:"
   ]
  },
  {
   "cell_type": "code",
   "execution_count": 24,
   "metadata": {},
   "outputs": [
    {
     "name": "stdout",
     "output_type": "stream",
     "text": [
      "INFO:tensorflow:Restoring parameters from ./checkpoints/model.ckpt-36\n",
      "Model restored from file: ./checkpoints/model.ckpt-36\n",
      "Final results:\n",
      "  test accuracy:\t\t98.87 %\n",
      "We need more magic!\n"
     ]
    }
   ],
   "source": [
    "with tf.Session() as sess:\n",
    "    sess.run(tf.global_variables_initializer())\n",
    "    load_path = saver.restore(sess, saver.last_checkpoints[-1])\n",
    "    print(\"Model restored from file: %s\" % save_path)\n",
    "    \n",
    "    sess.run(tf.local_variables_initializer())\n",
    "    for batch in iterate_minibatches(X_test, y_test, 500):\n",
    "        inputs, targets = batch\n",
    "        sess.run(update_accuracy, feed_dict={input_X: inputs, \n",
    "                                                   target_y:targets})\n",
    "    test_acc = sess.run(accuracy)\n",
    "    print(\"Final results:\")\n",
    "    print(\"  test accuracy:\\t\\t{:.2f} %\".format(\n",
    "        test_acc* 100))\n",
    "\n",
    "    if test_acc * 100 > 99.5:\n",
    "        print (\"Achievement unlocked: 80lvl Warlock!\")\n",
    "    else:\n",
    "        print (\"We need more magic!\")"
   ]
  },
  {
   "cell_type": "markdown",
   "metadata": {
    "collapsed": true
   },
   "source": [
    "# Now improve it!\n",
    "\n",
    "* Moar layers!\n",
    "* Moar units!\n",
    "* Different nonlinearities!"
   ]
  },
  {
   "cell_type": "code",
   "execution_count": null,
   "metadata": {},
   "outputs": [],
   "source": []
  },
  {
   "cell_type": "code",
   "execution_count": null,
   "metadata": {},
   "outputs": [],
   "source": []
  }
 ],
 "metadata": {
  "kernelspec": {
   "display_name": "Python 3",
   "language": "python",
   "name": "python3"
  },
  "language_info": {
   "codemirror_mode": {
    "name": "ipython",
    "version": 3
   },
   "file_extension": ".py",
   "mimetype": "text/x-python",
   "name": "python",
   "nbconvert_exporter": "python",
   "pygments_lexer": "ipython3",
   "version": "3.6.4"
  }
 },
 "nbformat": 4,
 "nbformat_minor": 1
}
