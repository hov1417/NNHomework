{
 "cells": [
  {
   "cell_type": "markdown",
   "metadata": {},
   "source": [
    "# Using pre-trained NN"
   ]
  },
  {
   "cell_type": "code",
   "execution_count": 1,
   "metadata": {},
   "outputs": [
    {
     "name": "stderr",
     "output_type": "stream",
     "text": [
      "Using TensorFlow backend.\n"
     ]
    }
   ],
   "source": [
    "import numpy as np\n",
    "import tensorflow as tf\n",
    "import keras\n",
    "from matplotlib import pyplot as plt\n",
    "from imageio import imread\n",
    "import pickle"
   ]
  },
  {
   "cell_type": "code",
   "execution_count": 2,
   "metadata": {},
   "outputs": [
    {
     "name": "stderr",
     "output_type": "stream",
     "text": [
      "'wget' is not recognized as an internal or external command,\n",
      "operable program or batch file.\n"
     ]
    }
   ],
   "source": [
    "# download vgg16 weights\n",
    "!wget https://github.com/fchollet/deep-learning-models/releases/download/v0.1/vgg16_weights_tf_dim_ordering_tf_kernels.h5"
   ]
  },
  {
   "cell_type": "code",
   "execution_count": 2,
   "metadata": {},
   "outputs": [],
   "source": [
    "from keras.layers import Input\n",
    "from keras.layers import Conv2D\n",
    "from keras.layers import MaxPool2D\n",
    "from keras.layers import Activation\n",
    "from keras.layers import Dense\n",
    "from keras.layers import Dropout\n",
    "from keras.layers import Flatten # You may need this :)"
   ]
  },
  {
   "cell_type": "code",
   "execution_count": 3,
   "metadata": {},
   "outputs": [],
   "source": [
    "img_input = Input(shape=(224, 224, 3), name=\"input\")\n",
    "\n",
    "\n",
    "conv1_1 = Conv2D(64, 3, padding=\"same\", name=\"conv1_1\", activation=\"relu\")(img_input)\n",
    "conv1_2 = Conv2D(64, 3, padding=\"same\", name=\"conv1_2\", activation=\"relu\")(conv1_1)\n",
    "pool1   = MaxPool2D(strides=2, padding=\"same\", name=\"pool1\")(conv1_2)\n",
    "\n",
    "conv2_1 = Conv2D(128, 3, padding=\"same\", name=\"conv2_1\", activation=\"relu\")(pool1)\n",
    "conv2_2 = Conv2D(128, 3, padding=\"same\", name=\"conv2_2\", activation=\"relu\")(conv2_1)\n",
    "pool2   = MaxPool2D(strides=2, padding=\"same\", name=\"pool2\")(conv2_2)\n",
    "\n",
    "conv3_1 = Conv2D(256, 3, padding=\"same\", name=\"conv3_1\", activation=\"relu\")(pool2)\n",
    "conv3_2 = Conv2D(256, 3, padding=\"same\", name=\"conv3_2\", activation=\"relu\")(conv3_1)\n",
    "conv3_3 = Conv2D(256, 3, padding=\"same\", name=\"conv3_3\", activation=\"relu\")(conv3_2)\n",
    "pool3   = MaxPool2D(strides=2, padding=\"same\", name=\"pool3\")(conv3_3)\n",
    "\n",
    "conv4_1 = Conv2D(512, 3, padding=\"same\", name=\"conv4_1\", activation=\"relu\")(pool3)\n",
    "conv4_2 = Conv2D(512, 3, padding=\"same\", name=\"conv4_2\", activation=\"relu\")(conv4_1)\n",
    "conv4_3 = Conv2D(512, 3, padding=\"same\", name=\"conv4_3\", activation=\"relu\")(conv4_2)\n",
    "pool4   = MaxPool2D(strides=2, padding=\"same\", name=\"pool4\")(conv4_3)\n",
    "\n",
    "conv5_1 = Conv2D(512, 3, padding=\"same\", name=\"conv5_1\", activation=\"relu\")(pool4)\n",
    "conv5_2 = Conv2D(512, 3, padding=\"same\", name=\"conv5_2\", activation=\"relu\")(conv5_1)\n",
    "conv5_3 = Conv2D(512, 3, padding=\"same\", name=\"conv5_3\", activation=\"relu\")(conv5_2)\n",
    "pool5   = MaxPool2D(strides=2, padding=\"same\", name=\"pool5\")(conv5_3)\n",
    "\n",
    "flatten = Flatten()(pool5)\n",
    "\n",
    "fc6     = Dense(4096, activation=\"relu\", name=\"fc6\")(flatten)\n",
    "drop1   = Dropout(0.5)\n",
    "\n",
    "fc7     = Dense(4096, activation=\"relu\", name=\"fc7\")(fc6)\n",
    "drop1   = Dropout(0.5)\n",
    "\n",
    "fc8     = Dense(1000, activation=\"relu\", name=\"fc8\")(fc7)\n",
    "\n",
    "output  = Activation(\"softmax\", name=\"prob\")(fc8)\n",
    "\n",
    "model = keras.Model(img_input, output)"
   ]
  },
  {
   "cell_type": "code",
   "execution_count": 4,
   "metadata": {},
   "outputs": [
    {
     "name": "stdout",
     "output_type": "stream",
     "text": [
      "0.0\n"
     ]
    }
   ],
   "source": [
    "MEAN_VALUES = np.array([104, 117, 123])\n",
    "IMAGE_W = 224\n",
    "\n",
    "def preprocess(img):\n",
    "    img = img[:,:,::-1].astype(np.float64)\n",
    "    for i in range(3):\n",
    "        img[:,:,i] -= MEAN_VALUES[i]\n",
    "        \n",
    "    # convert from [w,h,3 to 1,w,h,3]\n",
    "    return img[None]\n",
    "\n",
    "def deprocess(img):\n",
    "    img = img.reshape(img.shape[1:])\n",
    "    for i in range(3):\n",
    "        img[:,:, i] += MEAN_VALUES[i]\n",
    "    return img[:, :, :: -1].astype(np.uint8)\n",
    "\n",
    "img = (np.random.rand(IMAGE_W, IMAGE_W, 3) * 256).astype(np.uint8)\n",
    "\n",
    "print(np.linalg.norm(deprocess(preprocess(img)) - img))"
   ]
  },
  {
   "cell_type": "markdown",
   "metadata": {},
   "source": [
    "### Deploy the network"
   ]
  },
  {
   "cell_type": "code",
   "execution_count": 5,
   "metadata": {},
   "outputs": [],
   "source": [
    "# load vgg16 weights\n",
    "import h5py\n",
    "with h5py.File(\"vgg16_weights_tf_dim_ordering_tf_kernels.h5\", \"r\") as f:\n",
    "    vgg16_weights = {k1: {k2:v2.value for k2, v2 in v1.items()} \n",
    "                     for k1, v1 in f.items() if len(v1)>0}"
   ]
  },
  {
   "cell_type": "markdown",
   "metadata": {},
   "source": [
    "Now we should put the weights into their places:"
   ]
  },
  {
   "cell_type": "code",
   "execution_count": 6,
   "metadata": {},
   "outputs": [],
   "source": [
    "weightKeys = ['block1_conv1', 'block1_conv2', 'block2_conv1', 'block2_conv2', \n",
    "              'block3_conv1', 'block3_conv2', 'block3_conv3', 'block4_conv1', \n",
    "              'block4_conv2', 'block4_conv3', 'block5_conv1', 'block5_conv2',\n",
    "              'block5_conv3', 'fc1',  'fc2', 'predictions']"
   ]
  },
  {
   "cell_type": "code",
   "execution_count": 7,
   "metadata": {},
   "outputs": [],
   "source": [
    "weights = [[vgg16_weights[x][x+\"_W_1:0\"], vgg16_weights[x][x+\"_b_1:0\"]] for x in weightKeys]"
   ]
  },
  {
   "cell_type": "code",
   "execution_count": 8,
   "metadata": {},
   "outputs": [],
   "source": [
    "layers = [1,2,4,5,7,8,9,11,12,13,15,16,17,20,21,22]"
   ]
  },
  {
   "cell_type": "code",
   "execution_count": 9,
   "metadata": {},
   "outputs": [],
   "source": [
    "for i,w in zip(layers, weights):\n",
    "    model.layers[i].set_weights(w)"
   ]
  },
  {
   "cell_type": "code",
   "execution_count": 10,
   "metadata": {},
   "outputs": [],
   "source": [
    "genFeatures = keras.Model(img_input, flatten)"
   ]
  },
  {
   "cell_type": "code",
   "execution_count": 11,
   "metadata": {},
   "outputs": [],
   "source": [
    "from tqdm import tqdm\n",
    "from skimage.transform import resize as imresize\n",
    "import os"
   ]
  },
  {
   "cell_type": "code",
   "execution_count": 13,
   "metadata": {},
   "outputs": [
    {
     "name": "stderr",
     "output_type": "stream",
     "text": [
      "  0%|          | 0/10 [00:00<?, ?it/s]C:\\Users\\hovhannes.sahakyan\\AppData\\Local\\Continuum\\anaconda3\\envs\\tensorflow\\lib\\site-packages\\skimage\\transform\\_warps.py:105: UserWarning: The default mode, 'constant', will be changed to 'reflect' in skimage 0.15.\n",
      "  warn(\"The default mode, 'constant', will be changed to 'reflect' in \"\n",
      "C:\\Users\\hovhannes.sahakyan\\AppData\\Local\\Continuum\\anaconda3\\envs\\tensorflow\\lib\\site-packages\\skimage\\transform\\_warps.py:110: UserWarning: Anti-aliasing will be enabled by default in skimage 0.15 to avoid aliasing artifacts when down-sampling images.\n",
      "  warn(\"Anti-aliasing will be enabled by default in skimage 0.15 to \"\n",
      "100%|██████████| 10/10 [00:08<00:00,  1.24it/s]\n"
     ]
    }
   ],
   "source": [
    "X = []\n",
    "Y = []\n",
    "\n",
    "#this may be a tedious process. If so, store the results in some pickle and re-use them.\n",
    "for fname in tqdm(os.listdir('train/')[:10]):\n",
    "    y = fname.startswith(\"cat\")\n",
    "    img = imread(\"train/\"+fname)\n",
    "#     print(img.shape)\n",
    "    img = preprocess(imresize(img,(IMAGE_W,IMAGE_W)))\n",
    "    features = genFeatures.predict(img)\n",
    "    Y.append(y)\n",
    "    X.append(features)"
   ]
  },
  {
   "cell_type": "code",
   "execution_count": 22,
   "metadata": {},
   "outputs": [],
   "source": [
    "pickle.dump(X,open(\"X.pkl\",'wb'))\n",
    "pickle.dump(Y,open(\"Y.pkl\",'wb'))"
   ]
  },
  {
   "cell_type": "code",
   "execution_count": null,
   "metadata": {},
   "outputs": [],
   "source": []
  }
 ],
 "metadata": {
  "kernelspec": {
   "display_name": "Python 3",
   "language": "python",
   "name": "python3"
  },
  "language_info": {
   "codemirror_mode": {
    "name": "ipython",
    "version": 3
   },
   "file_extension": ".py",
   "mimetype": "text/x-python",
   "name": "python",
   "nbconvert_exporter": "python",
   "pygments_lexer": "ipython3",
   "version": "3.5.5"
  }
 },
 "nbformat": 4,
 "nbformat_minor": 2
}
