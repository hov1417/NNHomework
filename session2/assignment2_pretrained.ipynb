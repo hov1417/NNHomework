{
 "cells": [
  {
   "cell_type": "markdown",
   "metadata": {},
   "source": [
    "# Using pre-trained NN"
   ]
  },
  {
   "cell_type": "code",
   "execution_count": 1,
   "metadata": {},
   "outputs": [
    {
     "name": "stderr",
     "output_type": "stream",
     "text": [
      "Using TensorFlow backend.\n"
     ]
    }
   ],
   "source": [
    "import numpy as np\n",
    "import tensorflow as tf\n",
    "import keras\n",
    "from matplotlib import pyplot as plt\n",
    "from imageio import imread\n",
    "import pickle\n",
    "import pandas as pd"
   ]
  },
  {
   "cell_type": "code",
   "execution_count": null,
   "metadata": {},
   "outputs": [],
   "source": [
    "!wget https://github.com/fchollet/deep-learning-models/releases/download/v0.1/vgg16_weights_tf_dim_ordering_tf_kernels.h5"
   ]
  },
  {
   "cell_type": "code",
   "execution_count": 2,
   "metadata": {},
   "outputs": [],
   "source": [
    "from keras.layers import Input\n",
    "from keras.layers import Conv2D\n",
    "from keras.layers import MaxPool2D\n",
    "from keras.layers import Activation\n",
    "from keras.layers import Dense\n",
    "from keras.layers import Dropout\n",
    "from keras.layers import Flatten # You may need this :)"
   ]
  },
  {
   "cell_type": "code",
   "execution_count": 3,
   "metadata": {},
   "outputs": [],
   "source": [
    "img_input = Input(shape=(224, 224, 3), name=\"input\")\n",
    "\n",
    "\n",
    "conv1_1 = Conv2D(64, 3, padding=\"same\", name=\"conv1_1\", activation=\"relu\")(img_input)\n",
    "conv1_2 = Conv2D(64, 3, padding=\"same\", name=\"conv1_2\", activation=\"relu\")(conv1_1)\n",
    "pool1   = MaxPool2D(strides=2, padding=\"same\", name=\"pool1\")(conv1_2)\n",
    "\n",
    "conv2_1 = Conv2D(128, 3, padding=\"same\", name=\"conv2_1\", activation=\"relu\")(pool1)\n",
    "conv2_2 = Conv2D(128, 3, padding=\"same\", name=\"conv2_2\", activation=\"relu\")(conv2_1)\n",
    "pool2   = MaxPool2D(strides=2, padding=\"same\", name=\"pool2\")(conv2_2)\n",
    "\n",
    "conv3_1 = Conv2D(256, 3, padding=\"same\", name=\"conv3_1\", activation=\"relu\")(pool2)\n",
    "conv3_2 = Conv2D(256, 3, padding=\"same\", name=\"conv3_2\", activation=\"relu\")(conv3_1)\n",
    "conv3_3 = Conv2D(256, 3, padding=\"same\", name=\"conv3_3\", activation=\"relu\")(conv3_2)\n",
    "pool3   = MaxPool2D(strides=2, padding=\"same\", name=\"pool3\")(conv3_3)\n",
    "\n",
    "conv4_1 = Conv2D(512, 3, padding=\"same\", name=\"conv4_1\", activation=\"relu\")(pool3)\n",
    "conv4_2 = Conv2D(512, 3, padding=\"same\", name=\"conv4_2\", activation=\"relu\")(conv4_1)\n",
    "conv4_3 = Conv2D(512, 3, padding=\"same\", name=\"conv4_3\", activation=\"relu\")(conv4_2)\n",
    "pool4   = MaxPool2D(strides=2, padding=\"same\", name=\"pool4\")(conv4_3)\n",
    "\n",
    "conv5_1 = Conv2D(512, 3, padding=\"same\", name=\"conv5_1\", activation=\"relu\")(pool4)\n",
    "conv5_2 = Conv2D(512, 3, padding=\"same\", name=\"conv5_2\", activation=\"relu\")(conv5_1)\n",
    "conv5_3 = Conv2D(512, 3, padding=\"same\", name=\"conv5_3\", activation=\"relu\")(conv5_2)\n",
    "pool5   = MaxPool2D(strides=2, padding=\"same\", name=\"pool5\")(conv5_3)\n",
    "\n",
    "flatten = Flatten()(pool5)\n",
    "\n",
    "fc6     = Dense(4096, activation=\"relu\", name=\"fc6\")(flatten)\n",
    "drop1   = Dropout(0.5)(fc6)\n",
    "\n",
    "fc7     = Dense(4096, activation=\"relu\", name=\"fc7\")(drop1)\n",
    "drop2   = Dropout(0.5)(fc7)\n",
    "\n",
    "fc8     = Dense(1000, activation=\"relu\", name=\"fc8\")(drop2)\n",
    "\n",
    "output  = Activation(\"softmax\", name=\"prob\")(fc8)\n",
    "\n",
    "model = keras.Model(img_input, output)"
   ]
  },
  {
   "cell_type": "markdown",
   "metadata": {},
   "source": [
    "You have to implement two functions in the cell below.\n",
    "\n",
    "Preprocess function should take the image with shape (w, h, 3) and transform it into a tensor with shape (1, 224, 224, 3). Without this transformation, vgg16 won't be able to digest input image. \n",
    "Additionally, your preprocessing function have to rearrange channels RGB -> BGR and subtract mean values from every channel."
   ]
  },
  {
   "cell_type": "code",
   "execution_count": 4,
   "metadata": {},
   "outputs": [
    {
     "name": "stdout",
     "output_type": "stream",
     "text": [
      "0.0\n"
     ]
    }
   ],
   "source": [
    "MEAN_VALUES = np.array([104, 117, 123])\n",
    "IMAGE_W = 224\n",
    "\n",
    "def preprocess(img):\n",
    "    img = img[:,:,::-1].astype(np.float64)\n",
    "    for i in range(3):\n",
    "        img[:,:,i] -= MEAN_VALUES[i]\n",
    "        \n",
    "    # convert from [w,h,3 to 1,w,h,3]\n",
    "    return img[None]\n",
    "\n",
    "def deprocess(img):\n",
    "    img = img.reshape(img.shape[1:])\n",
    "    for i in range(3):\n",
    "        img[:,:, i] += MEAN_VALUES[i]\n",
    "    return img[:, :, :: -1].astype(np.uint8)\n",
    "\n",
    "img = (np.random.rand(IMAGE_W, IMAGE_W, 3) * 256).astype(np.uint8)\n",
    "\n",
    "print(np.linalg.norm(deprocess(preprocess(img)) - img))"
   ]
  },
  {
   "cell_type": "markdown",
   "metadata": {},
   "source": [
    "If your implementation is correct, the number above will be small, because deprocess function is the inverse of preprocess function"
   ]
  },
  {
   "cell_type": "markdown",
   "metadata": {},
   "source": [
    "### Deploy the network"
   ]
  },
  {
   "cell_type": "code",
   "execution_count": 5,
   "metadata": {},
   "outputs": [],
   "source": [
    "# load vgg16 weights\n",
    "import h5py\n",
    "with h5py.File(\"vgg16_weights_tf_dim_ordering_tf_kernels.h5\", \"r\") as f:\n",
    "    vgg16_weights = {k1: {k2:v2.value for k2, v2 in v1.items()} \n",
    "                     for k1, v1 in f.items() if len(v1)>0}"
   ]
  },
  {
   "cell_type": "markdown",
   "metadata": {},
   "source": [
    "Now we should put the weights into their places:"
   ]
  },
  {
   "cell_type": "code",
   "execution_count": 6,
   "metadata": {},
   "outputs": [],
   "source": [
    "weightKeys = ['block1_conv1', 'block1_conv2', 'block2_conv1', 'block2_conv2', \n",
    "              'block3_conv1', 'block3_conv2', 'block3_conv3', 'block4_conv1', \n",
    "              'block4_conv2', 'block4_conv3', 'block5_conv1', 'block5_conv2',\n",
    "              'block5_conv3', 'fc1',  'fc2', 'predictions']"
   ]
  },
  {
   "cell_type": "code",
   "execution_count": 7,
   "metadata": {},
   "outputs": [],
   "source": [
    "weights = [[vgg16_weights[x][x+\"_W_1:0\"], vgg16_weights[x][x+\"_b_1:0\"]] for x in weightKeys]"
   ]
  },
  {
   "cell_type": "code",
   "execution_count": 9,
   "metadata": {},
   "outputs": [],
   "source": [
    "layers = [1,2,4,5,7,8,9,11,12,13,15,16,17,20,22,24]"
   ]
  },
  {
   "cell_type": "code",
   "execution_count": 10,
   "metadata": {},
   "outputs": [],
   "source": [
    "for i,w in zip(layers, weights):\n",
    "    model.layers[i].set_weights(w)"
   ]
  },
  {
   "cell_type": "code",
   "execution_count": 11,
   "metadata": {
    "scrolled": true
   },
   "outputs": [
    {
     "name": "stdout",
     "output_type": "stream",
     "text": [
      "ostrich, Struthio camelus\n"
     ]
    }
   ],
   "source": [
    "# classes' names are stored here\n",
    "with open(\"classes.txt\", \"r\") as f:\n",
    "    classes = f.read().splitlines()\n",
    "# for example, 10th class is ostrich:\n",
    "print(classes[9])"
   ]
  },
  {
   "cell_type": "markdown",
   "metadata": {},
   "source": [
    "### Sanity check\n",
    "Lets check that out pretrained network is working. We have sample image of a \"albatross\" and lets check that out network predicts it well."
   ]
  },
  {
   "cell_type": "code",
   "execution_count": 12,
   "metadata": {},
   "outputs": [
    {
     "data": {
      "image/png": "[encoded data removed]",
      "text/plain": [
       "<Figure size 432x288 with 1 Axes>"
      ]
     },
     "metadata": {},
     "output_type": "display_data"
    },
    {
     "name": "stdout",
     "output_type": "stream",
     "text": [
      "top-5 classes are:\n",
      "0.996280\talbatross\n",
      "0.003715\tgoose\n",
      "0.000001\tdrake\n",
      "0.000001\twhite stork\n",
      "0.000001\tspoonbill\n"
     ]
    }
   ],
   "source": [
    "img = imread('albatross.jpg')\n",
    "plt.imshow(img)\n",
    "plt.show()\n",
    "\n",
    "p = model.predict(preprocess(img))\n",
    "\n",
    "labels = p.ravel().argsort()[-1:-6:-1]\n",
    "print('top-5 classes are:')\n",
    "for l in labels:\n",
    "    print('%3f\\t%s' % (p.ravel()[l], classes[l].split(',')[0]))"
   ]
  },
  {
   "cell_type": "code",
   "execution_count": null,
   "metadata": {},
   "outputs": [],
   "source": [
    "!wget https://www.dropbox.com/s/d61lupw909hc785/dogs_vs_cats.train.zip?dl=1 -O data.zip\n",
    "!unzip data.zip"
   ]
  },
  {
   "cell_type": "code",
   "execution_count": 13,
   "metadata": {},
   "outputs": [],
   "source": [
    "genFeatures = keras.Model(img_input, fc6)"
   ]
  },
  {
   "cell_type": "code",
   "execution_count": 18,
   "metadata": {
    "scrolled": true
   },
   "outputs": [
    {
     "name": "stderr",
     "output_type": "stream",
     "text": [
      "  0%|                                                                                        | 0/25000 [00:00<?, ?it/s]C:\\Users\\hovhannes.sahakyan\\AppData\\Local\\Continuum\\anaconda3\\envs\\tensorflow\\lib\\site-packages\\skimage\\transform\\_warps.py:105: UserWarning: The default mode, 'constant', will be changed to 'reflect' in skimage 0.15.\n",
      "  warn(\"The default mode, 'constant', will be changed to 'reflect' in \"\n",
      "C:\\Users\\hovhannes.sahakyan\\AppData\\Local\\Continuum\\anaconda3\\envs\\tensorflow\\lib\\site-packages\\skimage\\transform\\_warps.py:110: UserWarning: Anti-aliasing will be enabled by default in skimage 0.15 to avoid aliasing artifacts when down-sampling images.\n",
      "  warn(\"Anti-aliasing will be enabled by default in skimage 0.15 to \"\n",
      "100%|██████████████████████████████████████████████████████████████████████████| 25000/25000 [3:02:06<00:00,  2.29it/s]\n"
     ]
    }
   ],
   "source": [
    "#extract features from images\n",
    "from tqdm import tqdm\n",
    "from skimage.transform import resize as imresize\n",
    "import os\n",
    "X = []\n",
    "Y = []\n",
    "\n",
    "#this may be a tedious process. If so, store the results in some pickle and re-use them.\n",
    "for fname in tqdm(os.listdir('train/')):\n",
    "    y = fname.startswith(\"cat\")\n",
    "    img = imread(\"train/\"+fname)\n",
    "    img = preprocess(imresize(img,(IMAGE_W,IMAGE_W), preserve_range=True))\n",
    "    features = genFeatures.predict(img)\n",
    "    Y.append(y)\n",
    "    X.append(features)"
   ]
  },
  {
   "cell_type": "code",
   "execution_count": 19,
   "metadata": {},
   "outputs": [],
   "source": [
    "X = np.concatenate(X)\n",
    "Y = Y[:len(X)]"
   ]
  },
  {
   "cell_type": "code",
   "execution_count": 20,
   "metadata": {},
   "outputs": [],
   "source": [
    "pickle.dump(X, open(\"X.pkl\",'wb'))\n",
    "pickle.dump(Y, open(\"Y.pkl\",'wb'))"
   ]
  },
  {
   "cell_type": "code",
   "execution_count": 14,
   "metadata": {},
   "outputs": [],
   "source": [
    "X = np.asarray(pickle.load(open(\"X.pkl\",'rb')))\n",
    "Y = np.asarray(pickle.load(open(\"Y.pkl\",'rb')))"
   ]
  },
  {
   "cell_type": "code",
   "execution_count": 16,
   "metadata": {},
   "outputs": [
    {
     "name": "stderr",
     "output_type": "stream",
     "text": [
      "C:\\Users\\hovhannes.sahakyan\\AppData\\Local\\Continuum\\anaconda3\\envs\\tensorflow\\lib\\site-packages\\sklearn\\cross_validation.py:41: DeprecationWarning: This module was deprecated in version 0.18 in favor of the model_selection module into which all the refactored classes and functions are moved. Also note that the interface of the new CV iterators are different from that of this module. This module will be removed in 0.20.\n",
      "  \"This module will be removed in 0.20.\", DeprecationWarning)\n"
     ]
    }
   ],
   "source": [
    "from sklearn.cross_validation import train_test_split\n",
    "\n",
    "X_train, X_test, y_train, y_test = train_test_split(X, Y, test_size=0.2)\n",
    "X_train, X_val, y_train, Y_val = train_test_split(X_train,y_train, test_size=0.25)"
   ]
  },
  {
   "cell_type": "code",
   "execution_count": 111,
   "metadata": {
    "scrolled": true
   },
   "outputs": [
    {
     "name": "stderr",
     "output_type": "stream",
     "text": [
      "  0%|                                                                                        | 0/12500 [00:00<?, ?it/s]C:\\Users\\hovhannes.sahakyan\\AppData\\Local\\Continuum\\anaconda3\\envs\\tensorflow\\lib\\site-packages\\skimage\\transform\\_warps.py:105: UserWarning: The default mode, 'constant', will be changed to 'reflect' in skimage 0.15.\n",
      "  warn(\"The default mode, 'constant', will be changed to 'reflect' in \"\n",
      "C:\\Users\\hovhannes.sahakyan\\AppData\\Local\\Continuum\\anaconda3\\envs\\tensorflow\\lib\\site-packages\\skimage\\transform\\_warps.py:110: UserWarning: Anti-aliasing will be enabled by default in skimage 0.15 to avoid aliasing artifacts when down-sampling images.\n",
      "  warn(\"Anti-aliasing will be enabled by default in skimage 0.15 to \"\n",
      "100%|██████████████████████████████████████████████████████████████████████████| 12500/12500 [1:35:46<00:00,  2.18it/s]\n"
     ]
    }
   ],
   "source": [
    "X_real_test = np.zeros([12500,4096])\n",
    "for fname in tqdm(os.listdir('test/')):\n",
    "    img = imread(\"test/\" + fname)\n",
    "    img = preprocess(imresize(img,(IMAGE_W,IMAGE_W), preserve_range=True))\n",
    "    X_real_test[int(fname[:-4])-1] = genFeatures.predict(img)"
   ]
  },
  {
   "cell_type": "code",
   "execution_count": 122,
   "metadata": {},
   "outputs": [],
   "source": [
    "pickle.dump(X_real_test, open(\"X_test.pkl\",'wb'))"
   ]
  },
  {
   "cell_type": "code",
   "execution_count": 36,
   "metadata": {},
   "outputs": [],
   "source": [
    "X_real_test = np.asarray(pickle.load(open(\"X_test.pkl\",'rb')))"
   ]
  },
  {
   "cell_type": "code",
   "execution_count": 54,
   "metadata": {},
   "outputs": [],
   "source": [
    "from sklearn.ensemble import RandomForestClassifier,ExtraTreesClassifier,GradientBoostingClassifier,AdaBoostClassifier\n",
    "from sklearn.linear_model import LogisticRegression, RidgeClassifier\n",
    "from sklearn.svm import SVC\n",
    "from sklearn.tree import DecisionTreeClassifier\n",
    "import keras.optimizers as opts\n",
    "from keras import losses\n",
    "from sklearn.metrics import average_precision_score\n",
    "from keras import regularizers"
   ]
  },
  {
   "cell_type": "code",
   "execution_count": 55,
   "metadata": {},
   "outputs": [
    {
     "data": {
      "text/plain": [
       "((15000, 4096), (5000, 4096), (5000, 4096))"
      ]
     },
     "execution_count": 55,
     "metadata": {},
     "output_type": "execute_result"
    }
   ],
   "source": [
    "(X_train.shape, X_val.shape, X_test.shape)"
   ]
  },
  {
   "cell_type": "code",
   "execution_count": 70,
   "metadata": {},
   "outputs": [],
   "source": [
    "inpt = Input(shape=(4096,), name=\"in\")\n",
    "\n",
    "l1     = Dense(2000, activation=\"relu\", name=\"l1\", kernel_regularizer=regularizers.l2(0.01))(inpt)\n",
    "drop0   = Dropout(0.5)(l1)\n",
    "\n",
    "l2     = Dense(1000, activation=\"relu\", name=\"l2\")(drop0)\n",
    "drop1   = Dropout(0.5)(l2)\n",
    "\n",
    "l3     = Dense(100, activation=\"relu\", name=\"l3\")(drop1)\n",
    "\n",
    "output = Dense(1, activation=\"sigmoid\", name=\"out\")(l3)\n",
    "\n",
    "mymodel = keras.Model(inpt, output)"
   ]
  },
  {
   "cell_type": "code",
   "execution_count": 71,
   "metadata": {},
   "outputs": [
    {
     "name": "stdout",
     "output_type": "stream",
     "text": [
      "_________________________________________________________________\n",
      "Layer (type)                 Output Shape              Param #   \n",
      "=================================================================\n",
      "in (InputLayer)              (None, 4096)              0         \n",
      "_________________________________________________________________\n",
      "l1 (Dense)                   (None, 2000)              8194000   \n",
      "_________________________________________________________________\n",
      "dropout_19 (Dropout)         (None, 2000)              0         \n",
      "_________________________________________________________________\n",
      "l2 (Dense)                   (None, 1000)              2001000   \n",
      "_________________________________________________________________\n",
      "dropout_20 (Dropout)         (None, 1000)              0         \n",
      "_________________________________________________________________\n",
      "l3 (Dense)                   (None, 100)               100100    \n",
      "_________________________________________________________________\n",
      "out (Dense)                  (None, 1)                 101       \n",
      "=================================================================\n",
      "Total params: 10,295,201\n",
      "Trainable params: 10,295,201\n",
      "Non-trainable params: 0\n",
      "_________________________________________________________________\n"
     ]
    }
   ],
   "source": [
    "opt = opts.Adam()\n",
    "mymodel.compile(optimizer=opt, loss=losses.binary_crossentropy, metrics=['accuracy'])\n",
    "mymodel.summary()"
   ]
  },
  {
   "cell_type": "code",
   "execution_count": 72,
   "metadata": {
    "scrolled": true
   },
   "outputs": [
    {
     "name": "stdout",
     "output_type": "stream",
     "text": [
      "Train on 15000 samples, validate on 5000 samples\n",
      "Epoch 1/20\n",
      "15000/15000 [==============================] - 23s 2ms/step - loss: 17.6206 - acc: 0.4999 - val_loss: 10.1288 - val_acc: 0.5004\n",
      "Epoch 2/20\n",
      "15000/15000 [==============================] - 21s 1ms/step - loss: 8.9509 - acc: 0.5004 - val_loss: 8.3513 - val_acc: 0.5004\n",
      "Epoch 3/20\n",
      "15000/15000 [==============================] - 21s 1ms/step - loss: 5.7204 - acc: 0.6641 - val_loss: 1.6345 - val_acc: 0.9818\n",
      "Epoch 4/20\n",
      "15000/15000 [==============================] - 21s 1ms/step - loss: 0.7254 - acc: 0.9811 - val_loss: 0.3043 - val_acc: 0.9848\n",
      "Epoch 5/20\n",
      "15000/15000 [==============================] - 21s 1ms/step - loss: 0.2462 - acc: 0.9834 - val_loss: 0.2238 - val_acc: 0.9776\n",
      "Epoch 6/20\n",
      "15000/15000 [==============================] - 22s 1ms/step - loss: 0.2098 - acc: 0.9822 - val_loss: 0.2034 - val_acc: 0.9796\n",
      "Epoch 7/20\n",
      "15000/15000 [==============================] - 21s 1ms/step - loss: 0.1851 - acc: 0.9824 - val_loss: 0.1785 - val_acc: 0.9816\n",
      "Epoch 8/20\n",
      "15000/15000 [==============================] - 21s 1ms/step - loss: 0.1774 - acc: 0.9827 - val_loss: 0.1798 - val_acc: 0.9764\n",
      "Epoch 9/20\n",
      "15000/15000 [==============================] - 21s 1ms/step - loss: 0.1917 - acc: 0.9834 - val_loss: 0.1705 - val_acc: 0.9860\n",
      "Epoch 10/20\n",
      "15000/15000 [==============================] - 21s 1ms/step - loss: 0.1634 - acc: 0.9836 - val_loss: 0.1922 - val_acc: 0.9746\n",
      "Epoch 11/20\n",
      "15000/15000 [==============================] - 21s 1ms/step - loss: 0.1643 - acc: 0.9839 - val_loss: 0.1422 - val_acc: 0.9844\n",
      "Epoch 12/20\n",
      "15000/15000 [==============================] - 21s 1ms/step - loss: 0.1404 - acc: 0.9843 - val_loss: 0.1424 - val_acc: 0.9818\n",
      "Epoch 13/20\n",
      "15000/15000 [==============================] - 21s 1ms/step - loss: 0.1552 - acc: 0.9837 - val_loss: 0.1373 - val_acc: 0.9876\n",
      "Epoch 14/20\n",
      "15000/15000 [==============================] - 21s 1ms/step - loss: 0.1475 - acc: 0.9837 - val_loss: 0.1588 - val_acc: 0.9858\n",
      "Epoch 15/20\n",
      "15000/15000 [==============================] - 21s 1ms/step - loss: 0.1390 - acc: 0.9840 - val_loss: 0.1363 - val_acc: 0.9856\n",
      "Epoch 16/20\n",
      "15000/15000 [==============================] - 21s 1ms/step - loss: 0.1476 - acc: 0.9840 - val_loss: 0.1494 - val_acc: 0.9842\n",
      "Epoch 17/20\n",
      "15000/15000 [==============================] - 23s 2ms/step - loss: 0.1451 - acc: 0.9830 - val_loss: 0.1306 - val_acc: 0.9852\n",
      "Epoch 18/20\n",
      "15000/15000 [==============================] - 22s 1ms/step - loss: 0.1344 - acc: 0.9847 - val_loss: 0.1334 - val_acc: 0.9846\n",
      "Epoch 19/20\n",
      "15000/15000 [==============================] - 22s 1ms/step - loss: 0.1466 - acc: 0.9840 - val_loss: 0.1508 - val_acc: 0.9836\n",
      "Epoch 20/20\n",
      "15000/15000 [==============================] - 21s 1ms/step - loss: 0.1351 - acc: 0.9866 - val_loss: 0.1424 - val_acc: 0.9862\n"
     ]
    }
   ],
   "source": [
    "history = mymodel.fit(X_train, y_train, epochs=20 ,batch_size=200,\n",
    "                      validation_data=(X_val, Y_val))"
   ]
  },
  {
   "cell_type": "code",
   "execution_count": 73,
   "metadata": {},
   "outputs": [],
   "source": [
    "pred = mymodel.predict(X_test)"
   ]
  },
  {
   "cell_type": "code",
   "execution_count": 74,
   "metadata": {},
   "outputs": [
    {
     "data": {
      "text/plain": [
       "0.9987170897227021"
      ]
     },
     "execution_count": 74,
     "metadata": {},
     "output_type": "execute_result"
    }
   ],
   "source": [
    "average_precision_score(y_test, pred)"
   ]
  },
  {
   "cell_type": "markdown",
   "metadata": {},
   "source": [
    " "
   ]
  },
  {
   "cell_type": "markdown",
   "metadata": {},
   "source": [
    " "
   ]
  },
  {
   "cell_type": "code",
   "execution_count": 137,
   "metadata": {
    "scrolled": true
   },
   "outputs": [
    {
     "name": "stdout",
     "output_type": "stream",
     "text": [
      "Epoch 1/20\n",
      "25000/25000 [==============================] - 34s 1ms/step - loss: 0.1427 - acc: 0.9819\n",
      "Epoch 2/20\n",
      "25000/25000 [==============================] - 34s 1ms/step - loss: 0.1442 - acc: 0.9829\n",
      "Epoch 3/20\n",
      "25000/25000 [==============================] - 32s 1ms/step - loss: 0.1381 - acc: 0.9830\n",
      "Epoch 4/20\n",
      "25000/25000 [==============================] - 32s 1ms/step - loss: 0.1307 - acc: 0.9827\n",
      "Epoch 5/20\n",
      "25000/25000 [==============================] - 32s 1ms/step - loss: 0.1285 - acc: 0.9836\n",
      "Epoch 6/20\n",
      "25000/25000 [==============================] - 31s 1ms/step - loss: 0.1399 - acc: 0.9829\n",
      "Epoch 7/20\n",
      "25000/25000 [==============================] - 32s 1ms/step - loss: 0.1357 - acc: 0.9828\n",
      "Epoch 8/20\n",
      "25000/25000 [==============================] - 32s 1ms/step - loss: 0.1306 - acc: 0.9836\n",
      "Epoch 9/20\n",
      "25000/25000 [==============================] - 32s 1ms/step - loss: 0.1322 - acc: 0.9832\n",
      "Epoch 10/20\n",
      "25000/25000 [==============================] - 32s 1ms/step - loss: 0.1285 - acc: 0.9828\n",
      "Epoch 11/20\n",
      "25000/25000 [==============================] - 31s 1ms/step - loss: 0.1318 - acc: 0.9836\n",
      "Epoch 12/20\n",
      "25000/25000 [==============================] - 31s 1ms/step - loss: 0.1362 - acc: 0.9822\n",
      "Epoch 13/20\n",
      "25000/25000 [==============================] - 32s 1ms/step - loss: 0.1283 - acc: 0.9842\n",
      "Epoch 14/20\n",
      "25000/25000 [==============================] - 32s 1ms/step - loss: 0.1339 - acc: 0.9834\n",
      "Epoch 15/20\n",
      "25000/25000 [==============================] - 33s 1ms/step - loss: 0.1271 - acc: 0.9834\n",
      "Epoch 16/20\n",
      "25000/25000 [==============================] - 32s 1ms/step - loss: 0.1376 - acc: 0.9818\n",
      "Epoch 17/20\n",
      "25000/25000 [==============================] - 31s 1ms/step - loss: 0.1242 - acc: 0.9838\n",
      "Epoch 18/20\n",
      "25000/25000 [==============================] - 32s 1ms/step - loss: 0.1213 - acc: 0.9837\n",
      "Epoch 19/20\n",
      "25000/25000 [==============================] - 32s 1ms/step - loss: 0.1271 - acc: 0.9832\n",
      "Epoch 20/20\n",
      "25000/25000 [==============================] - 32s 1ms/step - loss: 0.1264 - acc: 0.9841\n"
     ]
    }
   ],
   "source": [
    "history = mymodel.fit(X, Y, epochs=20 ,batch_size=200)"
   ]
  },
  {
   "cell_type": "code",
   "execution_count": 142,
   "metadata": {},
   "outputs": [],
   "source": [
    "mymodel.save_weights(\"NN_weight\")"
   ]
  },
  {
   "cell_type": "code",
   "execution_count": 138,
   "metadata": {},
   "outputs": [],
   "source": [
    "pred = mymodel.predict(X_real_test)"
   ]
  },
  {
   "cell_type": "code",
   "execution_count": 139,
   "metadata": {},
   "outputs": [],
   "source": [
    "df = 1 - pd.DataFrame(pred)"
   ]
  },
  {
   "cell_type": "code",
   "execution_count": 140,
   "metadata": {},
   "outputs": [],
   "source": [
    "df.index = pd.RangeIndex(1, 12501, 1, name=\"id\")\n",
    "df.columns = [\"label\"]"
   ]
  },
  {
   "cell_type": "code",
   "execution_count": 141,
   "metadata": {},
   "outputs": [],
   "source": [
    "df.to_csv(\"submission.csv\")"
   ]
  },
  {
   "cell_type": "code",
   "execution_count": 148,
   "metadata": {},
   "outputs": [],
   "source": [
    "from IPython.display import Image"
   ]
  },
  {
   "cell_type": "code",
   "execution_count": 150,
   "metadata": {},
   "outputs": [
    {
     "data": {
      "image/png": "[encoded data removed]",
      "text/plain": [
       "<IPython.core.display.Image object>"
      ]
     },
     "execution_count": 150,
     "metadata": {},
     "output_type": "execute_result"
    }
   ],
   "source": [
    "Image(filename=\"kaggle.png\")"
   ]
  },
  {
   "cell_type": "markdown",
   "metadata": {},
   "source": [
    " "
   ]
  },
  {
   "cell_type": "markdown",
   "metadata": {},
   "source": [
    " "
   ]
  },
  {
   "cell_type": "markdown",
   "metadata": {},
   "source": [
    " "
   ]
  },
  {
   "cell_type": "markdown",
   "metadata": {},
   "source": [
    " "
   ]
  },
  {
   "cell_type": "markdown",
   "metadata": {},
   "source": [
    " "
   ]
  }
 ],
 "metadata": {
  "kernelspec": {
   "display_name": "Python 3",
   "language": "python",
   "name": "python3"
  },
  "language_info": {
   "codemirror_mode": {
    "name": "ipython",
    "version": 3
   },
   "file_extension": ".py",
   "mimetype": "text/x-python",
   "name": "python",
   "nbconvert_exporter": "python",
   "pygments_lexer": "ipython3",
   "version": "3.5.5"
  }
 },
 "nbformat": 4,
 "nbformat_minor": 1
}
