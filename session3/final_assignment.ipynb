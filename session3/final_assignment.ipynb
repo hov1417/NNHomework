{
 "cells": [
  {
   "cell_type": "markdown",
   "metadata": {},
   "source": [
    "This requires you to write a 2D GAN game. I let you to get into the topic yourself, whitout any explonations from my side. You can watch internet, read papers and tutorials (fun, fun, fun)."
   ]
  },
  {
   "cell_type": "markdown",
   "metadata": {},
   "source": [
    "### Homework"
   ]
  },
  {
   "cell_type": "markdown",
   "metadata": {
    "collapsed": true
   },
   "source": [
    "I want you to implement a simple 2D GAN game. The kind of animation, I want to see is like in [this video](https://www.youtube.com/watch?v=KeJINHjyzOU&feature=youtu.be&t=15m38s) at 15:36 or in [here](https://habrahabr.ru/post/275429/) **but in 2D**. You can google, search code at github, whatever, but the network should be based on TensoFlow.\n",
    "\n",
    "Basically you will need to come up with true distribution $P$, say mixture of gaussians (surprise me), sample some data from it. Visualize it as a heatmap. To visualize $G$ density you can fix $N$ noise vectors $\\{z_i\\} \\quad i=1,\\dots, N$ and draw a circle for each $G(z_i)$. It is also funny to visualize discriminator as a vector field (can be done with `plt.arrow`, `plt.quiver` plot). Look how it should be in the middle of [this page](http://www.inference.vc/an-alternative-update-rule-for-generative-adversarial-networks/).\n",
    "\n",
    "Please, make sure your code works if 'Run All' is pressed and it draws some animation.\n",
    "\n",
    "Good luck!"
   ]
  },
  {
   "cell_type": "code",
   "execution_count": 1,
   "metadata": {},
   "outputs": [],
   "source": [
    "import numpy as np\n",
    "import tensorflow as tf\n",
    "import matplotlib.pyplot as plt\n",
    "from IPython.display import clear_output"
   ]
  },
  {
   "cell_type": "code",
   "execution_count": 2,
   "metadata": {},
   "outputs": [],
   "source": [
    "init = tf.initializers.random_uniform(-1,1)"
   ]
  },
  {
   "cell_type": "code",
   "execution_count": 3,
   "metadata": {},
   "outputs": [],
   "source": [
    "def discriminator(inpt, reuse):\n",
    "    with tf.variable_scope(\"Discriminator\", reuse=reuse):\n",
    "        dl1 = tf.layers.dense(inpt,  20, activation=tf.nn.relu, name=\"dl1\", kernel_initializer=init)\n",
    "#         dl2 = tf.layers.dense( dl1, 100, activation=tf.nn.relu, name=\"dl2\", kernel_initializer=init)\n",
    "        dl3 = tf.layers.dense( dl1,  20, activation=tf.nn.relu, name=\"dl3\", kernel_initializer=init)\n",
    "        dis = tf.layers.dense( dl3,   1, name=\"dis\")\n",
    "        prob= tf.sigmoid(dis)\n",
    "    return dis, prob"
   ]
  },
  {
   "cell_type": "code",
   "execution_count": 4,
   "metadata": {},
   "outputs": [],
   "source": [
    "inX = tf.placeholder(tf.float32, shape=[None, 1], name=\"X\")\n",
    "y   = tf.placeholder(tf.float32, shape=[None, 1], name=\"target\")\n",
    "\n",
    "dis, dis_prob = discriminator(inX, False)"
   ]
  },
  {
   "cell_type": "code",
   "execution_count": 5,
   "metadata": {},
   "outputs": [],
   "source": [
    "z  = tf.placeholder(tf.float32, shape=[None, 1], name=\"z\")\n",
    "\n",
    "with tf.variable_scope(\"Generator\"):\n",
    "\n",
    "    gl1 = tf.layers.dense(z,   20, activation=tf.nn.sigmoid, name=\"gl1\", kernel_initializer=init)\n",
    "#     gl2 = tf.layers.dense(gl1,100, activation=tf.nn.sigmoid, name=\"gl2\", kernel_initializer=init)\n",
    "    gl3 = tf.layers.dense(gl1, 20, activation=tf.nn.sigmoid, name=\"gl3\", kernel_initializer=init)\n",
    "    gen = tf.layers.dense(gl3,  1, name=\"gen\")\n",
    "    \n",
    "combined, prob_combined = discriminator(gen, True)"
   ]
  },
  {
   "cell_type": "code",
   "execution_count": 6,
   "metadata": {},
   "outputs": [],
   "source": [
    "gen_vars  = tf.get_collection(tf.GraphKeys.GLOBAL_VARIABLES, scope=\"Generator\")\n",
    "disc_vars = tf.get_collection(tf.GraphKeys.GLOBAL_VARIABLES, scope=\"Discriminator\")"
   ]
  },
  {
   "cell_type": "code",
   "execution_count": 7,
   "metadata": {},
   "outputs": [],
   "source": [
    "dloss = tf.reduce_mean(tf.nn.sigmoid_cross_entropy_with_logits(logits=dis,      labels=y))\n",
    "gloss = tf.reduce_mean(tf.nn.sigmoid_cross_entropy_with_logits(logits=combined, labels=y))"
   ]
  },
  {
   "cell_type": "code",
   "execution_count": 8,
   "metadata": {},
   "outputs": [],
   "source": [
    "writer = tf.summary.FileWriter('log/')"
   ]
  },
  {
   "cell_type": "code",
   "execution_count": 9,
   "metadata": {},
   "outputs": [],
   "source": [
    "writer.add_graph(tf.get_default_graph())"
   ]
  },
  {
   "cell_type": "code",
   "execution_count": 10,
   "metadata": {},
   "outputs": [],
   "source": [
    "writer.close()"
   ]
  },
  {
   "cell_type": "code",
   "execution_count": 11,
   "metadata": {},
   "outputs": [],
   "source": [
    "train_gen = tf.train.AdamOptimizer(0.01).minimize(gloss, var_list=gen_vars)\n",
    "train_dis = tf.train.AdamOptimizer(0.01).minimize(dloss, var_list=disc_vars)"
   ]
  },
  {
   "cell_type": "code",
   "execution_count": 12,
   "metadata": {},
   "outputs": [],
   "source": [
    "data = np.random.normal(-5, 1, size=(100000,1))"
   ]
  },
  {
   "cell_type": "code",
   "execution_count": 13,
   "metadata": {},
   "outputs": [],
   "source": [
    "def sampleNoise(batch_size):\n",
    "    return (np.linspace(-7, -3, batch_size) + np.random.uniform(-0.01, 0.01, batch_size))[None].T"
   ]
  },
  {
   "cell_type": "code",
   "execution_count": 26,
   "metadata": {},
   "outputs": [],
   "source": [
    "def generate_data_for_dist(batch_size):\n",
    "    assert batch_size%2 == 0\n",
    "    \n",
    "    real_data = np.random.choice(data[:,0], (batch_size//2, 1))\n",
    "    generated_data = sess.run(gen, feed_dict={z: sampleNoise(batch_size//2)})\n",
    "    \n",
    "    y = np.ones((batch_size, 1))\n",
    "    y[:batch_size//2] = 0\n",
    "    return np.concatenate((real_data, generated_data)),y"
   ]
  },
  {
   "cell_type": "code",
   "execution_count": 27,
   "metadata": {},
   "outputs": [
    {
     "data": {
      "text/plain": [
       "(array([[-4.45921653],\n",
       "        [-4.52007449],\n",
       "        [ 0.90320641],\n",
       "        [ 0.91568547]]), array([[0.],\n",
       "        [0.],\n",
       "        [1.],\n",
       "        [1.]]))"
      ]
     },
     "execution_count": 27,
     "metadata": {},
     "output_type": "execute_result"
    }
   ],
   "source": [
    "generate_data_for_dist(4)"
   ]
  },
  {
   "cell_type": "code",
   "execution_count": 24,
   "metadata": {},
   "outputs": [],
   "source": [
    "if \"sess\" in dir():\n",
    "    sess.close()\n",
    "sess = tf.Session()\n",
    "sess.run(tf.global_variables_initializer())"
   ]
  },
  {
   "cell_type": "code",
   "execution_count": 21,
   "metadata": {},
   "outputs": [],
   "source": [
    "l = np.linspace(-20, 5, 100)[None].T\n",
    "noise = np.linspace(-20, 5, 10000)[None].T"
   ]
  },
  {
   "cell_type": "code",
   "execution_count": 29,
   "metadata": {
    "scrolled": false
   },
   "outputs": [
    {
     "data": {
      "image/png": "[encoded data removed]",
      "text/plain": [
       "<Figure size 864x864 with 2 Axes>"
      ]
     },
     "metadata": {},
     "output_type": "display_data"
    },
    {
     "name": "stdout",
     "output_type": "stream",
     "text": [
      "gen  0.6931288\n",
      "dis  0.6931472\n",
      "epoch 5000\n"
     ]
    }
   ],
   "source": [
    "num_epochs = 5000\n",
    "batch_size = 200\n",
    "\n",
    "glosshist=[]\n",
    "dlosshist=[]\n",
    "\n",
    "with tf.device(\"/device:GPU:0\"):\n",
    "    for epoch in range(num_epochs):\n",
    "\n",
    "        X, Y = generate_data_for_dist(batch_size)\n",
    "\n",
    "        _, dis_train_err = sess.run([train_dis, dloss], feed_dict={inX: X, y: Y})\n",
    "        _, gen_train_err = sess.run([train_gen, gloss],\n",
    "                                 feed_dict={z: sampleNoise(100*batch_size),\n",
    "                                            y: np.zeros((100*batch_size,1))})\n",
    "\n",
    "        dlosshist.append(dis_train_err)\n",
    "        glosshist.append(gen_train_err)\n",
    "\n",
    "        clear_output(wait=True)\n",
    "        plt.figure(figsize=(12,12))\n",
    "        plt.subplot(211)\n",
    "        glh = np.array(glosshist[-500:])\n",
    "        dlh = np.array(dlosshist[-500:])\n",
    "        plt.plot(glh, label=\"generator loss\")\n",
    "        plt.plot(dlh, label=\"discriminator loss\")\n",
    "        plt.plot(glh + dlh, label=\"summary loss\")\n",
    "        plt.legend()\n",
    "\n",
    "        out = sess.run(dis_prob, feed_dict={inX: l})\n",
    "        plt.subplot(212)\n",
    "        plt.plot(l, out);\n",
    "\n",
    "        generated = sess.run(gen, feed_dict={z: noise})\n",
    "        hist = np.histogram(generated, 100)\n",
    "        plt.plot(hist[1][:-1], hist[0].astype(float)/len(generated));\n",
    "#         plt.plot(noise, generated)\n",
    "\n",
    "        plt.show()\n",
    "\n",
    "        print(\"gen \", gen_train_err)\n",
    "        print(\"dis \", dis_train_err)\n",
    "        print(\"epoch\", len(glosshist))"
   ]
  },
  {
   "cell_type": "code",
   "execution_count": null,
   "metadata": {},
   "outputs": [],
   "source": [
    "\n",
    "out = sess.run(dis_prob, feed_dict={inX: l})\n",
    "plt.subplot(212)\n",
    "plt.plot(l, out);\n",
    "\n",
    "# generated = sess.run(gen, feed_dict={z: noise})\n",
    "hist = np.histogram(generated, 100)\n",
    "plt.plot(hist[1][:-1], hist[0].astype(float)/len(generated));"
   ]
  },
  {
   "cell_type": "code",
   "execution_count": null,
   "metadata": {},
   "outputs": [],
   "source": [
    "hist = np.histogram(generated, 100)\n",
    "plt.plot(hist[1][:-1], hist[0].astype(float)/len(generated));"
   ]
  },
  {
   "cell_type": "code",
   "execution_count": null,
   "metadata": {},
   "outputs": [],
   "source": []
  },
  {
   "cell_type": "code",
   "execution_count": null,
   "metadata": {},
   "outputs": [],
   "source": [
    "out = sess.run(dis_prob, feed_dict={inX: l})"
   ]
  },
  {
   "cell_type": "code",
   "execution_count": null,
   "metadata": {},
   "outputs": [],
   "source": [
    "plt.figure(figsize=(12,6))\n",
    "plt.plot(l, out);"
   ]
  },
  {
   "cell_type": "code",
   "execution_count": null,
   "metadata": {},
   "outputs": [],
   "source": [
    "generated = sess.run(gen, feed_dict={z: np.linspace(-10,10,10000)[None].T})"
   ]
  },
  {
   "cell_type": "code",
   "execution_count": null,
   "metadata": {},
   "outputs": [],
   "source": [
    "generated.min(), generated.mean(), generated.max()"
   ]
  },
  {
   "cell_type": "code",
   "execution_count": null,
   "metadata": {},
   "outputs": [],
   "source": [
    "data.min(), data.mean(), data.max()"
   ]
  },
  {
   "cell_type": "code",
   "execution_count": null,
   "metadata": {},
   "outputs": [],
   "source": [
    "plt.figure(figsize=(12,6))\n",
    "plt.hist(generated, 10);"
   ]
  },
  {
   "cell_type": "code",
   "execution_count": null,
   "metadata": {},
   "outputs": [],
   "source": [
    "plt.hist(data, bins=50);"
   ]
  },
  {
   "cell_type": "code",
   "execution_count": null,
   "metadata": {},
   "outputs": [],
   "source": []
  },
  {
   "cell_type": "code",
   "execution_count": null,
   "metadata": {},
   "outputs": [],
   "source": []
  }
 ],
 "metadata": {
  "kernelspec": {
   "display_name": "Python 3",
   "language": "python",
   "name": "python3"
  },
  "language_info": {
   "codemirror_mode": {
    "name": "ipython",
    "version": 3
   },
   "file_extension": ".py",
   "mimetype": "text/x-python",
   "name": "python",
   "nbconvert_exporter": "python",
   "pygments_lexer": "ipython3",
   "version": "3.5.5"
  }
 },
 "nbformat": 4,
 "nbformat_minor": 1
}
