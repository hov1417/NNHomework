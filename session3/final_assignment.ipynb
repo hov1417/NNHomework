{
 "cells": [
  {
   "cell_type": "markdown",
   "metadata": {},
   "source": [
    "This requires you to write a 2D GAN game. I let you to get into the topic yourself, whitout any explonations from my side. You can watch internet, read papers and tutorials (fun, fun, fun)."
   ]
  },
  {
   "cell_type": "markdown",
   "metadata": {},
   "source": [
    "### Homework"
   ]
  },
  {
   "cell_type": "markdown",
   "metadata": {
    "collapsed": true
   },
   "source": [
    "I want you to implement a simple 2D GAN game. The kind of animation, I want to see is like in [this video](https://www.youtube.com/watch?v=KeJINHjyzOU&feature=youtu.be&t=15m38s) at 15:36 or in [here](https://habrahabr.ru/post/275429/) **but in 2D**. You can google, search code at github, whatever, but the network should be based on TensoFlow.\n",
    "\n",
    "Basically you will need to come up with true distribution $P$, say mixture of gaussians (surprise me), sample some data from it. Visualize it as a heatmap. To visualize $G$ density you can fix $N$ noise vectors $\\{z_i\\} \\quad i=1,\\dots, N$ and draw a circle for each $G(z_i)$. It is also funny to visualize discriminator as a vector field (can be done with `plt.arrow`, `plt.quiver` plot). Look how it should be in the middle of [this page](http://www.inference.vc/an-alternative-update-rule-for-generative-adversarial-networks/).\n",
    "\n",
    "Please, make sure your code works if 'Run All' is pressed and it draws some animation.\n",
    "\n",
    "Good luck!"
   ]
  },
  {
   "cell_type": "code",
   "execution_count": 1,
   "metadata": {},
   "outputs": [
    {
     "name": "stderr",
     "output_type": "stream",
     "text": [
      "/home/hov/anaconda3/lib/python3.6/site-packages/h5py/__init__.py:36: FutureWarning: Conversion of the second argument of issubdtype from `float` to `np.floating` is deprecated. In future, it will be treated as `np.float64 == np.dtype(float).type`.\n",
      "  from ._conv import register_converters as _register_converters\n"
     ]
    }
   ],
   "source": [
    "import numpy as np\n",
    "import tensorflow as tf\n",
    "import matplotlib.pyplot as plt\n",
    "from IPython.display import clear_output"
   ]
  },
  {
   "cell_type": "code",
   "execution_count": 2,
   "metadata": {},
   "outputs": [],
   "source": [
    "init = tf.initializers.random_uniform(-1,1)"
   ]
  },
  {
   "cell_type": "code",
   "execution_count": 3,
   "metadata": {},
   "outputs": [],
   "source": [
    "def discriminator(inpt, reuse):\n",
    "    with tf.variable_scope(\"Discriminator\", reuse=reuse):\n",
    "        dl1 = tf.layers.dense(inpt,  20, activation=tf.nn.relu, name=\"dl1\", kernel_initializer=init)\n",
    "#         dl2 = tf.layers.dense( dl1, 100, activation=tf.nn.relu, name=\"dl2\", kernel_initializer=init)\n",
    "        dl3 = tf.layers.dense( dl1,  20, activation=tf.nn.relu, name=\"dl3\", kernel_initializer=init)\n",
    "        dis = tf.layers.dense( dl3,   1, name=\"dis\")\n",
    "        prob= tf.sigmoid(dis)\n",
    "    return dis, prob"
   ]
  },
  {
   "cell_type": "code",
   "execution_count": 4,
   "metadata": {},
   "outputs": [],
   "source": [
    "inX = tf.placeholder(tf.float32, shape=[None, 1], name=\"X\")\n",
    "y   = tf.placeholder(tf.float32, shape=[None, 1], name=\"target\")\n",
    "\n",
    "dis, dis_prob = discriminator(inX, False)"
   ]
  },
  {
   "cell_type": "code",
   "execution_count": 5,
   "metadata": {},
   "outputs": [],
   "source": [
    "z  = tf.placeholder(tf.float32, shape=[None, 1], name=\"z\")\n",
    "\n",
    "with tf.variable_scope(\"Generator\"):\n",
    "\n",
    "    gl1 = tf.layers.dense(z,   20, activation=tf.nn.relu, name=\"gl1\", kernel_initializer=init)\n",
    "    gl2 = tf.layers.dense(gl1, 20, activation=tf.nn.relu, name=\"gl2\", kernel_initializer=init)\n",
    "#     gl3 = tf.layers.dense(gl2, 20, activation=tf.nn.relu, name=\"gl3\", kernel_initializer=init)\n",
    "#     gl4 = tf.layers.dense(gl3, 20, activation=tf.nn.relu, name=\"gl4\", kernel_initializer=init)\n",
    "    gen = tf.layers.dense(gl2,  1, name=\"gen\")\n",
    "    \n",
    "combined, prob_combined = discriminator(gen, True)"
   ]
  },
  {
   "cell_type": "code",
   "execution_count": 6,
   "metadata": {},
   "outputs": [],
   "source": [
    "gen_vars  = tf.get_collection(tf.GraphKeys.GLOBAL_VARIABLES, scope=\"Generator\")\n",
    "disc_vars = tf.get_collection(tf.GraphKeys.GLOBAL_VARIABLES, scope=\"Discriminator\")"
   ]
  },
  {
   "cell_type": "code",
   "execution_count": 7,
   "metadata": {},
   "outputs": [],
   "source": [
    "dloss = tf.reduce_mean(tf.nn.sigmoid_cross_entropy_with_logits(logits=dis,      labels=y))\n",
    "gloss = tf.reduce_mean(tf.nn.sigmoid_cross_entropy_with_logits(logits=combined, labels=y))"
   ]
  },
  {
   "cell_type": "code",
   "execution_count": 8,
   "metadata": {},
   "outputs": [],
   "source": [
    "writer = tf.summary.FileWriter('log/')"
   ]
  },
  {
   "cell_type": "code",
   "execution_count": 9,
   "metadata": {},
   "outputs": [],
   "source": [
    "writer.add_graph(tf.get_default_graph())"
   ]
  },
  {
   "cell_type": "code",
   "execution_count": 10,
   "metadata": {},
   "outputs": [],
   "source": [
    "writer.close()"
   ]
  },
  {
   "cell_type": "code",
   "execution_count": 11,
   "metadata": {},
   "outputs": [],
   "source": [
    "train_gen = tf.train.RMSPropOptimizer(0.01).minimize(gloss, var_list=gen_vars)\n",
    "train_dis = tf.train.RMSPropOptimizer(0.01).minimize(dloss, var_list=disc_vars)"
   ]
  },
  {
   "cell_type": "code",
   "execution_count": 12,
   "metadata": {},
   "outputs": [],
   "source": [
    "data = np.random.normal(-5, 1, size=(1000,1))"
   ]
  },
  {
   "cell_type": "code",
   "execution_count": 13,
   "metadata": {},
   "outputs": [],
   "source": [
    "def sampleNoise(batch_size):\n",
    "    return (np.linspace(-7, -3, batch_size) + np.random.uniform(-0.01, 0.01, batch_size))[None].T"
   ]
  },
  {
   "cell_type": "code",
   "execution_count": 14,
   "metadata": {},
   "outputs": [],
   "source": [
    "def generate_data_for_dist(batch_size):\n",
    "    \n",
    "    real_data = np.random.choice(data[:,0], (batch_size, 1))\n",
    "    generated_data = sess.run(gen, feed_dict={z: sampleNoise(batch_size)})\n",
    "    \n",
    "    y = np.ones((2*batch_size, 1))\n",
    "    y[:batch_size] = 0\n",
    "    return np.concatenate((real_data, generated_data)),y"
   ]
  },
  {
   "cell_type": "code",
   "execution_count": 15,
   "metadata": {},
   "outputs": [],
   "source": [
    "if \"sess\" in dir():\n",
    "    sess.close()\n",
    "sess = tf.Session()\n",
    "sess.run(tf.global_variables_initializer())"
   ]
  },
  {
   "cell_type": "code",
   "execution_count": 16,
   "metadata": {},
   "outputs": [],
   "source": [
    "l = np.linspace(-12, 2, 100)[None].T\n",
    "noise = np.linspace(-10, 5, 100000)[None].T"
   ]
  },
  {
   "cell_type": "code",
   "execution_count": 17,
   "metadata": {
    "scrolled": false
   },
   "outputs": [
    {
     "data": {
      "image/png": "[encoded data removed]",
      "text/plain": [
       "<matplotlib.figure.Figure at 0x7fdde8c46cf8>"
      ]
     },
     "metadata": {},
     "output_type": "display_data"
    },
    {
     "name": "stdout",
     "output_type": "stream",
     "text": [
      "gen  0.6906501\n",
      "dis  0.6931503\n",
      "epoch 5000\n"
     ]
    }
   ],
   "source": [
    "num_epochs = 5000\n",
    "batch_size = 2\n",
    "\n",
    "glosshist=[]\n",
    "dlosshist=[]\n",
    "\n",
    "with tf.device(\"/device:GPU:0\"):\n",
    "    for epoch in range(num_epochs):\n",
    "\n",
    "        X, Y = generate_data_for_dist(batch_size)\n",
    "\n",
    "        _, dis_train_err = sess.run([train_dis, dloss], feed_dict={inX: X, y: Y})\n",
    "        _, gen_train_err = sess.run([train_gen, gloss],\n",
    "                                 feed_dict={z: sampleNoise(batch_size),\n",
    "                                            y: np.zeros((batch_size,1))})\n",
    "\n",
    "        dlosshist.append(dis_train_err)\n",
    "        glosshist.append(gen_train_err)\n",
    "\n",
    "        out = sess.run(dis_prob, feed_dict={inX: l})\n",
    "        generated = sess.run(gen, feed_dict={z: noise})\n",
    "        \n",
    "        clear_output(wait=True)\n",
    "        plt.figure(figsize=(12,12))\n",
    "        plt.subplot(211)\n",
    "        glh = np.array(glosshist[-500:])\n",
    "        dlh = np.array(dlosshist[-500:])\n",
    "        plt.plot(glh, label=\"generator loss\")\n",
    "        plt.plot(dlh, label=\"discriminator loss\")\n",
    "        plt.plot(glh + dlh, label=\"summary loss\")\n",
    "        plt.legend()\n",
    "\n",
    "        plt.subplot(212)\n",
    "        plt.plot(l, out);\n",
    "\n",
    "        plt.hist(data, 100, density=True)\n",
    "        plt.hist(generated, 100, density=True)\n",
    "        plt.ylim(0,2)\n",
    "\n",
    "        plt.show()\n",
    "\n",
    "        print(\"gen \", gen_train_err)\n",
    "        print(\"dis \", dis_train_err)\n",
    "        print(\"epoch\", len(glosshist))"
   ]
  },
  {
   "cell_type": "code",
   "execution_count": 18,
   "metadata": {},
   "outputs": [
    {
     "data": {
      "image/png": "[encoded data removed]",
      "text/plain": [
       "<matplotlib.figure.Figure at 0x7fdde92c5da0>"
      ]
     },
     "metadata": {},
     "output_type": "display_data"
    }
   ],
   "source": [
    "\n",
    "out = sess.run(dis_prob, feed_dict={inX: l})\n",
    "plt.subplot(212)\n",
    "plt.plot(l, out);\n",
    "\n",
    "# generated = sess.run(gen, feed_dict={z: noise})\n",
    "hist = np.histogram(generated, 100)\n",
    "plt.plot(hist[1][:-1], hist[0].astype(float)/len(generated));"
   ]
  },
  {
   "cell_type": "code",
   "execution_count": 19,
   "metadata": {},
   "outputs": [
    {
     "data": {
      "image/png": "[encoded data removed]",
      "text/plain": [
       "<matplotlib.figure.Figure at 0x7fdde862a780>"
      ]
     },
     "metadata": {},
     "output_type": "display_data"
    }
   ],
   "source": [
    "hist = np.histogram(generated, 100)\n",
    "plt.plot(hist[1][:-1], hist[0].astype(float)/len(generated));"
   ]
  },
  {
   "cell_type": "code",
   "execution_count": 20,
   "metadata": {},
   "outputs": [
    {
     "data": {
      "text/plain": [
       "array([[-6.3044558],\n",
       "       [-6.3044033],\n",
       "       [-6.3043513],\n",
       "       ...,\n",
       "       [-2.024552 ],\n",
       "       [-2.0245633],\n",
       "       [-2.0245752]], dtype=float32)"
      ]
     },
     "execution_count": 20,
     "metadata": {},
     "output_type": "execute_result"
    }
   ],
   "source": [
    "generated"
   ]
  },
  {
   "cell_type": "code",
   "execution_count": 21,
   "metadata": {},
   "outputs": [],
   "source": [
    "out = sess.run(dis_prob, feed_dict={inX: l})"
   ]
  },
  {
   "cell_type": "code",
   "execution_count": 22,
   "metadata": {},
   "outputs": [
    {
     "data": {
      "image/png": "[encoded data removed]",
      "text/plain": [
       "<matplotlib.figure.Figure at 0x7fde06931978>"
      ]
     },
     "metadata": {},
     "output_type": "display_data"
    }
   ],
   "source": [
    "plt.figure(figsize=(12,6))\n",
    "plt.plot(l, out);"
   ]
  },
  {
   "cell_type": "code",
   "execution_count": 23,
   "metadata": {},
   "outputs": [],
   "source": [
    "generated = sess.run(gen, feed_dict={z: np.linspace(-10,10,10000)[None].T})"
   ]
  },
  {
   "cell_type": "code",
   "execution_count": 24,
   "metadata": {},
   "outputs": [
    {
     "data": {
      "text/plain": [
       "(-6.3044558, -3.2790813, -1.7043269)"
      ]
     },
     "execution_count": 24,
     "metadata": {},
     "output_type": "execute_result"
    }
   ],
   "source": [
    "generated.min(), generated.mean(), generated.max()"
   ]
  },
  {
   "cell_type": "code",
   "execution_count": 25,
   "metadata": {},
   "outputs": [
    {
     "data": {
      "text/plain": [
       "(-8.435152592069873, -5.021743357929947, -2.20127537429546)"
      ]
     },
     "execution_count": 25,
     "metadata": {},
     "output_type": "execute_result"
    }
   ],
   "source": [
    "data.min(), data.mean(), data.max()"
   ]
  },
  {
   "cell_type": "code",
   "execution_count": 26,
   "metadata": {},
   "outputs": [
    {
     "data": {
      "image/png": "[encoded data removed]",
      "text/plain": [
       "<matplotlib.figure.Figure at 0x7fdde91c6320>"
      ]
     },
     "metadata": {},
     "output_type": "display_data"
    }
   ],
   "source": [
    "plt.figure(figsize=(12,6))\n",
    "plt.hist(generated, 10);"
   ]
  },
  {
   "cell_type": "code",
   "execution_count": 27,
   "metadata": {},
   "outputs": [
    {
     "data": {
      "image/png": "[encoded data removed]",
      "text/plain": [
       "<matplotlib.figure.Figure at 0x7fdde8596f98>"
      ]
     },
     "metadata": {},
     "output_type": "display_data"
    }
   ],
   "source": [
    "plt.hist(data, bins=50);"
   ]
  },
  {
   "cell_type": "code",
   "execution_count": null,
   "metadata": {},
   "outputs": [],
   "source": []
  },
  {
   "cell_type": "code",
   "execution_count": null,
   "metadata": {},
   "outputs": [],
   "source": []
  }
 ],
 "metadata": {
  "kernelspec": {
   "display_name": "Python 3",
   "language": "python",
   "name": "python3"
  },
  "language_info": {
   "codemirror_mode": {
    "name": "ipython",
    "version": 3
   },
   "file_extension": ".py",
   "mimetype": "text/x-python",
   "name": "python",
   "nbconvert_exporter": "python",
   "pygments_lexer": "ipython3",
   "version": "3.6.4"
  }
 },
 "nbformat": 4,
 "nbformat_minor": 1
}
