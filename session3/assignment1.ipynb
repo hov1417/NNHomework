{
 "cells": [
  {
   "cell_type": "markdown",
   "metadata": {},
   "source": [
    "# Text Classification: sentiment analysis."
   ]
  },
  {
   "cell_type": "markdown",
   "metadata": {},
   "source": [
    "### Data"
   ]
  },
  {
   "cell_type": "markdown",
   "metadata": {},
   "source": [
    "The dataset we will use of this problem is known as the Stanford Sentiment Treebank. Movie reviews with one sentence per review:\n",
    "* `sst.bin.*` with binary labels: negative or positive\n",
    "* `sst.fine.*` with fine-grained labels (very negative, negative, neutral, positive, very positive),"
   ]
  },
  {
   "cell_type": "code",
   "execution_count": 1,
   "metadata": {},
   "outputs": [
    {
     "name": "stderr",
     "output_type": "stream",
     "text": [
      "/home/hov/anaconda3/lib/python3.6/site-packages/h5py/__init__.py:36: FutureWarning: Conversion of the second argument of issubdtype from `float` to `np.floating` is deprecated. In future, it will be treated as `np.float64 == np.dtype(float).type`.\n",
      "  from ._conv import register_converters as _register_converters\n",
      "Using TensorFlow backend.\n"
     ]
    }
   ],
   "source": [
    "import keras\n",
    "import numpy as np\n",
    "from matplotlib import pyplot as plt"
   ]
  },
  {
   "cell_type": "code",
   "execution_count": 2,
   "metadata": {},
   "outputs": [
    {
     "name": "stdout",
     "output_type": "stream",
     "text": [
      "Train:      6920   Mean sentence length: 19.3\n",
      "Validation: 872\n",
      "Test:       1821\n"
     ]
    }
   ],
   "source": [
    "with open(\"data/sst.bin.train\", \"r\") as f:\n",
    "    train = [(int(x.split()[0]), x.split()[1:]) for x in f.readlines()]\n",
    "with open(\"data/sst.bin.val\", \"r\") as f:\n",
    "    val = [(int(x.split()[0]), x.split()[1:]) for x in f.readlines()]\n",
    "with open(\"data/sst.bin.test\", \"r\") as f:\n",
    "    test = [(x.split()[1:]) for x in f.readlines()]\n",
    "print(\"Train:     \", len(train), \"  Mean sentence length:\", np.mean([len(x[1]) for x in train]).round(2))\n",
    "print(\"Validation:\", len(val))\n",
    "print(\"Test:      \", len(test))"
   ]
  },
  {
   "cell_type": "code",
   "execution_count": 3,
   "metadata": {},
   "outputs": [],
   "source": [
    "from collections import Counter, defaultdict\n",
    "import itertools\n"
   ]
  },
  {
   "cell_type": "code",
   "execution_count": 4,
   "metadata": {},
   "outputs": [],
   "source": [
    "# calculate word frequencies\n",
    "word_frequencies = Counter(itertools.chain(\n",
    "    *((word for word in sample[1]) for sample in train)\n",
    "))"
   ]
  },
  {
   "cell_type": "code",
   "execution_count": 6,
   "metadata": {},
   "outputs": [
    {
     "name": "stdout",
     "output_type": "stream",
     "text": [
      "Vocabulary size: 14828\n"
     ]
    },
    {
     "data": {
      "image/png": "[encoded data removed]",
      "text/plain": [
       "<matplotlib.figure.Figure at 0x7f48403b1978>"
      ]
     },
     "metadata": {},
     "output_type": "display_data"
    }
   ],
   "source": [
    "print(\"Vocabulary size:\", len(word_frequencies))\n",
    "\n",
    "plt.plot([x[1] for x in word_frequencies.most_common()[::-1]])\n",
    "plt.ylim(0, 20);"
   ]
  },
  {
   "cell_type": "code",
   "execution_count": 7,
   "metadata": {},
   "outputs": [
    {
     "data": {
      "text/plain": [
       "(3592, 3594)"
      ]
     },
     "execution_count": 7,
     "metadata": {},
     "output_type": "execute_result"
    }
   ],
   "source": [
    "# indexing words\n",
    "\n",
    "PAD = 0 # padding\n",
    "UNK = 1 # unknown word\n",
    "vocab = dict()\n",
    "\n",
    "word_index = 2\n",
    "for w, c in word_frequencies.items():\n",
    "    if c > 3:\n",
    "        vocab[w] = word_index\n",
    "        word_index += 1\n",
    "\n",
    "len(vocab), word_index"
   ]
  },
  {
   "cell_type": "code",
   "execution_count": 9,
   "metadata": {},
   "outputs": [],
   "source": [
    "# change words with indices\n",
    "\n",
    "train_X = [[vocab.get(x, UNK) for x in sample[1]]\n",
    "                    for sample in train]\n",
    "train_y = [sample[0] for sample in train]\n",
    "\n",
    "max_len = np.sort([len(x) for x in train_X])\n",
    "\n",
    "val_X = [[vocab.get(x, UNK) for x in sample[1]]\n",
    "                    for sample in val]\n",
    "val_y = [sample[0] for sample in val]\n"
   ]
  },
  {
   "cell_type": "code",
   "execution_count": 10,
   "metadata": {},
   "outputs": [],
   "source": [
    "train_X = keras.preprocessing.sequence.pad_sequences(train_X, value=PAD)\n",
    "train_y = np.array(train_y)\n",
    "\n",
    "val_X = keras.preprocessing.sequence.pad_sequences(val_X, value=PAD)\n",
    "val_y = np.array(val_y)\n",
    "\n"
   ]
  },
  {
   "cell_type": "code",
   "execution_count": 11,
   "metadata": {},
   "outputs": [
    {
     "data": {
      "text/plain": [
       "((6920, 52), (6920,), (872, 47), (872,))"
      ]
     },
     "execution_count": 11,
     "metadata": {},
     "output_type": "execute_result"
    }
   ],
   "source": [
    "train_X.shape, train_y.shape, val_X.shape, val_y.shape"
   ]
  },
  {
   "cell_type": "code",
   "execution_count": 26,
   "metadata": {},
   "outputs": [],
   "source": [
    "from keras import Sequential\n",
    "from keras.layers import Embedding\n",
    "from keras.layers import LSTM\n",
    "from keras.layers import Dense\n",
    "from keras.layers import Dropout"
   ]
  },
  {
   "cell_type": "code",
   "execution_count": 27,
   "metadata": {},
   "outputs": [
    {
     "name": "stdout",
     "output_type": "stream",
     "text": [
      "_________________________________________________________________\n",
      "Layer (type)                 Output Shape              Param #   \n",
      "=================================================================\n",
      "embedding_8 (Embedding)      (None, None, 32)          115008    \n",
      "_________________________________________________________________\n",
      "lstm_13 (LSTM)               (None, None, 100)         53200     \n",
      "_________________________________________________________________\n",
      "dropout_1 (Dropout)          (None, None, 100)         0         \n",
      "_________________________________________________________________\n",
      "lstm_14 (LSTM)               (None, 10)                4440      \n",
      "_________________________________________________________________\n",
      "dense_5 (Dense)              (None, 1)                 11        \n",
      "=================================================================\n",
      "Total params: 172,659\n",
      "Trainable params: 172,659\n",
      "Non-trainable params: 0\n",
      "_________________________________________________________________\n",
      "None\n"
     ]
    }
   ],
   "source": [
    "# create the model\n",
    "embedding_vecor_length = 32\n",
    "model = Sequential()\n",
    "model.add(Embedding(word_index, embedding_vecor_length))\n",
    "model.add(LSTM(100, return_sequences=True))\n",
    "model.add(Dropout(0.5))\n",
    "model.add(LSTM(10))\n",
    "model.add(Dense(1, activation='sigmoid'))\n",
    "model.compile(loss='binary_crossentropy', optimizer='adam', metrics=['accuracy'])\n",
    "print(model.summary())"
   ]
  },
  {
   "cell_type": "code",
   "execution_count": 28,
   "metadata": {
    "scrolled": false
   },
   "outputs": [
    {
     "name": "stdout",
     "output_type": "stream",
     "text": [
      "Train on 6920 samples, validate on 872 samples\n",
      "Epoch 1/10\n",
      "6920/6920 [==============================] - 20s 3ms/step - loss: 0.6503 - acc: 0.5939 - val_loss: 0.5346 - val_acc: 0.7523\n",
      "Epoch 2/10\n",
      "6920/6920 [==============================] - 18s 3ms/step - loss: 0.4464 - acc: 0.8065 - val_loss: 0.4854 - val_acc: 0.7718\n",
      "Epoch 3/10\n",
      "6920/6920 [==============================] - 18s 3ms/step - loss: 0.3284 - acc: 0.8689 - val_loss: 0.5139 - val_acc: 0.7534\n",
      "Epoch 4/10\n",
      "6920/6920 [==============================] - 18s 3ms/step - loss: 0.2616 - acc: 0.9039 - val_loss: 0.5909 - val_acc: 0.7649\n",
      "Epoch 5/10\n",
      "6920/6920 [==============================] - 18s 3ms/step - loss: 0.2258 - acc: 0.9217 - val_loss: 0.5767 - val_acc: 0.7661\n",
      "Epoch 6/10\n",
      "6920/6920 [==============================] - 18s 3ms/step - loss: 0.1904 - acc: 0.9357 - val_loss: 0.6510 - val_acc: 0.7546\n",
      "Epoch 7/10\n",
      "6920/6920 [==============================] - 23s 3ms/step - loss: 0.1544 - acc: 0.9480 - val_loss: 0.7212 - val_acc: 0.7546\n",
      "Epoch 8/10\n",
      "6920/6920 [==============================] - 19s 3ms/step - loss: 0.1351 - acc: 0.9577 - val_loss: 0.8341 - val_acc: 0.7626\n",
      "Epoch 9/10\n",
      "6920/6920 [==============================] - 17s 2ms/step - loss: 0.1115 - acc: 0.9656 - val_loss: 0.9682 - val_acc: 0.7443\n",
      "Epoch 10/10\n",
      "6920/6920 [==============================] - 21s 3ms/step - loss: 0.1029 - acc: 0.9675 - val_loss: 0.8172 - val_acc: 0.7661\n"
     ]
    },
    {
     "data": {
      "text/plain": [
       "<keras.callbacks.History at 0x7f47c8624c50>"
      ]
     },
     "execution_count": 28,
     "metadata": {},
     "output_type": "execute_result"
    }
   ],
   "source": [
    "model.fit(train_X, train_y, validation_data=(val_X, val_y), epochs=10, batch_size=64)"
   ]
  },
  {
   "cell_type": "markdown",
   "metadata": {},
   "source": [
    "## Assignment\n",
    "\n",
    "Now it is your turn to build the models.\n",
    "I ask that you construct the following models:\n",
    "\n",
    "1. A naive Bayes unigram classifer (follow Wang and Manning http://www.aclweb.org/anthology/P/P12/P12-2.pdf#page=118: you should only implement Naive Bayes, not the combined classifer with SVM).\n",
    "2. A logistic regression model over word types (you can implement this as $y = \\sigma(\\sum_i W x_i + b)$) \n",
    "3. A continuous bag-of-word neural network with embeddings (similar to CBOW in Mikolov et al https://arxiv.org/pdf/1301.3781.pdf).\n",
    "4. A simple convolutional neural network (any variant of CNN as described in Kim http://aclweb.org/anthology/D/D14/D14-1181.pdf).\n",
    "5. Your own extensions to these models...\n",
    "\n",
    "[this](https://machinelearningmastery.com/sequence-classification-lstm-recurrent-neural-networks-python-keras/) will be useful\n",
    "<br>\n",
    "You can also use pretrained word vectors (https://s3-us-west-1.amazonaws.com/fasttext-vectors/wiki.simple.vec)\n",
    "\n",
    "\n",
    "Consult the papers provided for hyperparameters. "
   ]
  }
 ],
 "metadata": {
  "kernelspec": {
   "display_name": "Python 3",
   "language": "python",
   "name": "python3"
  },
  "language_info": {
   "codemirror_mode": {
    "name": "ipython",
    "version": 3
   },
   "file_extension": ".py",
   "mimetype": "text/x-python",
   "name": "python",
   "nbconvert_exporter": "python",
   "pygments_lexer": "ipython3",
   "version": "3.6.4"
  }
 },
 "nbformat": 4,
 "nbformat_minor": 2
}
