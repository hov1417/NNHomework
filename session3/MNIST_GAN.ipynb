{
 "cells": [
  {
   "cell_type": "code",
   "execution_count": 1,
   "metadata": {},
   "outputs": [],
   "source": [
    "import numpy as np\n",
    "import tensorflow as tf\n",
    "import matplotlib.pyplot as plt\n",
    "from IPython.display import clear_output\n",
    "from mpl_toolkits.mplot3d.axes3d import Axes3D"
   ]
  },
  {
   "cell_type": "code",
   "execution_count": 2,
   "metadata": {},
   "outputs": [],
   "source": [
    "from helper import *"
   ]
  },
  {
   "cell_type": "code",
   "execution_count": 3,
   "metadata": {},
   "outputs": [],
   "source": [
    "init = tf.initializers.random_uniform(-0.5,0.5)"
   ]
  },
  {
   "cell_type": "code",
   "execution_count": 4,
   "metadata": {},
   "outputs": [],
   "source": [
    "tf.reset_default_graph() "
   ]
  },
  {
   "cell_type": "code",
   "execution_count": 5,
   "metadata": {},
   "outputs": [],
   "source": [
    "def discriminator(inpt, reuse, name):\n",
    "    with tf.variable_scope(\"Discriminator\", reuse=reuse):\n",
    "        global dl5f\n",
    "#         dl1 = tf.layers.dense(inpt, 784, activation=tf.nn.relu, name=\"dl1\", kernel_initializer=init)\n",
    "        dl1 = tf.layers.conv2d(inpt, 30, 5, activation=tf.nn.relu, name=\"dl1\", kernel_initializer=init)\n",
    "        dl2 = tf.layers.max_pooling2d(dl1, 2, 2, name=\"dl2\")\n",
    "        \n",
    "        dl3 = tf.layers.dropout(dl2, name=\"dl3\")\n",
    "        \n",
    "        dl4 = tf.layers.conv2d(dl3, 20, 5, activation=tf.nn.relu, name=\"dl4\", kernel_initializer=init)\n",
    "        dl5p= tf.layers.max_pooling2d(dl4, 2, 2, name=\"dl5p\")\n",
    "        dl5f= tf.layers.flatten(dl5p)\n",
    "        \n",
    "        dl6 = tf.layers.dense(dl5f, 200, activation=tf.nn.relu, name=\"dl6\", kernel_initializer=init)\n",
    "        dl7 = tf.layers.dense( dl6, 100, activation=tf.nn.relu, name=\"dl7\", kernel_initializer=init)\n",
    "        dl8 = tf.layers.dense( dl7, 10, activation=tf.nn.relu, name=\"dl8\", kernel_initializer=init)\n",
    "        dis = tf.layers.dense( dl8, 1, name=\"dis\")\n",
    "        prob= tf.sigmoid(dis, name)\n",
    "    return prob"
   ]
  },
  {
   "cell_type": "code",
   "execution_count": 6,
   "metadata": {},
   "outputs": [],
   "source": [
    "noiseDim = 785\n",
    "inX = tf.placeholder(tf.float32, shape=[None, 28, 28, 1], name=\"X\")\n",
    "z  = tf.placeholder(tf.float32, shape=[None, noiseDim], name=\"z\")"
   ]
  },
  {
   "cell_type": "code",
   "execution_count": 7,
   "metadata": {},
   "outputs": [],
   "source": [
    "dis = discriminator(inX, False, \"discriminator\")"
   ]
  },
  {
   "cell_type": "code",
   "execution_count": 8,
   "metadata": {},
   "outputs": [],
   "source": [
    "with tf.variable_scope(\"Generator\"):\n",
    "\n",
    "    gl1 = tf.layers.dense(z,   1000, activation=tf.nn.leaky_relu, name=\"gl1\", kernel_initializer=init)\n",
    "    gl2 = tf.layers.dense(gl1, 800, activation=tf.nn.leaky_relu, name=\"gl2\", kernel_initializer=init)\n",
    "    gl3 = tf.layers.dense(gl2, 784, activation=tf.nn.leaky_relu, name=\"gl3\", kernel_initializer=init)\n",
    "    gl4 = tf.layers.dense(gl3, 784, activation=tf.nn.leaky_relu, name=\"gl4\", kernel_initializer=init)\n",
    "    gen = tf.reshape(gl4, (-1, 28, 28, 1), name=\"gen\")\n",
    "#     gen = tf.layers.dense(gl4, 2, name=\"gen\")\n",
    "\n",
    "combined = discriminator(gen, True, \"combined\")"
   ]
  },
  {
   "cell_type": "code",
   "execution_count": 9,
   "metadata": {},
   "outputs": [],
   "source": [
    "gen_vars  = tf.get_collection(tf.GraphKeys.GLOBAL_VARIABLES, scope=\"Generator\")\n",
    "disc_vars = tf.get_collection(tf.GraphKeys.GLOBAL_VARIABLES, scope=\"Discriminator\")"
   ]
  },
  {
   "cell_type": "code",
   "execution_count": 10,
   "metadata": {},
   "outputs": [],
   "source": [
    "gloss = tf.reduce_mean(tf.log(1 - combined))"
   ]
  },
  {
   "cell_type": "code",
   "execution_count": 11,
   "metadata": {},
   "outputs": [],
   "source": [
    "dloss = - tf.reduce_mean(tf.log(dis) + tf.log(1 - combined))"
   ]
  },
  {
   "cell_type": "code",
   "execution_count": 12,
   "metadata": {},
   "outputs": [],
   "source": [
    "load = np.load(\"mnist.npz\").items()\n",
    "_X = load[0][1].reshape(-1, 28, 28, 1)\n",
    "_Y = load[1][1]"
   ]
  },
  {
   "cell_type": "code",
   "execution_count": 13,
   "metadata": {},
   "outputs": [],
   "source": [
    "data = _X[(_Y == 0) | (_Y == 1) ]"
   ]
  },
  {
   "cell_type": "code",
   "execution_count": 14,
   "metadata": {},
   "outputs": [
    {
     "name": "stdout",
     "output_type": "stream",
     "text": [
      "(14780, 28, 28, 1) 0.0 0.12147417153600294 1.0\n"
     ]
    }
   ],
   "source": [
    "describe(data)"
   ]
  },
  {
   "cell_type": "code",
   "execution_count": 15,
   "metadata": {},
   "outputs": [],
   "source": [
    "writer = tf.summary.FileWriter('log/')\n",
    "writer.add_graph(tf.get_default_graph())\n",
    "writer.close()"
   ]
  },
  {
   "cell_type": "code",
   "execution_count": 16,
   "metadata": {},
   "outputs": [],
   "source": [
    "train_gen = tf.train.AdamOptimizer(1e-3).minimize(gloss, var_list=gen_vars)\n",
    "train_dis = tf.train.AdamOptimizer(1e-3).minimize(dloss, var_list=disc_vars)"
   ]
  },
  {
   "cell_type": "code",
   "execution_count": 17,
   "metadata": {},
   "outputs": [],
   "source": [
    "def noiseGenerator(batch_size, mean_rng=[-100, 100]):\n",
    "    while True:\n",
    "        yield np.random.uniform(*mean_rng, (batch_size, noiseDim))"
   ]
  },
  {
   "cell_type": "code",
   "execution_count": 18,
   "metadata": {},
   "outputs": [],
   "source": [
    "if \"sess\" in dir():\n",
    "    sess.close()\n",
    "sess = tf.Session()\n",
    "sess.run(tf.global_variables_initializer())"
   ]
  },
  {
   "cell_type": "code",
   "execution_count": 19,
   "metadata": {},
   "outputs": [],
   "source": [
    "l = np.linspace(-20, 20, 100)\n",
    "meshgrid = np.meshgrid(l, l)\n",
    "l2 = np.array(meshgrid).T.reshape(-1, 2)"
   ]
  },
  {
   "cell_type": "code",
   "execution_count": 20,
   "metadata": {},
   "outputs": [],
   "source": [
    "def plot():\n",
    "    clear_output(wait=True)\n",
    "    fig = plt.figure(figsize=(15,20))\n",
    "\n",
    "    plt.subplot(211)\n",
    "    plt.title(\"Loss\")\n",
    "    plt.plot(-glh, label=\"generator loss\")\n",
    "    plt.plot( dlh, label=\"discriminator loss\")\n",
    "    plt.legend()\n",
    "\n",
    "\n",
    "#     plt.title(\"Generated numbers\")\n",
    "#     plt.grid(None)\n",
    "    for i in range(len(generated)):\n",
    "        plt.subplot(10*2, 10, 100 + i)\n",
    "        plt.imshow(generated[i].reshape((28, 28)))\n",
    "        \n",
    "    plt.show()"
   ]
  },
  {
   "cell_type": "code",
   "execution_count": 21,
   "metadata": {},
   "outputs": [],
   "source": [
    "def info():\n",
    "    print(\"gen:\", -gen_train_err)\n",
    "    print(\"dis:\", dis_train_err)\n",
    "    print(\"epoch:\", len(glosshist))\n",
    "    print(\"distance: \", dist)\n",
    "    print(\"has nan:\", np.any(np.isnan(generated)))"
   ]
  },
  {
   "cell_type": "code",
   "execution_count": 22,
   "metadata": {},
   "outputs": [],
   "source": [
    "maxIter = 100000\n",
    "eps = 0\n",
    "batch_size = 20\n",
    "k = 10"
   ]
  },
  {
   "cell_type": "code",
   "execution_count": 25,
   "metadata": {},
   "outputs": [
    {
     "data": {
      "text/plain": [
       "(20, 28, 28, 1)"
      ]
     },
     "execution_count": 25,
     "metadata": {},
     "output_type": "execute_result"
    }
   ],
   "source": [
    "data[np.random.choice(len(data), batch_size)].shape"
   ]
  },
  {
   "cell_type": "code",
   "execution_count": 27,
   "metadata": {},
   "outputs": [
    {
     "data": {
      "text/plain": [
       "(20, 785)"
      ]
     },
     "execution_count": 27,
     "metadata": {},
     "output_type": "execute_result"
    }
   ],
   "source": [
    "next(noise1).shape"
   ]
  },
  {
   "cell_type": "code",
   "execution_count": 28,
   "metadata": {},
   "outputs": [
    {
     "data": {
      "text/plain": [
       "TensorShape([Dimension(None), Dimension(785)])"
      ]
     },
     "execution_count": 28,
     "metadata": {},
     "output_type": "execute_result"
    }
   ],
   "source": [
    "z.shape"
   ]
  },
  {
   "cell_type": "code",
   "execution_count": null,
   "metadata": {},
   "outputs": [],
   "source": []
  },
  {
   "cell_type": "code",
   "execution_count": null,
   "metadata": {},
   "outputs": [],
   "source": []
  },
  {
   "cell_type": "code",
   "execution_count": 30,
   "metadata": {
    "scrolled": false
   },
   "outputs": [
    {
     "name": "stderr",
     "output_type": "stream",
     "text": [
      "C:\\Users\\hovhannes.sahakyan\\AppData\\Local\\Continuum\\anaconda3\\envs\\tensorflow\\lib\\site-packages\\matplotlib\\image.py:405: UserWarning: Warning: converting a masked element to nan.\n",
      "  dv = (np.float64(self.norm.vmax) -\n",
      "C:\\Users\\hovhannes.sahakyan\\AppData\\Local\\Continuum\\anaconda3\\envs\\tensorflow\\lib\\site-packages\\matplotlib\\image.py:406: UserWarning: Warning: converting a masked element to nan.\n",
      "  np.float64(self.norm.vmin))\n",
      "C:\\Users\\hovhannes.sahakyan\\AppData\\Local\\Continuum\\anaconda3\\envs\\tensorflow\\lib\\site-packages\\matplotlib\\image.py:412: UserWarning: Warning: converting a masked element to nan.\n",
      "  a_min = np.float64(newmin)\n",
      "C:\\Users\\hovhannes.sahakyan\\AppData\\Local\\Continuum\\anaconda3\\envs\\tensorflow\\lib\\site-packages\\matplotlib\\image.py:417: UserWarning: Warning: converting a masked element to nan.\n",
      "  a_max = np.float64(newmax)\n",
      "C:\\Users\\hovhannes.sahakyan\\AppData\\Local\\Continuum\\anaconda3\\envs\\tensorflow\\lib\\site-packages\\matplotlib\\colors.py:916: UserWarning: Warning: converting a masked element to nan.\n",
      "  dtype = np.min_scalar_type(value)\n",
      "C:\\Users\\hovhannes.sahakyan\\AppData\\Local\\Continuum\\anaconda3\\envs\\tensorflow\\lib\\site-packages\\numpy\\ma\\core.py:716: UserWarning: Warning: converting a masked element to nan.\n",
      "  data = np.array(a, copy=False, subok=subok)\n"
     ]
    },
    {
     "data": {
      "image/png": "[encoded data removed]",
      "text/plain": [
       "<Figure size 1080x1440 with 100 Axes>"
      ]
     },
     "metadata": {},
     "output_type": "display_data"
    },
    {
     "name": "stdout",
     "output_type": "stream",
     "text": [
      "gen: nan\n",
      "dis: nan\n",
      "epoch: 20\n",
      "distance:  nan\n",
      "has nan: True\n"
     ]
    },
    {
     "name": "stderr",
     "output_type": "stream",
     "text": [
      "C:\\Users\\hovhannes.sahakyan\\AppData\\Local\\Continuum\\anaconda3\\envs\\tensorflow\\lib\\site-packages\\ipykernel_launcher.py:8: RuntimeWarning: invalid value encountered in greater\n",
      "  \n"
     ]
    }
   ],
   "source": [
    "glosshist=[]\n",
    "dlosshist=[]\n",
    "\n",
    "noise1 = noiseGenerator(batch_size, [-10, 10])\n",
    "noise2 = noiseGenerator(100, [-12, 12])\n",
    "\n",
    "dist = 100\n",
    "while  dist > eps:\n",
    "    X = data[np.random.choice(len(data), batch_size)]\n",
    "\n",
    "    for i in range(k):\n",
    "        _, dis_train_err = sess.run([train_dis, dloss], feed_dict={inX: X, z: next(noise1)})\n",
    "    _, gen_train_err = sess.run([train_gen, gloss], feed_dict={inX: X, z: next(noise1)})\n",
    "\n",
    "    glosshist.append(gen_train_err)\n",
    "    dlosshist.append(dis_train_err)\n",
    "\n",
    "    if len(glosshist)%20 == 0:\n",
    "#         out = sess.run(dis, feed_dict={inX: l2})\n",
    "        generated = sess.run(gen, feed_dict={z: next(noise2)})\n",
    "        \n",
    "        dist = np.abs(glosshist[-1]-glosshist[-2]) + np.abs(dlosshist[-1]-dlosshist[-2])\n",
    "        \n",
    "        glh = np.array(glosshist[-500:])\n",
    "        dlh = np.array(dlosshist[-500:])\n",
    "        plot()\n",
    "        info()\n",
    "    \n",
    "    if len(glosshist) >= maxIter:\n",
    "        break"
   ]
  },
  {
   "cell_type": "code",
   "execution_count": null,
   "metadata": {},
   "outputs": [],
   "source": [
    "allDone()"
   ]
  },
  {
   "cell_type": "markdown",
   "metadata": {},
   "source": [
    " "
   ]
  },
  {
   "cell_type": "code",
   "execution_count": null,
   "metadata": {},
   "outputs": [],
   "source": []
  }
 ],
 "metadata": {
  "kernelspec": {
   "display_name": "Python 3",
   "language": "python",
   "name": "python3"
  },
  "language_info": {
   "codemirror_mode": {
    "name": "ipython",
    "version": 3
   },
   "file_extension": ".py",
   "mimetype": "text/x-python",
   "name": "python",
   "nbconvert_exporter": "python",
   "pygments_lexer": "ipython3",
   "version": "3.5.5"
  }
 },
 "nbformat": 4,
 "nbformat_minor": 2
}
